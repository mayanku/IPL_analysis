{
 "cells": [
  {
   "cell_type": "code",
   "execution_count": 1,
   "metadata": {},
   "outputs": [],
   "source": [
    "#pandas and numpy package\n",
    "import pandas as pd\n",
    "import numpy as np"
   ]
  },
  {
   "cell_type": "code",
   "execution_count": 2,
   "metadata": {},
   "outputs": [],
   "source": [
    "#reading match_analysis\n",
    "df_match=pd.read_csv('C:/Users/Mayank Gupta/Desktop/IPL_analysis/Datasets/match_data.csv') "
   ]
  },
  {
   "cell_type": "code",
   "execution_count": 3,
   "metadata": {},
   "outputs": [],
   "source": [
    "#All the matches CSK played\n",
    "df_csk=df_match[df_match.team1_id=='CSK'] \n",
    "df_csk_2=df_match[df_match.team2_id=='CSK']\n",
    "df_csk_matches=pd.concat([df_csk,df_csk_2]) #All the matches RCB played "
   ]
  },
  {
   "cell_type": "code",
   "execution_count": 4,
   "metadata": {},
   "outputs": [
    {
     "name": "stderr",
     "output_type": "stream",
     "text": [
      "C:\\Users\\Mayank Gupta\\AppData\\Local\\Continuum\\Anaconds\\anaconda3\\lib\\site-packages\\ipykernel_launcher.py:8: UserWarning: Boolean Series key will be reindexed to match DataFrame index.\n",
      "  \n"
     ]
    }
   ],
   "source": [
    "#to find the season wise wins of CSK\n",
    "import sys\n",
    "wins=[]\n",
    "season=[]\n",
    "for i in range(2008,2018):\n",
    "    seasonwisewins=df_csk_matches[df_csk_matches.season==i]\n",
    "    season.append(i)\n",
    "    wins.append(len(seasonwisewins[df_csk_matches.winner=='CSK']))"
   ]
  },
  {
   "cell_type": "code",
   "execution_count": 5,
   "metadata": {},
   "outputs": [],
   "source": [
    "dictionary_csk_wins = dict(zip(season, wins)) #dictionary containing season and number wins"
   ]
  },
  {
   "cell_type": "code",
   "execution_count": 6,
   "metadata": {},
   "outputs": [
    {
     "data": {
      "text/plain": [
       "{2008: 9,\n",
       " 2009: 8,\n",
       " 2010: 9,\n",
       " 2011: 11,\n",
       " 2012: 10,\n",
       " 2013: 12,\n",
       " 2014: 10,\n",
       " 2015: 10,\n",
       " 2016: 0,\n",
       " 2017: 0}"
      ]
     },
     "execution_count": 6,
     "metadata": {},
     "output_type": "execute_result"
    }
   ],
   "source": [
    "dictionary_csk_wins"
   ]
  },
  {
   "cell_type": "code",
   "execution_count": 7,
   "metadata": {},
   "outputs": [],
   "source": [
    "season=list(map(str,season)) #convert list of int to list of strings"
   ]
  },
  {
   "cell_type": "markdown",
   "metadata": {},
   "source": [
    "<b>CSK did not play 2016 and 2017 season </b>"
   ]
  },
  {
   "cell_type": "code",
   "execution_count": 8,
   "metadata": {},
   "outputs": [
    {
     "data": {
      "image/png": "[encoded data removed]",
      "text/plain": [
       "<Figure size 432x288 with 1 Axes>"
      ]
     },
     "metadata": {
      "needs_background": "light"
     },
     "output_type": "display_data"
    }
   ],
   "source": [
    "import matplotlib.pyplot as plt\n",
    "%matplotlib inline\n",
    "\n",
    "names = list(dictionary_csk_wins.keys())\n",
    "values = list(dictionary_csk_wins.values())\n",
    "\n",
    "#tick_label does the some work as plt.xticks()\n",
    "plt.bar(range(len(dictionary_csk_wins)),values,tick_label=names,color='red')\n",
    "plt.show()"
   ]
  },
  {
   "cell_type": "code",
   "execution_count": 9,
   "metadata": {},
   "outputs": [
    {
     "data": {
      "text/html": [
       "        <script type=\"text/javascript\">\n",
       "        window.PlotlyConfig = {MathJaxConfig: 'local'};\n",
       "        if (window.MathJax) {MathJax.Hub.Config({SVG: {font: \"STIX-Web\"}});}\n",
       "        if (typeof require !== 'undefined') {\n",
       "        require.undef(\"plotly\");\n",
       "        requirejs.config({\n",
       "            paths: {\n",
       "                'plotly': ['https://cdn.plot.ly/plotly-latest.min']\n",
       "            }\n",
       "        });\n",
       "        require(['plotly'], function(Plotly) {\n",
       "            window._Plotly = Plotly;\n",
       "        });\n",
       "        }\n",
       "        </script>\n",
       "        "
      ]
     },
     "metadata": {},
     "output_type": "display_data"
    },
    {
     "data": {
      "text/html": [
       "        <script type=\"text/javascript\">\n",
       "        window.PlotlyConfig = {MathJaxConfig: 'local'};\n",
       "        if (window.MathJax) {MathJax.Hub.Config({SVG: {font: \"STIX-Web\"}});}\n",
       "        if (typeof require !== 'undefined') {\n",
       "        require.undef(\"plotly\");\n",
       "        requirejs.config({\n",
       "            paths: {\n",
       "                'plotly': ['https://cdn.plot.ly/plotly-latest.min']\n",
       "            }\n",
       "        });\n",
       "        require(['plotly'], function(Plotly) {\n",
       "            window._Plotly = Plotly;\n",
       "        });\n",
       "        }\n",
       "        </script>\n",
       "        "
      ]
     },
     "metadata": {},
     "output_type": "display_data"
    }
   ],
   "source": [
    "# Standard plotly imports\n",
    "import chart_studio \n",
    "import chart_studio.plotly as py\n",
    "import plotly.graph_objs as go\n",
    "from plotly.offline import iplot, init_notebook_mode,plot\n",
    "import cufflinks as cf\n",
    "cf.go_offline(connected=True)\n",
    "init_notebook_mode(connected=True)\n"
   ]
  },
  {
   "cell_type": "code",
   "execution_count": 17,
   "metadata": {},
   "outputs": [
    {
     "data": {
      "application/vnd.plotly.v1+json": {
       "config": {
        "linkText": "Export to plot.ly",
        "plotlyServerURL": "https://plot.ly",
        "showLink": false
       },
       "data": [
        {
         "marker": {
          "color": "rgb(255,255,51)"
         },
         "name": "Wins",
         "type": "bar",
         "uid": "18f54601-1e27-4885-a32b-c674089dd980",
         "x": [
          2008,
          2009,
          2010,
          2011,
          2012,
          2013,
          2014,
          2015,
          2016,
          2017
         ],
         "y": [
          9,
          8,
          9,
          11,
          10,
          12,
          10,
          10,
          0,
          0
         ]
        }
       ],
       "layout": {
        "showlegend": false,
        "title": {
         "text": "Season Wise Wins"
        },
        "xaxis": {
         "tickangle": -45,
         "tickmode": "linear",
         "title": {
          "font": {
           "color": "rgb(107, 107, 107)",
           "size": 16
          },
          "text": "Year"
         }
        },
        "yaxis": {
         "tickfont": {
          "color": "rgb(107, 107, 107)",
          "size": 14
         },
         "title": {
          "font": {
           "color": "rgb(107, 107, 107)",
           "size": 16
          },
          "text": "Number Of Wins"
         }
        }
       }
      },
      "text/html": [
       "<div>\n",
       "        \n",
       "        \n",
       "            <div id=\"8489e815-f95b-477f-80f5-111e1f8053f1\" class=\"plotly-graph-div\" style=\"height:525px; width:100%;\"></div>\n",
       "            <script type=\"text/javascript\">\n",
       "                require([\"plotly\"], function(Plotly) {\n",
       "                    window.PLOTLYENV=window.PLOTLYENV || {};\n",
       "                    window.PLOTLYENV.BASE_URL='https://plot.ly';\n",
       "                    \n",
       "                if (document.getElementById(\"8489e815-f95b-477f-80f5-111e1f8053f1\")) {\n",
       "                    Plotly.newPlot(\n",
       "                        '8489e815-f95b-477f-80f5-111e1f8053f1',\n",
       "                        [{\"marker\": {\"color\": \"rgb(255,255,51)\"}, \"name\": \"Wins\", \"type\": \"bar\", \"uid\": \"18f54601-1e27-4885-a32b-c674089dd980\", \"x\": [2008, 2009, 2010, 2011, 2012, 2013, 2014, 2015, 2016, 2017], \"y\": [9, 8, 9, 11, 10, 12, 10, 10, 0, 0]}],\n",
       "                        {\"showlegend\": false, \"title\": {\"text\": \"Season Wise Wins\"}, \"xaxis\": {\"tickangle\": -45, \"tickmode\": \"linear\", \"title\": {\"font\": {\"color\": \"rgb(107, 107, 107)\", \"size\": 16}, \"text\": \"Year\"}}, \"yaxis\": {\"tickfont\": {\"color\": \"rgb(107, 107, 107)\", \"size\": 14}, \"title\": {\"font\": {\"color\": \"rgb(107, 107, 107)\", \"size\": 16}, \"text\": \"Number Of Wins\"}}},\n",
       "                        {\"showLink\": false, \"linkText\": \"Export to plot.ly\", \"plotlyServerURL\": \"https://plot.ly\", \"responsive\": true}\n",
       "                    ).then(function(){\n",
       "                            \n",
       "var gd = document.getElementById('8489e815-f95b-477f-80f5-111e1f8053f1');\n",
       "var x = new MutationObserver(function (mutations, observer) {{\n",
       "        var display = window.getComputedStyle(gd).display;\n",
       "        if (!display || display === 'none') {{\n",
       "            console.log([gd, 'removed!']);\n",
       "            Plotly.purge(gd);\n",
       "            observer.disconnect();\n",
       "        }}\n",
       "}});\n",
       "\n",
       "// Listen for the removal of the full notebook cells\n",
       "var notebookContainer = gd.closest('#notebook-container');\n",
       "if (notebookContainer) {{\n",
       "    x.observe(notebookContainer, {childList: true});\n",
       "}}\n",
       "\n",
       "// Listen for the clearing of the current output cell\n",
       "var outputEl = gd.closest('.output');\n",
       "if (outputEl) {{\n",
       "    x.observe(outputEl, {childList: true});\n",
       "}}\n",
       "\n",
       "                        })\n",
       "                };\n",
       "                });\n",
       "            </script>\n",
       "        </div>"
      ]
     },
     "metadata": {},
     "output_type": "display_data"
    }
   ],
   "source": [
    "data = [go.Bar(\n",
    "            x=names,\n",
    "            y=values,\n",
    "            marker=dict(color='rgb(255,255,51)'), \n",
    "            name=\"Wins\",\n",
    "            \n",
    "    )]\n",
    "layout = go.Layout(\n",
    "    showlegend=False,\n",
    "    xaxis=dict(tickangle=-45,tickmode='linear',title='Year', titlefont=dict(\n",
    "            size=16,\n",
    "            color='rgb(107, 107, 107)'\n",
    "        )),title='Season Wise Wins',   \n",
    "         yaxis=dict(\n",
    "        title='Number Of Wins',\n",
    "        titlefont=dict(\n",
    "            size=16,\n",
    "            color='rgb(107, 107, 107)'\n",
    "        ),\n",
    "        tickfont=dict(\n",
    "            size=14,\n",
    "            color='rgb(107, 107, 107)'\n",
    "        )\n",
    "    ),\n",
    ")\n",
    "fig = go.Figure(data=data, layout=layout)\n",
    "\n",
    "iplot(fig, filename='style-bar')"
   ]
  },
  {
   "cell_type": "markdown",
   "metadata": {},
   "source": [
    "<b>Let us see CSK performance in and away from home Did it had a huge impact on their success Let us Find Out..</b>"
   ]
  },
  {
   "cell_type": "code",
   "execution_count": 20,
   "metadata": {},
   "outputs": [
    {
     "data": {
      "application/vnd.plotly.v1+json": {
       "config": {
        "linkText": "Export to plot.ly",
        "plotlyServerURL": "https://plot.ly",
        "showLink": false
       },
       "data": [
        {
         "labels": [
          "Home Wins",
          "Away Wins"
         ],
         "type": "pie",
         "uid": "6dc8cc37-6e6e-44c7-a181-0cad3d36cb1e",
         "values": [
          33,
          46
         ]
        }
       ],
       "layout": {}
      },
      "text/html": [
       "<div>\n",
       "        \n",
       "        \n",
       "            <div id=\"a0ba7d17-9567-4d84-a6ea-ca4cf420e673\" class=\"plotly-graph-div\" style=\"height:525px; width:100%;\"></div>\n",
       "            <script type=\"text/javascript\">\n",
       "                require([\"plotly\"], function(Plotly) {\n",
       "                    window.PLOTLYENV=window.PLOTLYENV || {};\n",
       "                    window.PLOTLYENV.BASE_URL='https://plot.ly';\n",
       "                    \n",
       "                if (document.getElementById(\"a0ba7d17-9567-4d84-a6ea-ca4cf420e673\")) {\n",
       "                    Plotly.newPlot(\n",
       "                        'a0ba7d17-9567-4d84-a6ea-ca4cf420e673',\n",
       "                        [{\"labels\": [\"Home Wins\", \"Away Wins\"], \"type\": \"pie\", \"uid\": \"6dc8cc37-6e6e-44c7-a181-0cad3d36cb1e\", \"values\": [33, 46]}],\n",
       "                        {},\n",
       "                        {\"showLink\": false, \"linkText\": \"Export to plot.ly\", \"plotlyServerURL\": \"https://plot.ly\", \"responsive\": true}\n",
       "                    ).then(function(){\n",
       "                            \n",
       "var gd = document.getElementById('a0ba7d17-9567-4d84-a6ea-ca4cf420e673');\n",
       "var x = new MutationObserver(function (mutations, observer) {{\n",
       "        var display = window.getComputedStyle(gd).display;\n",
       "        if (!display || display === 'none') {{\n",
       "            console.log([gd, 'removed!']);\n",
       "            Plotly.purge(gd);\n",
       "            observer.disconnect();\n",
       "        }}\n",
       "}});\n",
       "\n",
       "// Listen for the removal of the full notebook cells\n",
       "var notebookContainer = gd.closest('#notebook-container');\n",
       "if (notebookContainer) {{\n",
       "    x.observe(notebookContainer, {childList: true});\n",
       "}}\n",
       "\n",
       "// Listen for the clearing of the current output cell\n",
       "var outputEl = gd.closest('.output');\n",
       "if (outputEl) {{\n",
       "    x.observe(outputEl, {childList: true});\n",
       "}}\n",
       "\n",
       "                        })\n",
       "                };\n",
       "                });\n",
       "            </script>\n",
       "        </div>"
      ]
     },
     "metadata": {},
     "output_type": "display_data"
    }
   ],
   "source": [
    "wins=df_csk_matches[df_csk_matches.winner=='CSK']  \n",
    "wins_At_home=wins[wins.city=='Chennai']\n",
    "count_home=len(wins_At_home)\n",
    "wins_away=wins[wins.city!='Chennai']\n",
    "count_away=len(wins_away)\n",
    "labels = ['Home Wins','Away Wins']\n",
    "values = [count_home,count_away]\n",
    "trace = go.Pie(labels=labels, values=values)\n",
    "iplot([trace], filename='basic_pie_chart',show_link=False)"
   ]
  },
  {
   "cell_type": "markdown",
   "metadata": {},
   "source": [
    "<b>Of all the matches CSK won there 59% wins were from away games <br>Now Let us see toss dependency on CSK success</b>"
   ]
  },
  {
   "cell_type": "code",
   "execution_count": 21,
   "metadata": {},
   "outputs": [
    {
     "data": {
      "text/plain": [
       "42"
      ]
     },
     "execution_count": 21,
     "metadata": {},
     "output_type": "execute_result"
    }
   ],
   "source": [
    "toss_wins_match=wins[wins.toss_winner=='CSK']\n",
    "len(toss_wins_match)\n"
   ]
  },
  {
   "cell_type": "code",
   "execution_count": 22,
   "metadata": {},
   "outputs": [
    {
     "data": {
      "text/plain": [
       "37"
      ]
     },
     "execution_count": 22,
     "metadata": {},
     "output_type": "execute_result"
    }
   ],
   "source": [
    "loss_wins_match=wins[wins.toss_winner!='CSK']\n",
    "len(loss_wins_match)"
   ]
  },
  {
   "cell_type": "markdown",
   "metadata": {},
   "source": [
    "<b>They have won 42 matches when the won the toss and 37 while losing the toss</b>"
   ]
  },
  {
   "cell_type": "code",
   "execution_count": 23,
   "metadata": {},
   "outputs": [],
   "source": [
    "matches_won_batting_first=wins[wins.win_by_runs>0]\n",
    "batting_first=len(matches_won_batting_first)\n",
    "matches_won_chasing=wins[wins.win_by_wickets>0]\n",
    "batting_second=len(matches_won_chasing)"
   ]
  },
  {
   "cell_type": "code",
   "execution_count": 24,
   "metadata": {},
   "outputs": [
    {
     "name": "stdout",
     "output_type": "stream",
     "text": [
      "46\n",
      "33\n"
     ]
    }
   ],
   "source": [
    "print(batting_first)\n",
    "print(batting_second)"
   ]
  },
  {
   "cell_type": "markdown",
   "metadata": {},
   "source": [
    "<b>So CSK has won 46 matches batting first and 33 matches while chasing</b>"
   ]
  },
  {
   "cell_type": "code",
   "execution_count": 25,
   "metadata": {},
   "outputs": [],
   "source": [
    "man_of_the_match=wins['player_of_match'].value_counts()"
   ]
  },
  {
   "cell_type": "code",
   "execution_count": 26,
   "metadata": {},
   "outputs": [
    {
     "data": {
      "image/png": "[encoded data removed]",
      "text/plain": [
       "<Figure size 720x216 with 1 Axes>"
      ]
     },
     "metadata": {
      "needs_background": "light"
     },
     "output_type": "display_data"
    }
   ],
   "source": [
    "man_of_the_match.plot.bar(figsize=(10,3),xticks=man_of_the_match,yticks=man_of_the_match)\n",
    "plt.show()"
   ]
  },
  {
   "cell_type": "code",
   "execution_count": 27,
   "metadata": {},
   "outputs": [],
   "source": [
    "man_of_the_match_overall=wins['player_of_match'].value_counts()"
   ]
  },
  {
   "cell_type": "code",
   "execution_count": 29,
   "metadata": {},
   "outputs": [
    {
     "data": {
      "image/png": "[encoded data removed]",
      "text/plain": [
       "<Figure size 864x576 with 1 Axes>"
      ]
     },
     "metadata": {
      "needs_background": "light"
     },
     "output_type": "display_data"
    }
   ],
   "source": [
    "man_of_the_match_overall.plot.bar(figsize=(12,8),xticks=man_of_the_match_overall,yticks=man_of_the_match_overall,color='yellow')\n",
    "plt.show()"
   ]
  },
  {
   "cell_type": "markdown",
   "metadata": {},
   "source": [
    "<b>The CSK has more match winners than other teams we analyzed. We can see how important raina dhoni have been for them </b>"
   ]
  },
  {
   "cell_type": "code",
   "execution_count": 30,
   "metadata": {},
   "outputs": [
    {
     "data": {
      "text/plain": [
       "array(['CSK', 'KKR', 'DD', 'DC', 'KXI', 'RR', 'MI', 'RCB', 'PW', 'SRH'],\n",
       "      dtype=object)"
      ]
     },
     "execution_count": 30,
     "metadata": {},
     "output_type": "execute_result"
    }
   ],
   "source": [
    "wins['team1_id'].unique()"
   ]
  },
  {
   "cell_type": "code",
   "execution_count": 31,
   "metadata": {},
   "outputs": [],
   "source": [
    "rcb_loss=len(wins[(wins.team1_id =='RCB') | (wins.team2_id=='RCB')]) \n",
    "mi_loss=len(wins[(wins.team1_id =='MI') | (wins.team2_id=='MI')]) \n",
    "kxi_loss=len(wins[(wins.team1_id =='KXI') | (wins.team2_id=='KXI')])\n",
    "dd_loss=len(wins[(wins.team1_id =='DD') | (wins.team2_id=='DD')])\n",
    "rr_loss=len(wins[(wins.team1_id =='RR') | (wins.team2_id=='RR')])\n",
    "dc_loss=len(wins[(wins.team1_id =='DC') | (wins.team2_id=='DC')])\n",
    "kkr_loss=len(wins[(wins.team1_id =='KKR') | (wins.team2_id=='KKR')])\n",
    "srh_loss=len(wins[(wins.team1_id =='SRH') | (wins.team2_id=='SRH')])\n",
    "teams_loss=[rcb_loss,mi_loss,kxi_loss,dd_loss,rr_loss,dc_loss,kkr_loss,srh_loss]\n",
    "labelss=['RCB','MI','KXI','DD','RR','DC','KKR','SRH']"
   ]
  },
  {
   "cell_type": "code",
   "execution_count": 34,
   "metadata": {},
   "outputs": [
    {
     "data": {
      "application/vnd.plotly.v1+json": {
       "config": {
        "linkText": "Export to plot.ly",
        "plotlyServerURL": "https://plot.ly",
        "showLink": false
       },
       "data": [
        {
         "marker": {
          "color": [
           "#FF0000",
           "#0983FC",
           "#FB5304",
           "#4404FB",
           "#FB04D9",
           "#0939FA",
           "#000000",
           "#FA9B09"
          ]
         },
         "name": "Wins",
         "type": "bar",
         "uid": "a7654160-0faf-4385-b972-13987d0e9219",
         "x": [
          "RCB",
          "MI",
          "KXI",
          "DD",
          "RR",
          "DC",
          "KKR",
          "SRH"
         ],
         "y": [
          12,
          10,
          10,
          11,
          11,
          6,
          10,
          4
         ]
        }
       ],
       "layout": {
        "showlegend": false,
        "title": {
         "text": "CSK vs Different teams"
        },
        "xaxis": {
         "tickangle": -45,
         "tickmode": "linear",
         "title": {
          "font": {
           "size": 16
          },
          "text": "Teams"
         }
        },
        "yaxis": {
         "tickfont": {
          "size": 14
         },
         "title": {
          "font": {
           "size": 16
          },
          "text": "Number Of Wins"
         }
        }
       }
      },
      "text/html": [
       "<div>\n",
       "        \n",
       "        \n",
       "            <div id=\"6ba79b5a-e991-40ad-b1b4-74eb69f6dd9c\" class=\"plotly-graph-div\" style=\"height:525px; width:100%;\"></div>\n",
       "            <script type=\"text/javascript\">\n",
       "                require([\"plotly\"], function(Plotly) {\n",
       "                    window.PLOTLYENV=window.PLOTLYENV || {};\n",
       "                    window.PLOTLYENV.BASE_URL='https://plot.ly';\n",
       "                    \n",
       "                if (document.getElementById(\"6ba79b5a-e991-40ad-b1b4-74eb69f6dd9c\")) {\n",
       "                    Plotly.newPlot(\n",
       "                        '6ba79b5a-e991-40ad-b1b4-74eb69f6dd9c',\n",
       "                        [{\"marker\": {\"color\": [\"#FF0000\", \"#0983FC\", \"#FB5304\", \"#4404FB\", \"#FB04D9\", \"#0939FA\", \"#000000\", \"#FA9B09\"]}, \"name\": \"Wins\", \"type\": \"bar\", \"uid\": \"a7654160-0faf-4385-b972-13987d0e9219\", \"x\": [\"RCB\", \"MI\", \"KXI\", \"DD\", \"RR\", \"DC\", \"KKR\", \"SRH\"], \"y\": [12, 10, 10, 11, 11, 6, 10, 4]}],\n",
       "                        {\"showlegend\": false, \"title\": {\"text\": \"CSK vs Different teams\"}, \"xaxis\": {\"tickangle\": -45, \"tickmode\": \"linear\", \"title\": {\"font\": {\"size\": 16}, \"text\": \"Teams\"}}, \"yaxis\": {\"tickfont\": {\"size\": 14}, \"title\": {\"font\": {\"size\": 16}, \"text\": \"Number Of Wins\"}}},\n",
       "                        {\"showLink\": false, \"linkText\": \"Export to plot.ly\", \"plotlyServerURL\": \"https://plot.ly\", \"responsive\": true}\n",
       "                    ).then(function(){\n",
       "                            \n",
       "var gd = document.getElementById('6ba79b5a-e991-40ad-b1b4-74eb69f6dd9c');\n",
       "var x = new MutationObserver(function (mutations, observer) {{\n",
       "        var display = window.getComputedStyle(gd).display;\n",
       "        if (!display || display === 'none') {{\n",
       "            console.log([gd, 'removed!']);\n",
       "            Plotly.purge(gd);\n",
       "            observer.disconnect();\n",
       "        }}\n",
       "}});\n",
       "\n",
       "// Listen for the removal of the full notebook cells\n",
       "var notebookContainer = gd.closest('#notebook-container');\n",
       "if (notebookContainer) {{\n",
       "    x.observe(notebookContainer, {childList: true});\n",
       "}}\n",
       "\n",
       "// Listen for the clearing of the current output cell\n",
       "var outputEl = gd.closest('.output');\n",
       "if (outputEl) {{\n",
       "    x.observe(outputEl, {childList: true});\n",
       "}}\n",
       "\n",
       "                        })\n",
       "                };\n",
       "                });\n",
       "            </script>\n",
       "        </div>"
      ]
     },
     "metadata": {},
     "output_type": "display_data"
    }
   ],
   "source": [
    "data = [go.Bar(\n",
    "            x=labelss,\n",
    "            y=teams_loss,\n",
    "            marker=dict(color=['#FF0000','#0983FC','#FB5304','#4404FB','#FB04D9','#0939FA','#000000','#FA9B09']), \n",
    "            name=\"Wins\",            \n",
    "    )]\n",
    "layout = go.Layout(\n",
    "    showlegend=False,\n",
    "    xaxis=dict(tickangle=-45,tickmode='linear',title='Teams', titlefont=dict(\n",
    "            size=16,\n",
    "        \n",
    "        )),title='CSK vs Different teams',   \n",
    "         yaxis=dict(\n",
    "        title='Number Of Wins',\n",
    "        titlefont=dict(\n",
    "            size=16\n",
    "        ),\n",
    "        tickfont=dict(\n",
    "            size=14\n",
    "        )\n",
    "    ),\n",
    ")\n",
    "fig = go.Figure(data=data, layout=layout)\n",
    "iplot(fig, filename='style-bar',show_link=False)"
   ]
  },
  {
   "cell_type": "markdown",
   "metadata": {},
   "source": [
    "<b>It would be better if instead of number of wins we used win percentage</b>"
   ]
  },
  {
   "cell_type": "code",
   "execution_count": 35,
   "metadata": {},
   "outputs": [],
   "source": [
    "rcb_matches=len(df_csk_matches[(df_csk_matches.team1_id =='RCB') | (df_csk_matches.team2_id=='RCB')]) \n",
    "mi_matches=len(df_csk_matches[(df_csk_matches.team1_id =='MI') | (df_csk_matches.team2_id=='MI')]) \n",
    "kxi_matches=len(df_csk_matches[(df_csk_matches.team1_id =='KXI') | (df_csk_matches.team2_id=='KXI')])\n",
    "dd_matches=len(df_csk_matches[(df_csk_matches.team1_id =='DD') | (df_csk_matches.team2_id=='DD')])\n",
    "rr_matches=len(df_csk_matches[(df_csk_matches.team1_id =='RR') | (df_csk_matches.team2_id=='RR')])\n",
    "dc_matches=len(df_csk_matches[(df_csk_matches.team1_id =='DC') | (df_csk_matches.team2_id=='DC')])\n",
    "kkr_matches=len(df_csk_matches[(df_csk_matches.team1_id =='KKR') | (df_csk_matches.team2_id=='KKR')])\n",
    "srh_matches=len(df_csk_matches[(df_csk_matches.team1_id =='SRH') | (df_csk_matches.team2_id=='SRH')])\n",
    "teams_matches=[rcb_matches,mi_matches,kxi_matches,dd_matches,rr_matches,dc_matches,kkr_matches,srh_matches]\n",
    "labelss=['RCB','MI','KXI','DD','RR','DC','KKR','SRH']"
   ]
  },
  {
   "cell_type": "code",
   "execution_count": 36,
   "metadata": {},
   "outputs": [],
   "source": [
    "res_list = [teams_loss[i]/teams_matches[i]*100 for i in range(len(teams_matches))]"
   ]
  },
  {
   "cell_type": "code",
   "execution_count": 39,
   "metadata": {},
   "outputs": [
    {
     "data": {
      "application/vnd.plotly.v1+json": {
       "config": {
        "linkText": "Export to plot.ly",
        "plotlyServerURL": "https://plot.ly",
        "showLink": false
       },
       "data": [
        {
         "marker": {
          "color": [
           "#FF0000",
           "#0983FC",
           "#FB5304",
           "#4404FB",
           "#FB04D9",
           "#0939FA",
           "#000000",
           "#FA9B09"
          ]
         },
         "name": "Wins",
         "type": "bar",
         "uid": "ab5b8a97-0566-4cb3-a7a4-27e102dc9918",
         "x": [
          "RCB",
          "MI",
          "KXI",
          "DD",
          "RR",
          "DC",
          "KKR",
          "SRH"
         ],
         "y": [
          63.1578947368421,
          45.45454545454545,
          58.82352941176471,
          68.75,
          64.70588235294117,
          60,
          62.5,
          66.66666666666666
         ]
        }
       ],
       "layout": {
        "showlegend": false,
        "title": {
         "text": "CSK vs Different teams"
        },
        "xaxis": {
         "tickangle": -45,
         "tickmode": "linear",
         "title": {
          "font": {
           "size": 16
          },
          "text": "Teams"
         }
        },
        "yaxis": {
         "tickfont": {
          "size": 14
         },
         "title": {
          "font": {
           "size": 16
          },
          "text": "Win percentage"
         }
        }
       }
      },
      "text/html": [
       "<div>\n",
       "        \n",
       "        \n",
       "            <div id=\"17966633-0286-4eac-a7ac-b52ffb8d84d6\" class=\"plotly-graph-div\" style=\"height:525px; width:100%;\"></div>\n",
       "            <script type=\"text/javascript\">\n",
       "                require([\"plotly\"], function(Plotly) {\n",
       "                    window.PLOTLYENV=window.PLOTLYENV || {};\n",
       "                    window.PLOTLYENV.BASE_URL='https://plot.ly';\n",
       "                    \n",
       "                if (document.getElementById(\"17966633-0286-4eac-a7ac-b52ffb8d84d6\")) {\n",
       "                    Plotly.newPlot(\n",
       "                        '17966633-0286-4eac-a7ac-b52ffb8d84d6',\n",
       "                        [{\"marker\": {\"color\": [\"#FF0000\", \"#0983FC\", \"#FB5304\", \"#4404FB\", \"#FB04D9\", \"#0939FA\", \"#000000\", \"#FA9B09\"]}, \"name\": \"Wins\", \"type\": \"bar\", \"uid\": \"ab5b8a97-0566-4cb3-a7a4-27e102dc9918\", \"x\": [\"RCB\", \"MI\", \"KXI\", \"DD\", \"RR\", \"DC\", \"KKR\", \"SRH\"], \"y\": [63.1578947368421, 45.45454545454545, 58.82352941176471, 68.75, 64.70588235294117, 60.0, 62.5, 66.66666666666666]}],\n",
       "                        {\"showlegend\": false, \"title\": {\"text\": \"CSK vs Different teams\"}, \"xaxis\": {\"tickangle\": -45, \"tickmode\": \"linear\", \"title\": {\"font\": {\"size\": 16}, \"text\": \"Teams\"}}, \"yaxis\": {\"tickfont\": {\"size\": 14}, \"title\": {\"font\": {\"size\": 16}, \"text\": \"Win percentage\"}}},\n",
       "                        {\"showLink\": false, \"linkText\": \"Export to plot.ly\", \"plotlyServerURL\": \"https://plot.ly\", \"responsive\": true}\n",
       "                    ).then(function(){\n",
       "                            \n",
       "var gd = document.getElementById('17966633-0286-4eac-a7ac-b52ffb8d84d6');\n",
       "var x = new MutationObserver(function (mutations, observer) {{\n",
       "        var display = window.getComputedStyle(gd).display;\n",
       "        if (!display || display === 'none') {{\n",
       "            console.log([gd, 'removed!']);\n",
       "            Plotly.purge(gd);\n",
       "            observer.disconnect();\n",
       "        }}\n",
       "}});\n",
       "\n",
       "// Listen for the removal of the full notebook cells\n",
       "var notebookContainer = gd.closest('#notebook-container');\n",
       "if (notebookContainer) {{\n",
       "    x.observe(notebookContainer, {childList: true});\n",
       "}}\n",
       "\n",
       "// Listen for the clearing of the current output cell\n",
       "var outputEl = gd.closest('.output');\n",
       "if (outputEl) {{\n",
       "    x.observe(outputEl, {childList: true});\n",
       "}}\n",
       "\n",
       "                        })\n",
       "                };\n",
       "                });\n",
       "            </script>\n",
       "        </div>"
      ]
     },
     "metadata": {},
     "output_type": "display_data"
    }
   ],
   "source": [
    "data = [go.Bar(\n",
    "            x=labelss,\n",
    "            y=res_list,\n",
    "            marker=dict(color=['#FF0000','#0983FC','#FB5304','#4404FB','#FB04D9','#0939FA','#000000','#FA9B09']), \n",
    "            name=\"Wins\",            \n",
    "    )]\n",
    "layout = go.Layout(\n",
    "    showlegend=False,\n",
    "    xaxis=dict(tickangle=-45,tickmode='linear',title='Teams', titlefont=dict(\n",
    "            size=16,\n",
    "        \n",
    "        )),title='CSK vs Different teams',   \n",
    "         yaxis=dict(\n",
    "        title='Win percentage',\n",
    "        titlefont=dict(\n",
    "            size=16\n",
    "        ),\n",
    "        tickfont=dict(\n",
    "            size=14\n",
    "        )\n",
    "    ),\n",
    ")\n",
    "fig = go.Figure(data=data, layout=layout)\n",
    "iplot(fig, filename='style-bar',show_link=False)"
   ]
  },
  {
   "cell_type": "markdown",
   "metadata": {},
   "source": [
    "<b>This gives a better insight of CSK performance against different teams. Against MI whom they have won 45 % matches. With every other team they have won more than 50 % matches </b>"
   ]
  },
  {
   "cell_type": "code",
   "execution_count": null,
   "metadata": {},
   "outputs": [],
   "source": []
  }
 ],
 "metadata": {
  "kernelspec": {
   "display_name": "Python 3",
   "language": "python",
   "name": "python3"
  },
  "language_info": {
   "codemirror_mode": {
    "name": "ipython",
    "version": 3
   },
   "file_extension": ".py",
   "mimetype": "text/x-python",
   "name": "python",
   "nbconvert_exporter": "python",
   "pygments_lexer": "ipython3",
   "version": "3.7.3"
  }
 },
 "nbformat": 4,
 "nbformat_minor": 2
}
