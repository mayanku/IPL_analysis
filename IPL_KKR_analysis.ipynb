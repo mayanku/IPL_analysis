{
 "cells": [
  {
   "cell_type": "code",
   "execution_count": 1,
   "metadata": {},
   "outputs": [],
   "source": [
    "#pandas and numpy package\n",
    "import pandas as pd\n",
    "import numpy as np"
   ]
  },
  {
   "cell_type": "code",
   "execution_count": 2,
   "metadata": {},
   "outputs": [],
   "source": [
    "#reading match_analysis\n",
    "df_match=pd.read_csv('C:/Users/Mayank Gupta/Desktop/IPL_analysis/Datasets/match_data.csv') "
   ]
  },
  {
   "cell_type": "code",
   "execution_count": 3,
   "metadata": {},
   "outputs": [],
   "source": [
    "#All the matches RCB played\n",
    "df_kkr=df_match[df_match.team1_id=='KKR'] \n",
    "df_kkr_2=df_match[df_match.team2_id=='KKR']\n",
    "df_kkr_matches=pd.concat([df_kkr,df_kkr_2]) #All the matches RCB played "
   ]
  },
  {
   "cell_type": "code",
   "execution_count": 5,
   "metadata": {},
   "outputs": [
    {
     "name": "stderr",
     "output_type": "stream",
     "text": [
      "C:\\Users\\Mayank Gupta\\AppData\\Local\\Continuum\\Anaconds\\anaconda3\\lib\\site-packages\\ipykernel_launcher.py:8: UserWarning: Boolean Series key will be reindexed to match DataFrame index.\n",
      "  \n"
     ]
    }
   ],
   "source": [
    "#to find the season wise wins of kkr\n",
    "import sys\n",
    "wins=[]\n",
    "season=[]\n",
    "for i in range(2008,2018):\n",
    "    seasonwisewins=df_kkr_matches[df_kkr_matches.season==i]\n",
    "    season.append(i)\n",
    "    wins.append(len(seasonwisewins[df_kkr_matches.winner=='KKR']))"
   ]
  },
  {
   "cell_type": "code",
   "execution_count": 6,
   "metadata": {},
   "outputs": [],
   "source": [
    "dictionary_kkr_wins = dict(zip(season, wins)) #dictionary containing season and number wins"
   ]
  },
  {
   "cell_type": "code",
   "execution_count": 7,
   "metadata": {},
   "outputs": [
    {
     "data": {
      "text/plain": [
       "{2008: 6,\n",
       " 2009: 3,\n",
       " 2010: 7,\n",
       " 2011: 8,\n",
       " 2012: 12,\n",
       " 2013: 6,\n",
       " 2014: 11,\n",
       " 2015: 7,\n",
       " 2016: 8,\n",
       " 2017: 9}"
      ]
     },
     "execution_count": 7,
     "metadata": {},
     "output_type": "execute_result"
    }
   ],
   "source": [
    "dictionary_kkr_wins"
   ]
  },
  {
   "cell_type": "code",
   "execution_count": 8,
   "metadata": {},
   "outputs": [],
   "source": [
    "season=list(map(str,season)) #convert list of int to list of strings"
   ]
  },
  {
   "cell_type": "markdown",
   "metadata": {},
   "source": [
    "<b>KKR had best seasons in year 2012,2014,2019 </b>"
   ]
  },
  {
   "cell_type": "code",
   "execution_count": 10,
   "metadata": {},
   "outputs": [
    {
     "data": {
      "image/png": "[encoded data removed]",
      "text/plain": [
       "<Figure size 432x288 with 1 Axes>"
      ]
     },
     "metadata": {
      "needs_background": "light"
     },
     "output_type": "display_data"
    }
   ],
   "source": [
    "import matplotlib.pyplot as plt\n",
    "%matplotlib inline\n",
    "\n",
    "names = list(dictionary_kkr_wins.keys())\n",
    "values = list(dictionary_kkr_wins.values())\n",
    "\n",
    "#tick_label does the some work as plt.xticks()\n",
    "plt.bar(range(len(dictionary_kkr_wins)),values,tick_label=names,color='black')\n",
    "plt.show()"
   ]
  },
  {
   "cell_type": "code",
   "execution_count": 11,
   "metadata": {},
   "outputs": [
    {
     "data": {
      "text/html": [
       "        <script type=\"text/javascript\">\n",
       "        window.PlotlyConfig = {MathJaxConfig: 'local'};\n",
       "        if (window.MathJax) {MathJax.Hub.Config({SVG: {font: \"STIX-Web\"}});}\n",
       "        if (typeof require !== 'undefined') {\n",
       "        require.undef(\"plotly\");\n",
       "        requirejs.config({\n",
       "            paths: {\n",
       "                'plotly': ['https://cdn.plot.ly/plotly-latest.min']\n",
       "            }\n",
       "        });\n",
       "        require(['plotly'], function(Plotly) {\n",
       "            window._Plotly = Plotly;\n",
       "        });\n",
       "        }\n",
       "        </script>\n",
       "        "
      ]
     },
     "metadata": {},
     "output_type": "display_data"
    },
    {
     "data": {
      "text/html": [
       "        <script type=\"text/javascript\">\n",
       "        window.PlotlyConfig = {MathJaxConfig: 'local'};\n",
       "        if (window.MathJax) {MathJax.Hub.Config({SVG: {font: \"STIX-Web\"}});}\n",
       "        if (typeof require !== 'undefined') {\n",
       "        require.undef(\"plotly\");\n",
       "        requirejs.config({\n",
       "            paths: {\n",
       "                'plotly': ['https://cdn.plot.ly/plotly-latest.min']\n",
       "            }\n",
       "        });\n",
       "        require(['plotly'], function(Plotly) {\n",
       "            window._Plotly = Plotly;\n",
       "        });\n",
       "        }\n",
       "        </script>\n",
       "        "
      ]
     },
     "metadata": {},
     "output_type": "display_data"
    }
   ],
   "source": [
    "# Standard plotly imports\n",
    "import chart_studio \n",
    "import chart_studio.plotly as py\n",
    "import plotly.graph_objs as go\n",
    "from plotly.offline import iplot, init_notebook_mode,plot\n",
    "import cufflinks as cf\n",
    "cf.go_offline(connected=True)\n",
    "init_notebook_mode(connected=True)\n"
   ]
  },
  {
   "cell_type": "code",
   "execution_count": 14,
   "metadata": {},
   "outputs": [
    {
     "data": {
      "application/vnd.plotly.v1+json": {
       "config": {
        "linkText": "Export to plot.ly",
        "plotlyServerURL": "https://plot.ly",
        "showLink": false
       },
       "data": [
        {
         "marker": {
          "color": "#000000"
         },
         "name": "Wins",
         "type": "bar",
         "uid": "a19b8c4d-539a-4bb1-96d3-13a04cf0b04c",
         "x": [
          2008,
          2009,
          2010,
          2011,
          2012,
          2013,
          2014,
          2015,
          2016,
          2017
         ],
         "y": [
          6,
          3,
          7,
          8,
          12,
          6,
          11,
          7,
          8,
          9
         ]
        }
       ],
       "layout": {
        "showlegend": false,
        "title": {
         "text": "Season Wise Wins"
        },
        "xaxis": {
         "tickangle": -45,
         "tickmode": "linear",
         "title": {
          "font": {
           "color": "rgb(107, 107, 107)",
           "size": 16
          },
          "text": "Year"
         }
        },
        "yaxis": {
         "tickfont": {
          "color": "rgb(107, 107, 107)",
          "size": 14
         },
         "title": {
          "font": {
           "color": "rgb(107, 107, 107)",
           "size": 16
          },
          "text": "Number Of Wins"
         }
        }
       }
      },
      "text/html": [
       "<div>\n",
       "        \n",
       "        \n",
       "            <div id=\"b23597a0-2d1a-45cd-b4a8-4b41d90388a1\" class=\"plotly-graph-div\" style=\"height:525px; width:100%;\"></div>\n",
       "            <script type=\"text/javascript\">\n",
       "                require([\"plotly\"], function(Plotly) {\n",
       "                    window.PLOTLYENV=window.PLOTLYENV || {};\n",
       "                    window.PLOTLYENV.BASE_URL='https://plot.ly';\n",
       "                    \n",
       "                if (document.getElementById(\"b23597a0-2d1a-45cd-b4a8-4b41d90388a1\")) {\n",
       "                    Plotly.newPlot(\n",
       "                        'b23597a0-2d1a-45cd-b4a8-4b41d90388a1',\n",
       "                        [{\"marker\": {\"color\": \"#000000\"}, \"name\": \"Wins\", \"type\": \"bar\", \"uid\": \"a19b8c4d-539a-4bb1-96d3-13a04cf0b04c\", \"x\": [2008, 2009, 2010, 2011, 2012, 2013, 2014, 2015, 2016, 2017], \"y\": [6, 3, 7, 8, 12, 6, 11, 7, 8, 9]}],\n",
       "                        {\"showlegend\": false, \"title\": {\"text\": \"Season Wise Wins\"}, \"xaxis\": {\"tickangle\": -45, \"tickmode\": \"linear\", \"title\": {\"font\": {\"color\": \"rgb(107, 107, 107)\", \"size\": 16}, \"text\": \"Year\"}}, \"yaxis\": {\"tickfont\": {\"color\": \"rgb(107, 107, 107)\", \"size\": 14}, \"title\": {\"font\": {\"color\": \"rgb(107, 107, 107)\", \"size\": 16}, \"text\": \"Number Of Wins\"}}},\n",
       "                        {\"showLink\": false, \"linkText\": \"Export to plot.ly\", \"plotlyServerURL\": \"https://plot.ly\", \"responsive\": true}\n",
       "                    ).then(function(){\n",
       "                            \n",
       "var gd = document.getElementById('b23597a0-2d1a-45cd-b4a8-4b41d90388a1');\n",
       "var x = new MutationObserver(function (mutations, observer) {{\n",
       "        var display = window.getComputedStyle(gd).display;\n",
       "        if (!display || display === 'none') {{\n",
       "            console.log([gd, 'removed!']);\n",
       "            Plotly.purge(gd);\n",
       "            observer.disconnect();\n",
       "        }}\n",
       "}});\n",
       "\n",
       "// Listen for the removal of the full notebook cells\n",
       "var notebookContainer = gd.closest('#notebook-container');\n",
       "if (notebookContainer) {{\n",
       "    x.observe(notebookContainer, {childList: true});\n",
       "}}\n",
       "\n",
       "// Listen for the clearing of the current output cell\n",
       "var outputEl = gd.closest('.output');\n",
       "if (outputEl) {{\n",
       "    x.observe(outputEl, {childList: true});\n",
       "}}\n",
       "\n",
       "                        })\n",
       "                };\n",
       "                });\n",
       "            </script>\n",
       "        </div>"
      ]
     },
     "metadata": {},
     "output_type": "display_data"
    }
   ],
   "source": [
    "data = [go.Bar(\n",
    "            x=names,\n",
    "            y=values,\n",
    "            marker=dict(color='#000000'), \n",
    "            name=\"Wins\",\n",
    "            \n",
    "    )]\n",
    "layout = go.Layout(\n",
    "    showlegend=False,\n",
    "    xaxis=dict(tickangle=-45,tickmode='linear',title='Year', titlefont=dict(\n",
    "            size=16,\n",
    "            color='rgb(107, 107, 107)'\n",
    "        )),title='Season Wise Wins',   \n",
    "         yaxis=dict(\n",
    "        title='Number Of Wins',\n",
    "        titlefont=dict(\n",
    "            size=16,\n",
    "            color='rgb(107, 107, 107)'\n",
    "        ),\n",
    "        tickfont=dict(\n",
    "            size=14,\n",
    "            color='rgb(107, 107, 107)'\n",
    "        )\n",
    "    ),\n",
    ")\n",
    "fig = go.Figure(data=data, layout=layout)\n",
    "\n",
    "iplot(fig, filename='style-bar')"
   ]
  },
  {
   "cell_type": "markdown",
   "metadata": {},
   "source": [
    "<b>Let us see KKR performance in and away from home Did it had a huge impact on their success Let us Find Out..</b>"
   ]
  },
  {
   "cell_type": "code",
   "execution_count": 16,
   "metadata": {},
   "outputs": [
    {
     "data": {
      "application/vnd.plotly.v1+json": {
       "config": {
        "linkText": "Export to plot.ly",
        "plotlyServerURL": "https://plot.ly",
        "showLink": false
       },
       "data": [
        {
         "labels": [
          "Home Wins",
          "Away Wins"
         ],
         "type": "pie",
         "uid": "9efc4db5-b90b-47c8-b359-03d88fc52a3b",
         "values": [
          37,
          40
         ]
        }
       ],
       "layout": {}
      },
      "text/html": [
       "<div>\n",
       "        \n",
       "        \n",
       "            <div id=\"a39993aa-1a00-4d5d-974d-3200d9d0c4c6\" class=\"plotly-graph-div\" style=\"height:525px; width:100%;\"></div>\n",
       "            <script type=\"text/javascript\">\n",
       "                require([\"plotly\"], function(Plotly) {\n",
       "                    window.PLOTLYENV=window.PLOTLYENV || {};\n",
       "                    window.PLOTLYENV.BASE_URL='https://plot.ly';\n",
       "                    \n",
       "                if (document.getElementById(\"a39993aa-1a00-4d5d-974d-3200d9d0c4c6\")) {\n",
       "                    Plotly.newPlot(\n",
       "                        'a39993aa-1a00-4d5d-974d-3200d9d0c4c6',\n",
       "                        [{\"labels\": [\"Home Wins\", \"Away Wins\"], \"type\": \"pie\", \"uid\": \"9efc4db5-b90b-47c8-b359-03d88fc52a3b\", \"values\": [37, 40]}],\n",
       "                        {},\n",
       "                        {\"showLink\": false, \"linkText\": \"Export to plot.ly\", \"plotlyServerURL\": \"https://plot.ly\", \"responsive\": true}\n",
       "                    ).then(function(){\n",
       "                            \n",
       "var gd = document.getElementById('a39993aa-1a00-4d5d-974d-3200d9d0c4c6');\n",
       "var x = new MutationObserver(function (mutations, observer) {{\n",
       "        var display = window.getComputedStyle(gd).display;\n",
       "        if (!display || display === 'none') {{\n",
       "            console.log([gd, 'removed!']);\n",
       "            Plotly.purge(gd);\n",
       "            observer.disconnect();\n",
       "        }}\n",
       "}});\n",
       "\n",
       "// Listen for the removal of the full notebook cells\n",
       "var notebookContainer = gd.closest('#notebook-container');\n",
       "if (notebookContainer) {{\n",
       "    x.observe(notebookContainer, {childList: true});\n",
       "}}\n",
       "\n",
       "// Listen for the clearing of the current output cell\n",
       "var outputEl = gd.closest('.output');\n",
       "if (outputEl) {{\n",
       "    x.observe(outputEl, {childList: true});\n",
       "}}\n",
       "\n",
       "                        })\n",
       "                };\n",
       "                });\n",
       "            </script>\n",
       "        </div>"
      ]
     },
     "metadata": {},
     "output_type": "display_data"
    }
   ],
   "source": [
    "wins=df_kkr_matches[df_kkr_matches.winner=='KKR']  \n",
    "wins_At_home=wins[wins.city=='Kolkata']\n",
    "count_home=len(wins_At_home)\n",
    "wins_away=wins[wins.city!='Kolkata']\n",
    "count_away=len(wins_away)\n",
    "labels = ['Home Wins','Away Wins']\n",
    "values = [count_home,count_away]\n",
    "trace = go.Pie(labels=labels, values=values)\n",
    "iplot([trace], filename='basic_pie_chart',show_link=False)"
   ]
  },
  {
   "cell_type": "markdown",
   "metadata": {},
   "source": [
    "<b>Of all the matches KKR won there 52% wins were from away games <br>Now Let us see toss dependency on KKR success</b>"
   ]
  },
  {
   "cell_type": "code",
   "execution_count": 17,
   "metadata": {},
   "outputs": [
    {
     "data": {
      "text/plain": [
       "44"
      ]
     },
     "execution_count": 17,
     "metadata": {},
     "output_type": "execute_result"
    }
   ],
   "source": [
    "toss_wins_match=wins[wins.toss_winner=='KKR']\n",
    "len(toss_wins_match)\n"
   ]
  },
  {
   "cell_type": "code",
   "execution_count": 18,
   "metadata": {},
   "outputs": [
    {
     "data": {
      "text/plain": [
       "33"
      ]
     },
     "execution_count": 18,
     "metadata": {},
     "output_type": "execute_result"
    }
   ],
   "source": [
    "loss_wins_match=wins[wins.toss_winner!='KKR']\n",
    "len(loss_wins_match)"
   ]
  },
  {
   "cell_type": "markdown",
   "metadata": {},
   "source": [
    "<b>Toss matter for KKR . They have won 44 matches when the won the toss and 33 while losing the toss</b>"
   ]
  },
  {
   "cell_type": "code",
   "execution_count": 19,
   "metadata": {},
   "outputs": [],
   "source": [
    "matches_won_batting_first=wins[wins.win_by_runs>0]\n",
    "batting_first=len(matches_won_batting_first)\n",
    "matches_won_chasing=wins[wins.win_by_wickets>0]\n",
    "batting_second=len(matches_won_chasing)"
   ]
  },
  {
   "cell_type": "code",
   "execution_count": 20,
   "metadata": {},
   "outputs": [
    {
     "name": "stdout",
     "output_type": "stream",
     "text": [
      "31\n",
      "46\n"
     ]
    }
   ],
   "source": [
    "print(batting_first)\n",
    "print(batting_second)"
   ]
  },
  {
   "cell_type": "markdown",
   "metadata": {},
   "source": [
    "<b>So RCB has won 31 matches batting first and 46 matches while chasing. Let us see what happened in last 4 seasons</b>"
   ]
  },
  {
   "cell_type": "code",
   "execution_count": 21,
   "metadata": {},
   "outputs": [],
   "source": [
    "wins_season_2014=wins[wins.season==2014]\n",
    "wins_season_2015=wins[wins.season==2015]\n",
    "wins_season_2016=wins[wins.season==2016]\n",
    "wins_season_2017=wins[wins.season==2017]\n",
    "wins_last_4_seasons=pd.concat([wins_season_2014,wins_season_2015,wins_season_2016,wins_season_2017])"
   ]
  },
  {
   "cell_type": "code",
   "execution_count": 22,
   "metadata": {},
   "outputs": [],
   "source": [
    "matches_won_batting_first=wins_last_4_seasons[wins_last_4_seasons.win_by_runs>0]\n",
    "batting_first=len(matches_won_batting_first)\n",
    "matches_won_chasing=wins_last_4_seasons[wins_last_4_seasons.win_by_wickets>0]\n",
    "batting_second=len(matches_won_chasing)"
   ]
  },
  {
   "cell_type": "code",
   "execution_count": 23,
   "metadata": {},
   "outputs": [
    {
     "name": "stdout",
     "output_type": "stream",
     "text": [
      "10\n",
      "25\n"
     ]
    }
   ],
   "source": [
    "print(batting_first)\n",
    "print(batting_second)"
   ]
  },
  {
   "cell_type": "markdown",
   "metadata": {},
   "source": [
    "<b>In last four seasons KKR has won 25 matches while chasing and 10 while batting first. So KKR are comfortable in chasing</b>"
   ]
  },
  {
   "cell_type": "code",
   "execution_count": 24,
   "metadata": {},
   "outputs": [],
   "source": [
    "man_of_the_match=wins_last_4_seasons['player_of_match'].value_counts()"
   ]
  },
  {
   "cell_type": "code",
   "execution_count": 26,
   "metadata": {},
   "outputs": [
    {
     "data": {
      "image/png": "[encoded data removed]",
      "text/plain": [
       "<Figure size 720x216 with 1 Axes>"
      ]
     },
     "metadata": {
      "needs_background": "light"
     },
     "output_type": "display_data"
    }
   ],
   "source": [
    "man_of_the_match.plot.bar(figsize=(10,3),xticks=man_of_the_match,yticks=man_of_the_match,color='black')\n",
    "plt.show()"
   ]
  },
  {
   "cell_type": "code",
   "execution_count": 27,
   "metadata": {},
   "outputs": [],
   "source": [
    "man_of_the_match_overall=wins['player_of_match'].value_counts()"
   ]
  },
  {
   "cell_type": "code",
   "execution_count": 29,
   "metadata": {},
   "outputs": [
    {
     "data": {
      "image/png": "[encoded data removed]",
      "text/plain": [
       "<Figure size 864x576 with 1 Axes>"
      ]
     },
     "metadata": {
      "needs_background": "light"
     },
     "output_type": "display_data"
    }
   ],
   "source": [
    "man_of_the_match_overall.plot.bar(figsize=(12,8),xticks=man_of_the_match_overall,yticks=man_of_the_match_overall,color='black')\n",
    "plt.show()"
   ]
  },
  {
   "cell_type": "markdown",
   "metadata": {},
   "source": [
    "<b>KKR has lot of match winners but they have not retained their match winners except russel and uthappa</b>"
   ]
  },
  {
   "cell_type": "code",
   "execution_count": 30,
   "metadata": {},
   "outputs": [
    {
     "data": {
      "text/plain": [
       "array(['KKR', 'DC', 'KXI', 'CSK', 'RR', 'RCB', 'MI', 'PW', 'DD', 'SRH',\n",
       "       'RPS', 'GL'], dtype=object)"
      ]
     },
     "execution_count": 30,
     "metadata": {},
     "output_type": "execute_result"
    }
   ],
   "source": [
    "wins['team1_id'].unique()"
   ]
  },
  {
   "cell_type": "code",
   "execution_count": 41,
   "metadata": {},
   "outputs": [],
   "source": [
    "csk_loss=len(wins[(wins.team1_id =='CSK') | (wins.team2_id=='CSK')]) \n",
    "mi_loss=len(wins[(wins.team1_id =='MI') | (wins.team2_id=='MI')]) \n",
    "kxi_loss=len(wins[(wins.team1_id =='KXI') | (wins.team2_id=='KXI')])\n",
    "dd_loss=len(wins[(wins.team1_id =='DD') | (wins.team2_id=='DD')])\n",
    "rr_loss=len(wins[(wins.team1_id =='RR') | (wins.team2_id=='RR')])\n",
    "dc_loss=len(wins[(wins.team1_id =='DC') | (wins.team2_id=='DC')])\n",
    "rcb_loss=len(wins[(wins.team1_id =='RCB') | (wins.team2_id=='RCB')])\n",
    "srh_loss=len(wins[(wins.team1_id =='SRH') | (wins.team2_id=='SRH')])\n",
    "teams_loss=[csk_loss,mi_loss,kxi_loss,dd_loss,rr_loss,dc_loss,rcb_loss,srh_loss]\n",
    "labelss=['CSK','MI','KXI','DD','RR','DC','RCB','SRH']"
   ]
  },
  {
   "cell_type": "code",
   "execution_count": 42,
   "metadata": {},
   "outputs": [
    {
     "data": {
      "application/vnd.plotly.v1+json": {
       "config": {
        "linkText": "Export to plot.ly",
        "plotlyServerURL": "https://plot.ly",
        "showLink": false
       },
       "data": [
        {
         "marker": {
          "color": [
           "#F9F606",
           "#0983FC",
           "#FB5304",
           "#4404FB",
           "#FB04D9",
           "#0939FA",
           "#FF0000",
           "#FA9B09"
          ]
         },
         "name": "Wins",
         "type": "bar",
         "uid": "0366c7cb-d04e-4030-85c9-c45ceb764226",
         "x": [
          "CSK",
          "MI",
          "KXI",
          "DD",
          "RR",
          "DC",
          "RCB",
          "SRH"
         ],
         "y": [
          6,
          5,
          14,
          12,
          6,
          7,
          11,
          8
         ]
        }
       ],
       "layout": {
        "showlegend": false,
        "title": {
         "text": "KKR vs Different teams"
        },
        "xaxis": {
         "tickangle": -45,
         "tickmode": "linear",
         "title": {
          "font": {
           "size": 16
          },
          "text": "Teams"
         }
        },
        "yaxis": {
         "tickfont": {
          "size": 14
         },
         "title": {
          "font": {
           "size": 16
          },
          "text": "Number Of Wins"
         }
        }
       }
      },
      "text/html": [
       "<div>\n",
       "        \n",
       "        \n",
       "            <div id=\"4afb748d-4f59-4a1d-b2b5-dbd3dd2a564e\" class=\"plotly-graph-div\" style=\"height:525px; width:100%;\"></div>\n",
       "            <script type=\"text/javascript\">\n",
       "                require([\"plotly\"], function(Plotly) {\n",
       "                    window.PLOTLYENV=window.PLOTLYENV || {};\n",
       "                    window.PLOTLYENV.BASE_URL='https://plot.ly';\n",
       "                    \n",
       "                if (document.getElementById(\"4afb748d-4f59-4a1d-b2b5-dbd3dd2a564e\")) {\n",
       "                    Plotly.newPlot(\n",
       "                        '4afb748d-4f59-4a1d-b2b5-dbd3dd2a564e',\n",
       "                        [{\"marker\": {\"color\": [\"#F9F606\", \"#0983FC\", \"#FB5304\", \"#4404FB\", \"#FB04D9\", \"#0939FA\", \"#FF0000\", \"#FA9B09\"]}, \"name\": \"Wins\", \"type\": \"bar\", \"uid\": \"0366c7cb-d04e-4030-85c9-c45ceb764226\", \"x\": [\"CSK\", \"MI\", \"KXI\", \"DD\", \"RR\", \"DC\", \"RCB\", \"SRH\"], \"y\": [6, 5, 14, 12, 6, 7, 11, 8]}],\n",
       "                        {\"showlegend\": false, \"title\": {\"text\": \"KKR vs Different teams\"}, \"xaxis\": {\"tickangle\": -45, \"tickmode\": \"linear\", \"title\": {\"font\": {\"size\": 16}, \"text\": \"Teams\"}}, \"yaxis\": {\"tickfont\": {\"size\": 14}, \"title\": {\"font\": {\"size\": 16}, \"text\": \"Number Of Wins\"}}},\n",
       "                        {\"showLink\": false, \"linkText\": \"Export to plot.ly\", \"plotlyServerURL\": \"https://plot.ly\", \"responsive\": true}\n",
       "                    ).then(function(){\n",
       "                            \n",
       "var gd = document.getElementById('4afb748d-4f59-4a1d-b2b5-dbd3dd2a564e');\n",
       "var x = new MutationObserver(function (mutations, observer) {{\n",
       "        var display = window.getComputedStyle(gd).display;\n",
       "        if (!display || display === 'none') {{\n",
       "            console.log([gd, 'removed!']);\n",
       "            Plotly.purge(gd);\n",
       "            observer.disconnect();\n",
       "        }}\n",
       "}});\n",
       "\n",
       "// Listen for the removal of the full notebook cells\n",
       "var notebookContainer = gd.closest('#notebook-container');\n",
       "if (notebookContainer) {{\n",
       "    x.observe(notebookContainer, {childList: true});\n",
       "}}\n",
       "\n",
       "// Listen for the clearing of the current output cell\n",
       "var outputEl = gd.closest('.output');\n",
       "if (outputEl) {{\n",
       "    x.observe(outputEl, {childList: true});\n",
       "}}\n",
       "\n",
       "                        })\n",
       "                };\n",
       "                });\n",
       "            </script>\n",
       "        </div>"
      ]
     },
     "metadata": {},
     "output_type": "display_data"
    }
   ],
   "source": [
    "data = [go.Bar(\n",
    "            x=labelss,\n",
    "            y=teams_loss,\n",
    "            marker=dict(color=['#F9F606','#0983FC','#FB5304','#4404FB','#FB04D9','#0939FA','#FF0000','#FA9B09']), \n",
    "            name=\"Wins\",            \n",
    "    )]\n",
    "layout = go.Layout(\n",
    "    showlegend=False,\n",
    "    xaxis=dict(tickangle=-45,tickmode='linear',title='Teams', titlefont=dict(\n",
    "            size=16,\n",
    "        \n",
    "        )),title='KKR vs Different teams',   \n",
    "         yaxis=dict(\n",
    "        title='Number Of Wins',\n",
    "        titlefont=dict(\n",
    "            size=16\n",
    "        ),\n",
    "        tickfont=dict(\n",
    "            size=14\n",
    "        )\n",
    "    ),\n",
    ")\n",
    "fig = go.Figure(data=data, layout=layout)\n",
    "iplot(fig, filename='style-bar',show_link=False)"
   ]
  },
  {
   "cell_type": "markdown",
   "metadata": {},
   "source": [
    "<b>It would be better if instead of number of wins we used win percentage</b>"
   ]
  },
  {
   "cell_type": "code",
   "execution_count": 46,
   "metadata": {},
   "outputs": [],
   "source": [
    "csk_matches=len(df_kkr_matches[(df_kkr_matches.team1_id =='CSK') | (df_kkr_matches.team2_id=='CSK')]) \n",
    "mi_matches=len(df_kkr_matches[(df_kkr_matches.team1_id =='MI') | (df_kkr_matches.team2_id=='MI')]) \n",
    "kxi_matches=len(df_kkr_matches[(df_kkr_matches.team1_id =='KXI') | (df_kkr_matches.team2_id=='KXI')])\n",
    "dd_matches=len(df_kkr_matches[(df_kkr_matches.team1_id =='DD') | (df_kkr_matches.team2_id=='DD')])\n",
    "rr_matches=len(df_kkr_matches[(df_kkr_matches.team1_id =='RR') | (df_kkr_matches.team2_id=='RR')])\n",
    "dc_matches=len(df_kkr_matches[(df_kkr_matches.team1_id =='DC') | (df_kkr_matches.team2_id=='DC')])\n",
    "rcb_matches=len(df_kkr_matches[(df_kkr_matches.team1_id =='RCB') | (df_kkr_matches.team2_id=='RCB')])\n",
    "srh_matches=len(df_kkr_matches[(df_kkr_matches.team1_id =='SRH') | (df_kkr_matches.team2_id=='SRH')])\n",
    "teams_matches=[csk_matches,mi_matches,kxi_matches,dd_matches,rr_matches,dc_matches,rcb_matches,srh_matches]\n",
    "labelss=['CSK','MI','KXI','DD','RR','DC','RCB','SRH']"
   ]
  },
  {
   "cell_type": "code",
   "execution_count": 47,
   "metadata": {},
   "outputs": [],
   "source": [
    "res_list = [teams_loss[i]/teams_matches[i]*100 for i in range(len(teams_matches))]"
   ]
  },
  {
   "cell_type": "code",
   "execution_count": 48,
   "metadata": {},
   "outputs": [
    {
     "data": {
      "application/vnd.plotly.v1+json": {
       "config": {
        "linkText": "Export to plot.ly",
        "plotlyServerURL": "https://plot.ly",
        "showLink": false
       },
       "data": [
        {
         "marker": {
          "color": [
           "#F9F606",
           "#0983FC",
           "#FB5304",
           "#4404FB",
           "#FB04D9",
           "#0939FA",
           "#FF0000",
           "#FA9B09"
          ]
         },
         "name": "Wins",
         "type": "bar",
         "uid": "f61a1b0a-38da-4092-b27c-f48e2ed2924b",
         "x": [
          "CSK",
          "MI",
          "KXI",
          "DD",
          "RR",
          "DC",
          "RCB",
          "SRH"
         ],
         "y": [
          37.5,
          23.809523809523807,
          66.66666666666666,
          63.1578947368421,
          40,
          77.77777777777779,
          55.00000000000001,
          66.66666666666666
         ]
        }
       ],
       "layout": {
        "showlegend": false,
        "title": {
         "text": "KKR vs Different teams"
        },
        "xaxis": {
         "tickangle": -45,
         "tickmode": "linear",
         "title": {
          "font": {
           "size": 16
          },
          "text": "Teams"
         }
        },
        "yaxis": {
         "tickfont": {
          "size": 14
         },
         "title": {
          "font": {
           "size": 16
          },
          "text": "Win percentage"
         }
        }
       }
      },
      "text/html": [
       "<div>\n",
       "        \n",
       "        \n",
       "            <div id=\"e00b9159-d58a-4665-beda-a1576b963ffe\" class=\"plotly-graph-div\" style=\"height:525px; width:100%;\"></div>\n",
       "            <script type=\"text/javascript\">\n",
       "                require([\"plotly\"], function(Plotly) {\n",
       "                    window.PLOTLYENV=window.PLOTLYENV || {};\n",
       "                    window.PLOTLYENV.BASE_URL='https://plot.ly';\n",
       "                    \n",
       "                if (document.getElementById(\"e00b9159-d58a-4665-beda-a1576b963ffe\")) {\n",
       "                    Plotly.newPlot(\n",
       "                        'e00b9159-d58a-4665-beda-a1576b963ffe',\n",
       "                        [{\"marker\": {\"color\": [\"#F9F606\", \"#0983FC\", \"#FB5304\", \"#4404FB\", \"#FB04D9\", \"#0939FA\", \"#FF0000\", \"#FA9B09\"]}, \"name\": \"Wins\", \"type\": \"bar\", \"uid\": \"f61a1b0a-38da-4092-b27c-f48e2ed2924b\", \"x\": [\"CSK\", \"MI\", \"KXI\", \"DD\", \"RR\", \"DC\", \"RCB\", \"SRH\"], \"y\": [37.5, 23.809523809523807, 66.66666666666666, 63.1578947368421, 40.0, 77.77777777777779, 55.00000000000001, 66.66666666666666]}],\n",
       "                        {\"showlegend\": false, \"title\": {\"text\": \"KKR vs Different teams\"}, \"xaxis\": {\"tickangle\": -45, \"tickmode\": \"linear\", \"title\": {\"font\": {\"size\": 16}, \"text\": \"Teams\"}}, \"yaxis\": {\"tickfont\": {\"size\": 14}, \"title\": {\"font\": {\"size\": 16}, \"text\": \"Win percentage\"}}},\n",
       "                        {\"showLink\": false, \"linkText\": \"Export to plot.ly\", \"plotlyServerURL\": \"https://plot.ly\", \"responsive\": true}\n",
       "                    ).then(function(){\n",
       "                            \n",
       "var gd = document.getElementById('e00b9159-d58a-4665-beda-a1576b963ffe');\n",
       "var x = new MutationObserver(function (mutations, observer) {{\n",
       "        var display = window.getComputedStyle(gd).display;\n",
       "        if (!display || display === 'none') {{\n",
       "            console.log([gd, 'removed!']);\n",
       "            Plotly.purge(gd);\n",
       "            observer.disconnect();\n",
       "        }}\n",
       "}});\n",
       "\n",
       "// Listen for the removal of the full notebook cells\n",
       "var notebookContainer = gd.closest('#notebook-container');\n",
       "if (notebookContainer) {{\n",
       "    x.observe(notebookContainer, {childList: true});\n",
       "}}\n",
       "\n",
       "// Listen for the clearing of the current output cell\n",
       "var outputEl = gd.closest('.output');\n",
       "if (outputEl) {{\n",
       "    x.observe(outputEl, {childList: true});\n",
       "}}\n",
       "\n",
       "                        })\n",
       "                };\n",
       "                });\n",
       "            </script>\n",
       "        </div>"
      ]
     },
     "metadata": {},
     "output_type": "display_data"
    }
   ],
   "source": [
    "data = [go.Bar(\n",
    "            x=labelss,\n",
    "            y=res_list,\n",
    "            marker=dict(color=['#F9F606','#0983FC','#FB5304','#4404FB','#FB04D9','#0939FA','#FF0000','#FA9B09']), \n",
    "            name=\"Wins\",            \n",
    "    )]\n",
    "layout = go.Layout(\n",
    "    showlegend=False,\n",
    "    xaxis=dict(tickangle=-45,tickmode='linear',title='Teams', titlefont=dict(\n",
    "            size=16,\n",
    "        \n",
    "        )),title='KKR vs Different teams',   \n",
    "         yaxis=dict(\n",
    "        title='Win percentage',\n",
    "        titlefont=dict(\n",
    "            size=16\n",
    "        ),\n",
    "        tickfont=dict(\n",
    "            size=14\n",
    "        )\n",
    "    ),\n",
    ")\n",
    "fig = go.Figure(data=data, layout=layout)\n",
    "iplot(fig, filename='style-bar',show_link=False)"
   ]
  },
  {
   "cell_type": "markdown",
   "metadata": {},
   "source": [
    "<b>This gives a better insight of KKR performance against different teams we can see KKR has won 77 % games against DC and have lowest success rate against MI</b>"
   ]
  },
  {
   "cell_type": "code",
   "execution_count": null,
   "metadata": {},
   "outputs": [],
   "source": []
  }
 ],
 "metadata": {
  "kernelspec": {
   "display_name": "Python 3",
   "language": "python",
   "name": "python3"
  },
  "language_info": {
   "codemirror_mode": {
    "name": "ipython",
    "version": 3
   },
   "file_extension": ".py",
   "mimetype": "text/x-python",
   "name": "python",
   "nbconvert_exporter": "python",
   "pygments_lexer": "ipython3",
   "version": "3.7.3"
  }
 },
 "nbformat": 4,
 "nbformat_minor": 2
}
