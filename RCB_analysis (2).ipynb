{
 "cells": [
  {
   "cell_type": "code",
   "execution_count": 11,
   "metadata": {},
   "outputs": [],
   "source": [
    "import pandas as pd\n",
    "import numpy as np\n"
   ]
  },
  {
   "cell_type": "code",
   "execution_count": 12,
   "metadata": {},
   "outputs": [
    {
     "data": {
      "text/html": [
       "<script type=\"text/javascript\">window.PlotlyConfig = {MathJaxConfig: 'local'};</script><script type=\"text/javascript\">if (window.MathJax) {MathJax.Hub.Config({SVG: {font: \"STIX-Web\"}});}</script><script>requirejs.config({paths: { 'plotly': ['https://cdn.plot.ly/plotly-latest.min']},});if(!window._Plotly) {require(['plotly'],function(plotly) {window._Plotly=plotly;});}</script>"
      ],
      "text/vnd.plotly.v1+html": [
       "<script type=\"text/javascript\">window.PlotlyConfig = {MathJaxConfig: 'local'};</script><script type=\"text/javascript\">if (window.MathJax) {MathJax.Hub.Config({SVG: {font: \"STIX-Web\"}});}</script><script>requirejs.config({paths: { 'plotly': ['https://cdn.plot.ly/plotly-latest.min']},});if(!window._Plotly) {require(['plotly'],function(plotly) {window._Plotly=plotly;});}</script>"
      ]
     },
     "metadata": {},
     "output_type": "display_data"
    }
   ],
   "source": [
    "init_notebook_mode(connected=True)"
   ]
  },
  {
   "cell_type": "code",
   "execution_count": 13,
   "metadata": {},
   "outputs": [],
   "source": [
    "df=pd.read_csv('E:/Hacka/train (1)/train/match_data.csv') # reading data"
   ]
  },
  {
   "cell_type": "code",
   "execution_count": 14,
   "metadata": {},
   "outputs": [],
   "source": [
    "df_rcb=df[df.team1_id=='RCB'] \n",
    "df_rcb_2=df[df.team2_id=='RCB']\n",
    "df=pd.concat([df_rcb,df_rcb_2]) #All the matches RCB played "
   ]
  },
  {
   "cell_type": "code",
   "execution_count": 15,
   "metadata": {},
   "outputs": [
    {
     "name": "stderr",
     "output_type": "stream",
     "text": [
      "C:\\Users\\Mayank\\Anaconda3\\lib\\site-packages\\ipykernel_launcher.py:8: UserWarning:\n",
      "\n",
      "Boolean Series key will be reindexed to match DataFrame index.\n",
      "\n"
     ]
    }
   ],
   "source": [
    "#to find the season wise wins of RCB\n",
    "import sys\n",
    "wins=[]\n",
    "season=[]\n",
    "for i in range(2008,2018):\n",
    "    seasonwisewins=df[df.season==i]\n",
    "    season.append(i)\n",
    "    wins.append(len(seasonwisewins[df.winner=='RCB']))"
   ]
  },
  {
   "cell_type": "code",
   "execution_count": 16,
   "metadata": {},
   "outputs": [],
   "source": [
    "dictionary = dict(zip(season, wins))"
   ]
  },
  {
   "cell_type": "code",
   "execution_count": 17,
   "metadata": {},
   "outputs": [
    {
     "data": {
      "text/plain": [
       "{2008: 4,\n",
       " 2009: 9,\n",
       " 2010: 8,\n",
       " 2011: 10,\n",
       " 2012: 8,\n",
       " 2013: 9,\n",
       " 2014: 5,\n",
       " 2015: 8,\n",
       " 2016: 9,\n",
       " 2017: 3}"
      ]
     },
     "execution_count": 17,
     "metadata": {},
     "output_type": "execute_result"
    }
   ],
   "source": [
    "dictionary #this dictionary gives us number of matches won by RCB in each season"
   ]
  },
  {
   "cell_type": "code",
   "execution_count": 18,
   "metadata": {},
   "outputs": [],
   "source": [
    "season=list(map(str,season)) #convert list of int to list of strings"
   ]
  },
  {
   "cell_type": "markdown",
   "metadata": {},
   "source": [
    "<b>Clearly we can see that 2009,2011 and 2016 were the best seasons for RCB let us see why this was the case. We will start season by season and later see why it has failed badly from previous 2 seasons. </b>"
   ]
  },
  {
   "cell_type": "code",
   "execution_count": 19,
   "metadata": {},
   "outputs": [
    {
     "data": {
      "image/png": "[encoded data removed]",
      "text/plain": [
       "<Figure size 432x288 with 1 Axes>"
      ]
     },
     "metadata": {},
     "output_type": "display_data"
    }
   ],
   "source": [
    "import matplotlib.pyplot as plt\n",
    "%matplotlib inline\n",
    "\n",
    "names = list(dictionary.keys())\n",
    "values = list(dictionary.values())\n",
    "\n",
    "#tick_label does the some work as plt.xticks()\n",
    "plt.bar(range(len(dictionary)),values,tick_label=names)\n",
    "plt.show()"
   ]
  },
  {
   "cell_type": "code",
   "execution_count": 20,
   "metadata": {},
   "outputs": [
    {
     "data": {
      "application/vnd.plotly.v1+json": {
       "config": {
        "linkText": "Export to plot.ly",
        "plotlyServerURL": "https://plot.ly",
        "showLink": false
       },
       "data": [
        {
         "marker": {
          "color": "#FF0000"
         },
         "name": "Wins",
         "type": "bar",
         "uid": "7e14a580-91ad-4f57-befd-77f0a84e93fc",
         "x": [
          2008,
          2009,
          2010,
          2011,
          2012,
          2013,
          2014,
          2015,
          2016,
          2017
         ],
         "y": [
          4,
          9,
          8,
          10,
          8,
          9,
          5,
          8,
          9,
          3
         ]
        }
       ],
       "layout": {
        "showlegend": false,
        "title": {
         "text": "Season Wise Wins"
        },
        "xaxis": {
         "tickangle": -45,
         "tickmode": "linear",
         "title": {
          "font": {
           "color": "rgb(107, 107, 107)",
           "size": 16
          },
          "text": "Year"
         }
        },
        "yaxis": {
         "tickfont": {
          "color": "rgb(107, 107, 107)",
          "size": 14
         },
         "title": {
          "font": {
           "color": "rgb(107, 107, 107)",
           "size": 16
          },
          "text": "Number Of Wins"
         }
        }
       }
      },
      "text/html": [
       "<div id=\"b24f400a-6f55-471e-8886-8402a50151f1\" style=\"height: 525px; width: 100%;\" class=\"plotly-graph-div\"></div><script type=\"text/javascript\">require([\"plotly\"], function(Plotly) { window.PLOTLYENV=window.PLOTLYENV || {};window.PLOTLYENV.BASE_URL=\"https://plot.ly\";\n",
       "if (document.getElementById(\"b24f400a-6f55-471e-8886-8402a50151f1\")) {\n",
       "    Plotly.newPlot(\"b24f400a-6f55-471e-8886-8402a50151f1\", [{\"marker\": {\"color\": \"#FF0000\"}, \"name\": \"Wins\", \"x\": [2008, 2009, 2010, 2011, 2012, 2013, 2014, 2015, 2016, 2017], \"y\": [4, 9, 8, 10, 8, 9, 5, 8, 9, 3], \"type\": \"bar\", \"uid\": \"7e14a580-91ad-4f57-befd-77f0a84e93fc\"}], {\"showlegend\": false, \"title\": {\"text\": \"Season Wise Wins\"}, \"xaxis\": {\"tickangle\": -45, \"tickmode\": \"linear\", \"title\": {\"font\": {\"color\": \"rgb(107, 107, 107)\", \"size\": 16}, \"text\": \"Year\"}}, \"yaxis\": {\"tickfont\": {\"color\": \"rgb(107, 107, 107)\", \"size\": 14}, \"title\": {\"font\": {\"color\": \"rgb(107, 107, 107)\", \"size\": 16}, \"text\": \"Number Of Wins\"}}}, {\"showLink\": false, \"linkText\": \"Export to plot.ly\", \"plotlyServerURL\": \"https://plot.ly\"}); \n",
       "}\n",
       "});</script><script type=\"text/javascript\">window.addEventListener(\"resize\", function(){if (document.getElementById(\"b24f400a-6f55-471e-8886-8402a50151f1\")) {window._Plotly.Plots.resize(document.getElementById(\"b24f400a-6f55-471e-8886-8402a50151f1\"));};})</script>"
      ],
      "text/vnd.plotly.v1+html": [
       "<div id=\"b24f400a-6f55-471e-8886-8402a50151f1\" style=\"height: 525px; width: 100%;\" class=\"plotly-graph-div\"></div><script type=\"text/javascript\">require([\"plotly\"], function(Plotly) { window.PLOTLYENV=window.PLOTLYENV || {};window.PLOTLYENV.BASE_URL=\"https://plot.ly\";\n",
       "if (document.getElementById(\"b24f400a-6f55-471e-8886-8402a50151f1\")) {\n",
       "    Plotly.newPlot(\"b24f400a-6f55-471e-8886-8402a50151f1\", [{\"marker\": {\"color\": \"#FF0000\"}, \"name\": \"Wins\", \"x\": [2008, 2009, 2010, 2011, 2012, 2013, 2014, 2015, 2016, 2017], \"y\": [4, 9, 8, 10, 8, 9, 5, 8, 9, 3], \"type\": \"bar\", \"uid\": \"7e14a580-91ad-4f57-befd-77f0a84e93fc\"}], {\"showlegend\": false, \"title\": {\"text\": \"Season Wise Wins\"}, \"xaxis\": {\"tickangle\": -45, \"tickmode\": \"linear\", \"title\": {\"font\": {\"color\": \"rgb(107, 107, 107)\", \"size\": 16}, \"text\": \"Year\"}}, \"yaxis\": {\"tickfont\": {\"color\": \"rgb(107, 107, 107)\", \"size\": 14}, \"title\": {\"font\": {\"color\": \"rgb(107, 107, 107)\", \"size\": 16}, \"text\": \"Number Of Wins\"}}}, {\"showLink\": false, \"linkText\": \"Export to plot.ly\", \"plotlyServerURL\": \"https://plot.ly\"}); \n",
       "}\n",
       "});</script><script type=\"text/javascript\">window.addEventListener(\"resize\", function(){if (document.getElementById(\"b24f400a-6f55-471e-8886-8402a50151f1\")) {window._Plotly.Plots.resize(document.getElementById(\"b24f400a-6f55-471e-8886-8402a50151f1\"));};})</script>"
      ]
     },
     "metadata": {},
     "output_type": "display_data"
    }
   ],
   "source": [
    "import plotly.plotly as py\n",
    "import plotly.graph_objs as go\n",
    "from plotly.offline import download_plotlyjs, init_notebook_mode, plot, iplot\n",
    "\n",
    "data = [go.Bar(\n",
    "            x=names,\n",
    "            y=values,\n",
    "            marker=dict(color='#FF0000'), \n",
    "            name=\"Wins\",\n",
    "            \n",
    "    )]\n",
    "layout = go.Layout(\n",
    "    showlegend=False,\n",
    "    xaxis=dict(tickangle=-45,tickmode='linear',title='Year', titlefont=dict(\n",
    "            size=16,\n",
    "            color='rgb(107, 107, 107)'\n",
    "        )),title='Season Wise Wins',   \n",
    "         yaxis=dict(\n",
    "        title='Number Of Wins',\n",
    "        titlefont=dict(\n",
    "            size=16,\n",
    "            color='rgb(107, 107, 107)'\n",
    "        ),\n",
    "        tickfont=dict(\n",
    "            size=14,\n",
    "            color='rgb(107, 107, 107)'\n",
    "        )\n",
    "    ),\n",
    ")\n",
    "fig = go.Figure(data=data, layout=layout)\n",
    "\n",
    "iplot(fig, filename='style-bar')"
   ]
  },
  {
   "cell_type": "markdown",
   "metadata": {},
   "source": [
    "<b>Let us see RCB performance in and away from home Did it had a huge impact on their success Let us Find Out..</b>"
   ]
  },
  {
   "cell_type": "code",
   "execution_count": 21,
   "metadata": {},
   "outputs": [],
   "source": [
    "wins=df[df.winner=='RCB']  \n",
    "wins_At_home=wins[wins.city=='Bangalore']\n",
    "count_home=len(wins_At_home)"
   ]
  },
  {
   "cell_type": "code",
   "execution_count": 22,
   "metadata": {},
   "outputs": [],
   "source": [
    "wins_away=wins[wins.city!='Bangalore']\n",
    "count_away=len(wins_away)"
   ]
  },
  {
   "cell_type": "code",
   "execution_count": 23,
   "metadata": {},
   "outputs": [
    {
     "data": {
      "application/vnd.plotly.v1+json": {
       "config": {
        "linkText": "Export to plot.ly",
        "plotlyServerURL": "https://plot.ly",
        "showLink": false
       },
       "data": [
        {
         "labels": [
          "Home Wins",
          "Away Wins"
         ],
         "type": "pie",
         "uid": "56d64c74-6986-49c8-9b4f-c8ad3459db8e",
         "values": [
          30,
          43
         ]
        }
       ],
       "layout": {}
      },
      "text/html": [
       "<div id=\"28a82e96-9651-4e6d-b188-4cdba27c5d2f\" style=\"height: 525px; width: 100%;\" class=\"plotly-graph-div\"></div><script type=\"text/javascript\">require([\"plotly\"], function(Plotly) { window.PLOTLYENV=window.PLOTLYENV || {};window.PLOTLYENV.BASE_URL=\"https://plot.ly\";\n",
       "if (document.getElementById(\"28a82e96-9651-4e6d-b188-4cdba27c5d2f\")) {\n",
       "    Plotly.newPlot(\"28a82e96-9651-4e6d-b188-4cdba27c5d2f\", [{\"labels\": [\"Home Wins\", \"Away Wins\"], \"values\": [30, 43], \"type\": \"pie\", \"uid\": \"c0c39b39-a365-4763-910c-6b6dfc388eba\"}], {}, {\"showLink\": false, \"linkText\": \"Export to plot.ly\", \"plotlyServerURL\": \"https://plot.ly\"}); \n",
       "}\n",
       "});</script><script type=\"text/javascript\">window.addEventListener(\"resize\", function(){if (document.getElementById(\"28a82e96-9651-4e6d-b188-4cdba27c5d2f\")) {window._Plotly.Plots.resize(document.getElementById(\"28a82e96-9651-4e6d-b188-4cdba27c5d2f\"));};})</script>"
      ],
      "text/vnd.plotly.v1+html": [
       "<div id=\"28a82e96-9651-4e6d-b188-4cdba27c5d2f\" style=\"height: 525px; width: 100%;\" class=\"plotly-graph-div\"></div><script type=\"text/javascript\">require([\"plotly\"], function(Plotly) { window.PLOTLYENV=window.PLOTLYENV || {};window.PLOTLYENV.BASE_URL=\"https://plot.ly\";\n",
       "if (document.getElementById(\"28a82e96-9651-4e6d-b188-4cdba27c5d2f\")) {\n",
       "    Plotly.newPlot(\"28a82e96-9651-4e6d-b188-4cdba27c5d2f\", [{\"labels\": [\"Home Wins\", \"Away Wins\"], \"values\": [30, 43], \"type\": \"pie\", \"uid\": \"c0c39b39-a365-4763-910c-6b6dfc388eba\"}], {}, {\"showLink\": false, \"linkText\": \"Export to plot.ly\", \"plotlyServerURL\": \"https://plot.ly\"}); \n",
       "}\n",
       "});</script><script type=\"text/javascript\">window.addEventListener(\"resize\", function(){if (document.getElementById(\"28a82e96-9651-4e6d-b188-4cdba27c5d2f\")) {window._Plotly.Plots.resize(document.getElementById(\"28a82e96-9651-4e6d-b188-4cdba27c5d2f\"));};})</script>"
      ]
     },
     "metadata": {},
     "output_type": "display_data"
    }
   ],
   "source": [
    "\n",
    "labels = ['Home Wins','Away Wins']\n",
    "values = [count_home,count_away]\n",
    "trace = go.Pie(labels=labels, values=values)\n",
    "iplot([trace], filename='basic_pie_chart',show_link=False)"
   ]
  },
  {
   "cell_type": "markdown",
   "metadata": {},
   "source": [
    "<b>Of all the matches RCB won there 59% wins were from away games <br>Now Let us see toss dependency on RCB success</b>"
   ]
  },
  {
   "cell_type": "code",
   "execution_count": 26,
   "metadata": {},
   "outputs": [
    {
     "data": {
      "text/plain": [
       "35"
      ]
     },
     "execution_count": 26,
     "metadata": {},
     "output_type": "execute_result"
    }
   ],
   "source": [
    "toss_wins_match=wins[wins.toss_winner=='RCB']\n",
    "len(toss_wins_match)"
   ]
  },
  {
   "cell_type": "code",
   "execution_count": 27,
   "metadata": {},
   "outputs": [
    {
     "data": {
      "text/plain": [
       "38"
      ]
     },
     "execution_count": 27,
     "metadata": {},
     "output_type": "execute_result"
    }
   ],
   "source": [
    "loss_wins_match=wins[wins.toss_winner!='RCB']\n",
    "len(loss_wins_match)"
   ]
  },
  {
   "cell_type": "markdown",
   "metadata": {},
   "source": [
    "<b>Toss doesnot matter much for RCB. They have won 35 matches when the won the toss and 38 while losing the toss</b>"
   ]
  },
  {
   "cell_type": "code",
   "execution_count": 28,
   "metadata": {},
   "outputs": [],
   "source": [
    "matches_won_batting_first=wins[wins.win_by_runs>0]\n",
    "batting_first=len(matches_won_batting_first)\n",
    "matches_won_chasing=wins[wins.win_by_wickets>0]\n",
    "batting_second=len(matches_won_chasing)"
   ]
  },
  {
   "cell_type": "code",
   "execution_count": 29,
   "metadata": {},
   "outputs": [
    {
     "name": "stdout",
     "output_type": "stream",
     "text": [
      "30\n",
      "42\n"
     ]
    }
   ],
   "source": [
    "print(batting_first)\n",
    "print(batting_second)"
   ]
  },
  {
   "cell_type": "markdown",
   "metadata": {},
   "source": [
    "<b>So RCB has won 30 matches batting first and 42 matches while chasing. Let us see what happened in last 4 seasons</b>"
   ]
  },
  {
   "cell_type": "code",
   "execution_count": 30,
   "metadata": {},
   "outputs": [],
   "source": [
    "wins_season_2014=wins[wins.season==2014]\n",
    "wins_season_2015=wins[wins.season==2015]\n",
    "wins_season_2016=wins[wins.season==2016]\n",
    "wins_season_2017=wins[wins.season==2017]\n",
    "wins_last_4_seasons=pd.concat([wins_season_2014,wins_season_2015,wins_season_2016,wins_season_2017])"
   ]
  },
  {
   "cell_type": "code",
   "execution_count": 31,
   "metadata": {},
   "outputs": [],
   "source": [
    "matches_won_batting_first=wins_last_4_seasons[wins_last_4_seasons.win_by_runs>0]\n",
    "batting_first=len(matches_won_batting_first)\n",
    "matches_won_chasing=wins_last_4_seasons[wins_last_4_seasons.win_by_wickets>0]\n",
    "batting_second=len(matches_won_chasing)"
   ]
  },
  {
   "cell_type": "code",
   "execution_count": 32,
   "metadata": {},
   "outputs": [
    {
     "name": "stdout",
     "output_type": "stream",
     "text": [
      "12\n",
      "13\n"
     ]
    }
   ],
   "source": [
    "print(batting_first)\n",
    "print(batting_second)"
   ]
  },
  {
   "cell_type": "markdown",
   "metadata": {},
   "source": [
    "<b>In last four seasons RCB has won 13 matches while chasing and 12 while batting first. So batting first or second didnot matter much in RCB success</b>"
   ]
  },
  {
   "cell_type": "code",
   "execution_count": 33,
   "metadata": {},
   "outputs": [],
   "source": [
    "man_of_the_match=wins_last_4_seasons['player_of_match'].value_counts()"
   ]
  },
  {
   "cell_type": "code",
   "execution_count": 34,
   "metadata": {},
   "outputs": [
    {
     "data": {
      "image/png": "[encoded data removed]",
      "text/plain": [
       "<Figure size 720x216 with 1 Axes>"
      ]
     },
     "metadata": {},
     "output_type": "display_data"
    }
   ],
   "source": [
    "man_of_the_match.plot.bar(figsize=(10,3),xticks=man_of_the_match,yticks=man_of_the_match)\n",
    "plt.show()"
   ]
  },
  {
   "cell_type": "code",
   "execution_count": 35,
   "metadata": {},
   "outputs": [],
   "source": [
    "man_of_the_match_overall=wins['player_of_match'].value_counts()"
   ]
  },
  {
   "cell_type": "code",
   "execution_count": 36,
   "metadata": {},
   "outputs": [
    {
     "data": {
      "text/plain": [
       "Chris Gayle         17\n",
       "AB De Villiers      13\n",
       "Virat Kohli         10\n",
       "Jacques Kallis       5\n",
       "Vinay Kumar          3\n",
       "Yuvraj Singh         2\n",
       "Kevin Pietersen      2\n",
       "Manish Pandey        2\n",
       "Ross Taylor          2\n",
       "Anil Kumble          2\n",
       "Mark Boucher         2\n",
       "Praveen Kumar        1\n",
       "Mandeep Singh        1\n",
       "Robin Uthappa        1\n",
       "Harshal Patel        1\n",
       "Rahul Dravid         1\n",
       "Parthiv Patel        1\n",
       "Yuzvendra Chahal     1\n",
       "Kedar Jadhav         1\n",
       "Shane Watson         1\n",
       "Sreenath Aravind     1\n",
       "Mitchell Starc       1\n",
       "Jaydev Unadkat       1\n",
       "Varun Aaron          1\n",
       "Name: player_of_match, dtype: int64"
      ]
     },
     "execution_count": 36,
     "metadata": {},
     "output_type": "execute_result"
    }
   ],
   "source": [
    "man_of_the_match_overall"
   ]
  },
  {
   "cell_type": "code",
   "execution_count": 37,
   "metadata": {},
   "outputs": [
    {
     "data": {
      "image/png": "[encoded data removed]",
      "text/plain": [
       "<Figure size 864x576 with 1 Axes>"
      ]
     },
     "metadata": {},
     "output_type": "display_data"
    }
   ],
   "source": [
    "man_of_the_match_overall.plot.bar(figsize=(12,8),xticks=man_of_the_match_overall,yticks=man_of_the_match_overall)\n",
    "plt.show()"
   ]
  },
  {
   "cell_type": "markdown",
   "metadata": {},
   "source": [
    "<b>The Previous two graphs shows RCB dependency on their Three batsman Chris Gayle, AB Devilleres and Virat Kohli. Other than them there were not too many match winners specially in last 4 seasons and after dropping Gayle they are left with two. You cannot win games with just two players.</b>"
   ]
  },
  {
   "cell_type": "markdown",
   "metadata": {},
   "source": [
    "<b>Let us look at RCB performance against different teams</b>"
   ]
  },
  {
   "cell_type": "code",
   "execution_count": 38,
   "metadata": {},
   "outputs": [
    {
     "data": {
      "text/plain": [
       "array(['RCB', 'MI', 'DC', 'KKR', 'CSK', 'DD', 'KXI', 'RR', 'KTK', 'PW',\n",
       "       'SRH', 'RPS', 'GL'], dtype=object)"
      ]
     },
     "execution_count": 38,
     "metadata": {},
     "output_type": "execute_result"
    }
   ],
   "source": [
    "wins['team1_id'].unique()"
   ]
  },
  {
   "cell_type": "code",
   "execution_count": 39,
   "metadata": {},
   "outputs": [],
   "source": [
    "csk_loss=len(wins[(wins.team1_id =='CSK') | (wins.team2_id=='CSK')]) \n",
    "mi_loss=len(wins[(wins.team1_id =='MI') | (wins.team2_id=='MI')]) \n",
    "kxi_loss=len(wins[(wins.team1_id =='KXI') | (wins.team2_id=='KXI')])\n",
    "dd_loss=len(wins[(wins.team1_id =='DD') | (wins.team2_id=='DD')])\n",
    "rr_loss=len(wins[(wins.team1_id =='RR') | (wins.team2_id=='RR')])\n",
    "dc_loss=len(wins[(wins.team1_id =='DC') | (wins.team2_id=='DC')])\n",
    "kkr_loss=len(wins[(wins.team1_id =='KKR') | (wins.team2_id=='KKR')])\n",
    "srh_loss=len(wins[(wins.team1_id =='SRH') | (wins.team2_id=='SRH')])\n",
    "teams_loss=[csk_loss,mi_loss,kxi_loss,dd_loss,rr_loss,dc_loss,kkr_loss,srh_loss]\n",
    "labelss=['CSK','MI','KXI','DD','RR','DC','KKR','SRH']"
   ]
  },
  {
   "cell_type": "code",
   "execution_count": 40,
   "metadata": {},
   "outputs": [
    {
     "data": {
      "application/vnd.plotly.v1+json": {
       "config": {
        "linkText": "Export to plot.ly",
        "plotlyServerURL": "https://plot.ly",
        "showLink": false
       },
       "data": [
        {
         "marker": {
          "color": [
           "#F9F606",
           "#0983FC",
           "#FB5304",
           "#4404FB",
           "#FB04D9",
           "#0939FA",
           "#000000",
           "#FA9B09"
          ]
         },
         "name": "Wins",
         "type": "bar",
         "uid": "dda6c827-c822-4a87-be87-13d635c06f0c",
         "x": [
          "CSK",
          "MI",
          "KXI",
          "DD",
          "RR",
          "DC",
          "KKR",
          "SRH"
         ],
         "y": [
          7,
          8,
          8,
          12,
          8,
          5,
          9,
          4
         ]
        }
       ],
       "layout": {
        "showlegend": false,
        "title": {
         "text": "RCB vs Different teams"
        },
        "xaxis": {
         "tickangle": -45,
         "tickmode": "linear",
         "title": {
          "font": {
           "size": 16
          },
          "text": "Teams"
         }
        },
        "yaxis": {
         "tickfont": {
          "size": 14
         },
         "title": {
          "font": {
           "size": 16
          },
          "text": "Number Of Wins"
         }
        }
       }
      },
      "text/html": [
       "<div id=\"2fec4e2f-8cfc-47ec-b4d5-6d3c5879ac16\" style=\"height: 525px; width: 100%;\" class=\"plotly-graph-div\"></div><script type=\"text/javascript\">require([\"plotly\"], function(Plotly) { window.PLOTLYENV=window.PLOTLYENV || {};window.PLOTLYENV.BASE_URL=\"https://plot.ly\";\n",
       "if (document.getElementById(\"2fec4e2f-8cfc-47ec-b4d5-6d3c5879ac16\")) {\n",
       "    Plotly.newPlot(\"2fec4e2f-8cfc-47ec-b4d5-6d3c5879ac16\", [{\"marker\": {\"color\": [\"#F9F606\", \"#0983FC\", \"#FB5304\", \"#4404FB\", \"#FB04D9\", \"#0939FA\", \"#000000\", \"#FA9B09\"]}, \"name\": \"Wins\", \"x\": [\"CSK\", \"MI\", \"KXI\", \"DD\", \"RR\", \"DC\", \"KKR\", \"SRH\"], \"y\": [7, 8, 8, 12, 8, 5, 9, 4], \"type\": \"bar\", \"uid\": \"dda6c827-c822-4a87-be87-13d635c06f0c\"}], {\"showlegend\": false, \"title\": {\"text\": \"RCB vs Different teams\"}, \"xaxis\": {\"tickangle\": -45, \"tickmode\": \"linear\", \"title\": {\"font\": {\"size\": 16}, \"text\": \"Teams\"}}, \"yaxis\": {\"tickfont\": {\"size\": 14}, \"title\": {\"font\": {\"size\": 16}, \"text\": \"Number Of Wins\"}}}, {\"showLink\": false, \"linkText\": \"Export to plot.ly\", \"plotlyServerURL\": \"https://plot.ly\"}); \n",
       "}\n",
       "});</script><script type=\"text/javascript\">window.addEventListener(\"resize\", function(){if (document.getElementById(\"2fec4e2f-8cfc-47ec-b4d5-6d3c5879ac16\")) {window._Plotly.Plots.resize(document.getElementById(\"2fec4e2f-8cfc-47ec-b4d5-6d3c5879ac16\"));};})</script>"
      ],
      "text/vnd.plotly.v1+html": [
       "<div id=\"2fec4e2f-8cfc-47ec-b4d5-6d3c5879ac16\" style=\"height: 525px; width: 100%;\" class=\"plotly-graph-div\"></div><script type=\"text/javascript\">require([\"plotly\"], function(Plotly) { window.PLOTLYENV=window.PLOTLYENV || {};window.PLOTLYENV.BASE_URL=\"https://plot.ly\";\n",
       "if (document.getElementById(\"2fec4e2f-8cfc-47ec-b4d5-6d3c5879ac16\")) {\n",
       "    Plotly.newPlot(\"2fec4e2f-8cfc-47ec-b4d5-6d3c5879ac16\", [{\"marker\": {\"color\": [\"#F9F606\", \"#0983FC\", \"#FB5304\", \"#4404FB\", \"#FB04D9\", \"#0939FA\", \"#000000\", \"#FA9B09\"]}, \"name\": \"Wins\", \"x\": [\"CSK\", \"MI\", \"KXI\", \"DD\", \"RR\", \"DC\", \"KKR\", \"SRH\"], \"y\": [7, 8, 8, 12, 8, 5, 9, 4], \"type\": \"bar\", \"uid\": \"dda6c827-c822-4a87-be87-13d635c06f0c\"}], {\"showlegend\": false, \"title\": {\"text\": \"RCB vs Different teams\"}, \"xaxis\": {\"tickangle\": -45, \"tickmode\": \"linear\", \"title\": {\"font\": {\"size\": 16}, \"text\": \"Teams\"}}, \"yaxis\": {\"tickfont\": {\"size\": 14}, \"title\": {\"font\": {\"size\": 16}, \"text\": \"Number Of Wins\"}}}, {\"showLink\": false, \"linkText\": \"Export to plot.ly\", \"plotlyServerURL\": \"https://plot.ly\"}); \n",
       "}\n",
       "});</script><script type=\"text/javascript\">window.addEventListener(\"resize\", function(){if (document.getElementById(\"2fec4e2f-8cfc-47ec-b4d5-6d3c5879ac16\")) {window._Plotly.Plots.resize(document.getElementById(\"2fec4e2f-8cfc-47ec-b4d5-6d3c5879ac16\"));};})</script>"
      ]
     },
     "metadata": {},
     "output_type": "display_data"
    }
   ],
   "source": [
    "\n",
    "\n",
    "data = [go.Bar(\n",
    "            x=labelss,\n",
    "            y=teams_loss,\n",
    "            marker=dict(color=['#F9F606','#0983FC','#FB5304','#4404FB','#FB04D9','#0939FA','#000000','#FA9B09']), \n",
    "            name=\"Wins\",            \n",
    "    )]\n",
    "layout = go.Layout(\n",
    "    showlegend=False,\n",
    "    xaxis=dict(tickangle=-45,tickmode='linear',title='Teams', titlefont=dict(\n",
    "            size=16,\n",
    "        \n",
    "        )),title='RCB vs Different teams',   \n",
    "         yaxis=dict(\n",
    "        title='Number Of Wins',\n",
    "        titlefont=dict(\n",
    "            size=16\n",
    "        ),\n",
    "        tickfont=dict(\n",
    "            size=14\n",
    "        )\n",
    "    ),\n",
    ")\n",
    "fig = go.Figure(data=data, layout=layout)\n",
    "iplot(fig, filename='style-bar',show_link=False)"
   ]
  },
  {
   "cell_type": "markdown",
   "metadata": {},
   "source": [
    "<b>It would be better if instead of number of wins we used win percentage</b>"
   ]
  },
  {
   "cell_type": "code",
   "execution_count": 41,
   "metadata": {},
   "outputs": [],
   "source": [
    "csk_matches=len(df[(df.team1_id =='CSK') | (df.team2_id=='CSK')]) \n",
    "mi_matches=len(df[(df.team1_id =='MI') | (df.team2_id=='MI')]) \n",
    "kxi_matches=len(df[(df.team1_id =='KXI') | (df.team2_id=='KXI')])\n",
    "dd_matches=len(df[(df.team1_id =='DD') | (df.team2_id=='DD')])\n",
    "rr_matches=len(df[(df.team1_id =='RR') | (df.team2_id=='RR')])\n",
    "dc_matches=len(df[(df.team1_id =='DC') | (df.team2_id=='DC')])\n",
    "kkr_matches=len(df[(df.team1_id =='KKR') | (df.team2_id=='KKR')])\n",
    "srh_matches=len(df[(df.team1_id =='SRH') | (df.team2_id=='SRH')])\n",
    "teams_matches=[csk_matches,mi_matches,kxi_matches,dd_matches,rr_matches,dc_matches,kkr_matches,srh_matches]\n",
    "labelss=['CSK','MI','KXI','DD','RR','DC','KKR','SRH']"
   ]
  },
  {
   "cell_type": "code",
   "execution_count": 42,
   "metadata": {},
   "outputs": [],
   "source": [
    "res_list = [teams_loss[i]/teams_matches[i]*100 for i in range(len(teams_matches))]"
   ]
  },
  {
   "cell_type": "code",
   "execution_count": 43,
   "metadata": {},
   "outputs": [
    {
     "data": {
      "application/vnd.plotly.v1+json": {
       "config": {
        "linkText": "Export to plot.ly",
        "plotlyServerURL": "https://plot.ly",
        "showLink": false
       },
       "data": [
        {
         "marker": {
          "color": [
           "#F9F606",
           "#0983FC",
           "#FB5304",
           "#4404FB",
           "#FB04D9",
           "#0939FA",
           "#000000",
           "#FA9B09"
          ]
         },
         "name": "Wins",
         "type": "bar",
         "uid": "a2b8ceac-625f-4d2a-a31a-db6c16cab46c",
         "x": [
          "CSK",
          "MI",
          "KXI",
          "DD",
          "RR",
          "DC",
          "KKR",
          "SRH"
         ],
         "y": [
          36.84210526315789,
          38.095238095238095,
          40,
          63.1578947368421,
          50,
          45.45454545454545,
          45,
          40
         ]
        }
       ],
       "layout": {
        "showlegend": false,
        "title": {
         "text": "RCB vs Different teams"
        },
        "xaxis": {
         "tickangle": -45,
         "tickmode": "linear",
         "title": {
          "font": {
           "size": 16
          },
          "text": "Teams"
         }
        },
        "yaxis": {
         "tickfont": {
          "size": 14
         },
         "title": {
          "font": {
           "size": 16
          },
          "text": "Win percentage"
         }
        }
       }
      },
      "text/html": [
       "<div id=\"9df32000-50b3-41b4-ab3c-97f5556bb134\" style=\"height: 525px; width: 100%;\" class=\"plotly-graph-div\"></div><script type=\"text/javascript\">require([\"plotly\"], function(Plotly) { window.PLOTLYENV=window.PLOTLYENV || {};window.PLOTLYENV.BASE_URL=\"https://plot.ly\";\n",
       "if (document.getElementById(\"9df32000-50b3-41b4-ab3c-97f5556bb134\")) {\n",
       "    Plotly.newPlot(\"9df32000-50b3-41b4-ab3c-97f5556bb134\", [{\"marker\": {\"color\": [\"#F9F606\", \"#0983FC\", \"#FB5304\", \"#4404FB\", \"#FB04D9\", \"#0939FA\", \"#000000\", \"#FA9B09\"]}, \"name\": \"Wins\", \"x\": [\"CSK\", \"MI\", \"KXI\", \"DD\", \"RR\", \"DC\", \"KKR\", \"SRH\"], \"y\": [36.84210526315789, 38.095238095238095, 40.0, 63.1578947368421, 50.0, 45.45454545454545, 45.0, 40.0], \"type\": \"bar\", \"uid\": \"a2b8ceac-625f-4d2a-a31a-db6c16cab46c\"}], {\"showlegend\": false, \"title\": {\"text\": \"RCB vs Different teams\"}, \"xaxis\": {\"tickangle\": -45, \"tickmode\": \"linear\", \"title\": {\"font\": {\"size\": 16}, \"text\": \"Teams\"}}, \"yaxis\": {\"tickfont\": {\"size\": 14}, \"title\": {\"font\": {\"size\": 16}, \"text\": \"Win percentage\"}}}, {\"showLink\": false, \"linkText\": \"Export to plot.ly\", \"plotlyServerURL\": \"https://plot.ly\"}); \n",
       "}\n",
       "});</script><script type=\"text/javascript\">window.addEventListener(\"resize\", function(){if (document.getElementById(\"9df32000-50b3-41b4-ab3c-97f5556bb134\")) {window._Plotly.Plots.resize(document.getElementById(\"9df32000-50b3-41b4-ab3c-97f5556bb134\"));};})</script>"
      ],
      "text/vnd.plotly.v1+html": [
       "<div id=\"9df32000-50b3-41b4-ab3c-97f5556bb134\" style=\"height: 525px; width: 100%;\" class=\"plotly-graph-div\"></div><script type=\"text/javascript\">require([\"plotly\"], function(Plotly) { window.PLOTLYENV=window.PLOTLYENV || {};window.PLOTLYENV.BASE_URL=\"https://plot.ly\";\n",
       "if (document.getElementById(\"9df32000-50b3-41b4-ab3c-97f5556bb134\")) {\n",
       "    Plotly.newPlot(\"9df32000-50b3-41b4-ab3c-97f5556bb134\", [{\"marker\": {\"color\": [\"#F9F606\", \"#0983FC\", \"#FB5304\", \"#4404FB\", \"#FB04D9\", \"#0939FA\", \"#000000\", \"#FA9B09\"]}, \"name\": \"Wins\", \"x\": [\"CSK\", \"MI\", \"KXI\", \"DD\", \"RR\", \"DC\", \"KKR\", \"SRH\"], \"y\": [36.84210526315789, 38.095238095238095, 40.0, 63.1578947368421, 50.0, 45.45454545454545, 45.0, 40.0], \"type\": \"bar\", \"uid\": \"a2b8ceac-625f-4d2a-a31a-db6c16cab46c\"}], {\"showlegend\": false, \"title\": {\"text\": \"RCB vs Different teams\"}, \"xaxis\": {\"tickangle\": -45, \"tickmode\": \"linear\", \"title\": {\"font\": {\"size\": 16}, \"text\": \"Teams\"}}, \"yaxis\": {\"tickfont\": {\"size\": 14}, \"title\": {\"font\": {\"size\": 16}, \"text\": \"Win percentage\"}}}, {\"showLink\": false, \"linkText\": \"Export to plot.ly\", \"plotlyServerURL\": \"https://plot.ly\"}); \n",
       "}\n",
       "});</script><script type=\"text/javascript\">window.addEventListener(\"resize\", function(){if (document.getElementById(\"9df32000-50b3-41b4-ab3c-97f5556bb134\")) {window._Plotly.Plots.resize(document.getElementById(\"9df32000-50b3-41b4-ab3c-97f5556bb134\"));};})</script>"
      ]
     },
     "metadata": {},
     "output_type": "display_data"
    }
   ],
   "source": [
    "data = [go.Bar(\n",
    "            x=labelss,\n",
    "            y=res_list,\n",
    "            marker=dict(color=['#F9F606','#0983FC','#FB5304','#4404FB','#FB04D9','#0939FA','#000000','#FA9B09']), \n",
    "            name=\"Wins\",            \n",
    "    )]\n",
    "layout = go.Layout(\n",
    "    showlegend=False,\n",
    "    xaxis=dict(tickangle=-45,tickmode='linear',title='Teams', titlefont=dict(\n",
    "            size=16,\n",
    "        \n",
    "        )),title='RCB vs Different teams',   \n",
    "         yaxis=dict(\n",
    "        title='Win percentage',\n",
    "        titlefont=dict(\n",
    "            size=16\n",
    "        ),\n",
    "        tickfont=dict(\n",
    "            size=14\n",
    "        )\n",
    "    ),\n",
    ")\n",
    "fig = go.Figure(data=data, layout=layout)\n",
    "iplot(fig, filename='style-bar',show_link=False)"
   ]
  },
  {
   "cell_type": "markdown",
   "metadata": {},
   "source": [
    "This gives a better insight of RCB performance against different teams we can see RCB has won 62 % games against DD and have lowest success rate against CSK"
   ]
  },
  {
   "cell_type": "markdown",
   "metadata": {},
   "source": [
    "Let us look at the close matches RCB lost"
   ]
  },
  {
   "cell_type": "code",
   "execution_count": 44,
   "metadata": {},
   "outputs": [
    {
     "data": {
      "text/plain": [
       "5"
      ]
     },
     "execution_count": 44,
     "metadata": {},
     "output_type": "execute_result"
    }
   ],
   "source": [
    "len(df[(df.win_by_runs>0) & (df.win_by_runs<10) & (df.winner!='RCB')] )"
   ]
  },
  {
   "cell_type": "markdown",
   "metadata": {},
   "source": [
    "<b>There have been 5 matches where RCB lost by less than 10 runs</b>"
   ]
  },
  {
   "cell_type": "markdown",
   "metadata": {},
   "source": [
    "This was the maximum info we could get from this dataset. We have another dataset which has ball by ball observation we will perform analysis on this data set and later merge the datasets"
   ]
  },
  {
   "cell_type": "code",
   "execution_count": 45,
   "metadata": {},
   "outputs": [],
   "source": [
    "df_ball_by_ball=pd.read_csv('E:/Hacka/train (1)/train/ball_by_ball_data.csv') # reading data"
   ]
  },
  {
   "cell_type": "code",
   "execution_count": 46,
   "metadata": {},
   "outputs": [
    {
     "data": {
      "text/html": [
       "<div>\n",
       "<style>\n",
       "    .dataframe thead tr:only-child th {\n",
       "        text-align: right;\n",
       "    }\n",
       "\n",
       "    .dataframe thead th {\n",
       "        text-align: left;\n",
       "    }\n",
       "\n",
       "    .dataframe tbody tr th {\n",
       "        vertical-align: top;\n",
       "    }\n",
       "</style>\n",
       "<table border=\"1\" class=\"dataframe\">\n",
       "  <thead>\n",
       "    <tr style=\"text-align: right;\">\n",
       "      <th></th>\n",
       "      <th>match_id</th>\n",
       "      <th>inning</th>\n",
       "      <th>batting_team</th>\n",
       "      <th>bowling_team</th>\n",
       "      <th>over</th>\n",
       "      <th>ball</th>\n",
       "      <th>batsman</th>\n",
       "      <th>batsman_id</th>\n",
       "      <th>non_striker</th>\n",
       "      <th>non_striker_id</th>\n",
       "      <th>bowler</th>\n",
       "      <th>bowler_id</th>\n",
       "      <th>batsman_runs</th>\n",
       "      <th>extra_runs</th>\n",
       "      <th>player_dismissed</th>\n",
       "      <th>player_dismissed_id</th>\n",
       "      <th>dismissal_kind</th>\n",
       "      <th>is_super_over</th>\n",
       "    </tr>\n",
       "  </thead>\n",
       "  <tbody>\n",
       "    <tr>\n",
       "      <th>0</th>\n",
       "      <td>2017_1</td>\n",
       "      <td>1</td>\n",
       "      <td>SRH</td>\n",
       "      <td>RCB</td>\n",
       "      <td>1</td>\n",
       "      <td>1</td>\n",
       "      <td>David Warner</td>\n",
       "      <td>207</td>\n",
       "      <td>Shikhar Dhawan</td>\n",
       "      <td>57</td>\n",
       "      <td>Tymal Mills</td>\n",
       "      <td>621</td>\n",
       "      <td>0</td>\n",
       "      <td>0</td>\n",
       "      <td>NaN</td>\n",
       "      <td>NaN</td>\n",
       "      <td>NaN</td>\n",
       "      <td>0</td>\n",
       "    </tr>\n",
       "    <tr>\n",
       "      <th>1</th>\n",
       "      <td>2017_1</td>\n",
       "      <td>1</td>\n",
       "      <td>SRH</td>\n",
       "      <td>RCB</td>\n",
       "      <td>1</td>\n",
       "      <td>2</td>\n",
       "      <td>David Warner</td>\n",
       "      <td>207</td>\n",
       "      <td>Shikhar Dhawan</td>\n",
       "      <td>57</td>\n",
       "      <td>Tymal Mills</td>\n",
       "      <td>621</td>\n",
       "      <td>0</td>\n",
       "      <td>0</td>\n",
       "      <td>NaN</td>\n",
       "      <td>NaN</td>\n",
       "      <td>NaN</td>\n",
       "      <td>0</td>\n",
       "    </tr>\n",
       "    <tr>\n",
       "      <th>2</th>\n",
       "      <td>2017_1</td>\n",
       "      <td>1</td>\n",
       "      <td>SRH</td>\n",
       "      <td>RCB</td>\n",
       "      <td>1</td>\n",
       "      <td>3</td>\n",
       "      <td>David Warner</td>\n",
       "      <td>207</td>\n",
       "      <td>Shikhar Dhawan</td>\n",
       "      <td>57</td>\n",
       "      <td>Tymal Mills</td>\n",
       "      <td>621</td>\n",
       "      <td>4</td>\n",
       "      <td>0</td>\n",
       "      <td>NaN</td>\n",
       "      <td>NaN</td>\n",
       "      <td>NaN</td>\n",
       "      <td>0</td>\n",
       "    </tr>\n",
       "    <tr>\n",
       "      <th>3</th>\n",
       "      <td>2017_1</td>\n",
       "      <td>1</td>\n",
       "      <td>SRH</td>\n",
       "      <td>RCB</td>\n",
       "      <td>1</td>\n",
       "      <td>4</td>\n",
       "      <td>David Warner</td>\n",
       "      <td>207</td>\n",
       "      <td>Shikhar Dhawan</td>\n",
       "      <td>57</td>\n",
       "      <td>Tymal Mills</td>\n",
       "      <td>621</td>\n",
       "      <td>0</td>\n",
       "      <td>0</td>\n",
       "      <td>NaN</td>\n",
       "      <td>NaN</td>\n",
       "      <td>NaN</td>\n",
       "      <td>0</td>\n",
       "    </tr>\n",
       "    <tr>\n",
       "      <th>4</th>\n",
       "      <td>2017_1</td>\n",
       "      <td>1</td>\n",
       "      <td>SRH</td>\n",
       "      <td>RCB</td>\n",
       "      <td>1</td>\n",
       "      <td>5</td>\n",
       "      <td>David Warner</td>\n",
       "      <td>207</td>\n",
       "      <td>Shikhar Dhawan</td>\n",
       "      <td>57</td>\n",
       "      <td>Tymal Mills</td>\n",
       "      <td>621</td>\n",
       "      <td>0</td>\n",
       "      <td>2</td>\n",
       "      <td>NaN</td>\n",
       "      <td>NaN</td>\n",
       "      <td>NaN</td>\n",
       "      <td>0</td>\n",
       "    </tr>\n",
       "  </tbody>\n",
       "</table>\n",
       "</div>"
      ],
      "text/plain": [
       "  match_id  inning batting_team bowling_team  over  ball       batsman  \\\n",
       "0   2017_1       1          SRH          RCB     1     1  David Warner   \n",
       "1   2017_1       1          SRH          RCB     1     2  David Warner   \n",
       "2   2017_1       1          SRH          RCB     1     3  David Warner   \n",
       "3   2017_1       1          SRH          RCB     1     4  David Warner   \n",
       "4   2017_1       1          SRH          RCB     1     5  David Warner   \n",
       "\n",
       "   batsman_id     non_striker  non_striker_id       bowler  bowler_id  \\\n",
       "0         207  Shikhar Dhawan              57  Tymal Mills        621   \n",
       "1         207  Shikhar Dhawan              57  Tymal Mills        621   \n",
       "2         207  Shikhar Dhawan              57  Tymal Mills        621   \n",
       "3         207  Shikhar Dhawan              57  Tymal Mills        621   \n",
       "4         207  Shikhar Dhawan              57  Tymal Mills        621   \n",
       "\n",
       "   batsman_runs  extra_runs player_dismissed  player_dismissed_id  \\\n",
       "0             0           0              NaN                  NaN   \n",
       "1             0           0              NaN                  NaN   \n",
       "2             4           0              NaN                  NaN   \n",
       "3             0           0              NaN                  NaN   \n",
       "4             0           2              NaN                  NaN   \n",
       "\n",
       "  dismissal_kind  is_super_over  \n",
       "0            NaN              0  \n",
       "1            NaN              0  \n",
       "2            NaN              0  \n",
       "3            NaN              0  \n",
       "4            NaN              0  "
      ]
     },
     "execution_count": 46,
     "metadata": {},
     "output_type": "execute_result"
    }
   ],
   "source": [
    "df_ball_by_ball.head()"
   ]
  },
  {
   "cell_type": "markdown",
   "metadata": {},
   "source": [
    "<b>First let us extract all the matches played by RCB</b>"
   ]
  },
  {
   "cell_type": "code",
   "execution_count": 47,
   "metadata": {},
   "outputs": [],
   "source": [
    "rcb_matches=df_ball_by_ball[(df_ball_by_ball.batting_team =='RCB') | (df_ball_by_ball.bowling_team=='RCB')]"
   ]
  },
  {
   "cell_type": "code",
   "execution_count": 48,
   "metadata": {},
   "outputs": [
    {
     "data": {
      "text/html": [
       "<div>\n",
       "<style>\n",
       "    .dataframe thead tr:only-child th {\n",
       "        text-align: right;\n",
       "    }\n",
       "\n",
       "    .dataframe thead th {\n",
       "        text-align: left;\n",
       "    }\n",
       "\n",
       "    .dataframe tbody tr th {\n",
       "        vertical-align: top;\n",
       "    }\n",
       "</style>\n",
       "<table border=\"1\" class=\"dataframe\">\n",
       "  <thead>\n",
       "    <tr style=\"text-align: right;\">\n",
       "      <th></th>\n",
       "      <th>match_id</th>\n",
       "      <th>inning</th>\n",
       "      <th>batting_team</th>\n",
       "      <th>bowling_team</th>\n",
       "      <th>over</th>\n",
       "      <th>ball</th>\n",
       "      <th>batsman</th>\n",
       "      <th>batsman_id</th>\n",
       "      <th>non_striker</th>\n",
       "      <th>non_striker_id</th>\n",
       "      <th>bowler</th>\n",
       "      <th>bowler_id</th>\n",
       "      <th>batsman_runs</th>\n",
       "      <th>extra_runs</th>\n",
       "      <th>player_dismissed</th>\n",
       "      <th>player_dismissed_id</th>\n",
       "      <th>dismissal_kind</th>\n",
       "      <th>is_super_over</th>\n",
       "    </tr>\n",
       "  </thead>\n",
       "  <tbody>\n",
       "    <tr>\n",
       "      <th>0</th>\n",
       "      <td>2017_1</td>\n",
       "      <td>1</td>\n",
       "      <td>SRH</td>\n",
       "      <td>RCB</td>\n",
       "      <td>1</td>\n",
       "      <td>1</td>\n",
       "      <td>David Warner</td>\n",
       "      <td>207</td>\n",
       "      <td>Shikhar Dhawan</td>\n",
       "      <td>57</td>\n",
       "      <td>Tymal Mills</td>\n",
       "      <td>621</td>\n",
       "      <td>0</td>\n",
       "      <td>0</td>\n",
       "      <td>NaN</td>\n",
       "      <td>NaN</td>\n",
       "      <td>NaN</td>\n",
       "      <td>0</td>\n",
       "    </tr>\n",
       "    <tr>\n",
       "      <th>1</th>\n",
       "      <td>2017_1</td>\n",
       "      <td>1</td>\n",
       "      <td>SRH</td>\n",
       "      <td>RCB</td>\n",
       "      <td>1</td>\n",
       "      <td>2</td>\n",
       "      <td>David Warner</td>\n",
       "      <td>207</td>\n",
       "      <td>Shikhar Dhawan</td>\n",
       "      <td>57</td>\n",
       "      <td>Tymal Mills</td>\n",
       "      <td>621</td>\n",
       "      <td>0</td>\n",
       "      <td>0</td>\n",
       "      <td>NaN</td>\n",
       "      <td>NaN</td>\n",
       "      <td>NaN</td>\n",
       "      <td>0</td>\n",
       "    </tr>\n",
       "    <tr>\n",
       "      <th>2</th>\n",
       "      <td>2017_1</td>\n",
       "      <td>1</td>\n",
       "      <td>SRH</td>\n",
       "      <td>RCB</td>\n",
       "      <td>1</td>\n",
       "      <td>3</td>\n",
       "      <td>David Warner</td>\n",
       "      <td>207</td>\n",
       "      <td>Shikhar Dhawan</td>\n",
       "      <td>57</td>\n",
       "      <td>Tymal Mills</td>\n",
       "      <td>621</td>\n",
       "      <td>4</td>\n",
       "      <td>0</td>\n",
       "      <td>NaN</td>\n",
       "      <td>NaN</td>\n",
       "      <td>NaN</td>\n",
       "      <td>0</td>\n",
       "    </tr>\n",
       "    <tr>\n",
       "      <th>3</th>\n",
       "      <td>2017_1</td>\n",
       "      <td>1</td>\n",
       "      <td>SRH</td>\n",
       "      <td>RCB</td>\n",
       "      <td>1</td>\n",
       "      <td>4</td>\n",
       "      <td>David Warner</td>\n",
       "      <td>207</td>\n",
       "      <td>Shikhar Dhawan</td>\n",
       "      <td>57</td>\n",
       "      <td>Tymal Mills</td>\n",
       "      <td>621</td>\n",
       "      <td>0</td>\n",
       "      <td>0</td>\n",
       "      <td>NaN</td>\n",
       "      <td>NaN</td>\n",
       "      <td>NaN</td>\n",
       "      <td>0</td>\n",
       "    </tr>\n",
       "    <tr>\n",
       "      <th>4</th>\n",
       "      <td>2017_1</td>\n",
       "      <td>1</td>\n",
       "      <td>SRH</td>\n",
       "      <td>RCB</td>\n",
       "      <td>1</td>\n",
       "      <td>5</td>\n",
       "      <td>David Warner</td>\n",
       "      <td>207</td>\n",
       "      <td>Shikhar Dhawan</td>\n",
       "      <td>57</td>\n",
       "      <td>Tymal Mills</td>\n",
       "      <td>621</td>\n",
       "      <td>0</td>\n",
       "      <td>2</td>\n",
       "      <td>NaN</td>\n",
       "      <td>NaN</td>\n",
       "      <td>NaN</td>\n",
       "      <td>0</td>\n",
       "    </tr>\n",
       "  </tbody>\n",
       "</table>\n",
       "</div>"
      ],
      "text/plain": [
       "  match_id  inning batting_team bowling_team  over  ball       batsman  \\\n",
       "0   2017_1       1          SRH          RCB     1     1  David Warner   \n",
       "1   2017_1       1          SRH          RCB     1     2  David Warner   \n",
       "2   2017_1       1          SRH          RCB     1     3  David Warner   \n",
       "3   2017_1       1          SRH          RCB     1     4  David Warner   \n",
       "4   2017_1       1          SRH          RCB     1     5  David Warner   \n",
       "\n",
       "   batsman_id     non_striker  non_striker_id       bowler  bowler_id  \\\n",
       "0         207  Shikhar Dhawan              57  Tymal Mills        621   \n",
       "1         207  Shikhar Dhawan              57  Tymal Mills        621   \n",
       "2         207  Shikhar Dhawan              57  Tymal Mills        621   \n",
       "3         207  Shikhar Dhawan              57  Tymal Mills        621   \n",
       "4         207  Shikhar Dhawan              57  Tymal Mills        621   \n",
       "\n",
       "   batsman_runs  extra_runs player_dismissed  player_dismissed_id  \\\n",
       "0             0           0              NaN                  NaN   \n",
       "1             0           0              NaN                  NaN   \n",
       "2             4           0              NaN                  NaN   \n",
       "3             0           0              NaN                  NaN   \n",
       "4             0           2              NaN                  NaN   \n",
       "\n",
       "  dismissal_kind  is_super_over  \n",
       "0            NaN              0  \n",
       "1            NaN              0  \n",
       "2            NaN              0  \n",
       "3            NaN              0  \n",
       "4            NaN              0  "
      ]
     },
     "execution_count": 48,
     "metadata": {},
     "output_type": "execute_result"
    }
   ],
   "source": [
    "rcb_matches.head()"
   ]
  },
  {
   "cell_type": "code",
   "execution_count": 49,
   "metadata": {},
   "outputs": [],
   "source": [
    "#total_matches_rcb_played\n",
    "unique_matches=rcb_matches['match_id'].unique()\n",
    "#Total 152 matches played by RCB"
   ]
  },
  {
   "cell_type": "code",
   "execution_count": 50,
   "metadata": {},
   "outputs": [
    {
     "data": {
      "text/plain": [
       "array(['2017_1', '2017_5', '2017_8', '2017_12', '2017_17', '2017_20',\n",
       "       '2017_27', '2017_30', '2017_33', '2017_37', '2017_42', '2017_45',\n",
       "       '2017_55', '2008_1', '2008_4', '2008_11', '2008_15', '2008_17',\n",
       "       '2008_21', '2008_25', '2008_29', '2008_31', '2008_35', '2008_42',\n",
       "       '2008_45', '2008_48', '2008_52', '2009_2', '2009_5', '2009_7',\n",
       "       '2009_10', '2009_12', '2009_17', '2009_22', '2009_26', '2009_31',\n",
       "       '2009_36', '2009_39', '2009_42', '2009_50', '2009_54', '2009_56',\n",
       "       '2009_57', '2010_4', '2010_7', '2010_10', '2010_14', '2010_18',\n",
       "       '2010_23', '2010_28', '2010_31', '2010_35', '2010_40', '2010_43',\n",
       "       '2010_46', '2010_49', '2010_52', '2010_57', '2010_59', '2011_3',\n",
       "       '2011_8', '2011_11', '2011_14', '2011_24', '2011_29', '2011_34',\n",
       "       '2011_46', '2011_49', '2011_54', '2011_57', '2011_62', '2011_68',\n",
       "       '2011_70', '2011_72', '2011_73', '2012_5', '2012_10', '2012_13',\n",
       "       '2012_19', '2012_22', '2012_26', '2012_31', '2012_37', '2012_43',\n",
       "       '2012_49', '2012_53', '2012_55', '2012_60', '2012_65', '2012_69',\n",
       "       '2013_2', '2013_7', '2013_11', '2013_15', '2013_20', '2013_26',\n",
       "       '2013_30', '2013_36', '2013_39', '2013_45', '2013_48', '2013_51',\n",
       "       '2013_57', '2013_60', '2013_67', '2013_71', '2014_2', '2014_5',\n",
       "       '2014_11', '2014_14', '2014_18', '2014_24', '2014_27', '2014_31',\n",
       "       '2014_35', '2014_38', '2014_42', '2014_46', '2014_49', '2014_53',\n",
       "       '2015_5', '2015_8', '2015_17', '2015_21', '2015_23', '2015_26',\n",
       "       '2015_29', '2015_33', '2015_37', '2015_40', '2015_45', '2015_49',\n",
       "       '2015_51', '2015_54', '2015_57', '2015_58', '2016_4', '2016_11',\n",
       "       '2016_14', '2016_16', '2016_19', '2016_27', '2016_30', '2016_35',\n",
       "       '2016_39', '2016_41', '2016_44', '2016_48', '2016_50', '2016_56',\n",
       "       '2016_57', '2016_60'], dtype=object)"
      ]
     },
     "execution_count": 50,
     "metadata": {},
     "output_type": "execute_result"
    }
   ],
   "source": [
    "unique_matches"
   ]
  },
  {
   "cell_type": "markdown",
   "metadata": {},
   "source": [
    "These are all ids of all the matches RCB played. We will perform analysis on all the balls and will perform analysis on these balls."
   ]
  },
  {
   "cell_type": "code",
   "execution_count": null,
   "metadata": {},
   "outputs": [],
   "source": []
  }
 ],
 "metadata": {
  "kernelspec": {
   "display_name": "Python 3",
   "language": "python",
   "name": "python3"
  },
  "language_info": {
   "codemirror_mode": {
    "name": "ipython",
    "version": 3
   },
   "file_extension": ".py",
   "mimetype": "text/x-python",
   "name": "python",
   "nbconvert_exporter": "python",
   "pygments_lexer": "ipython3",
   "version": "3.6.3"
  }
 },
 "nbformat": 4,
 "nbformat_minor": 2
}
