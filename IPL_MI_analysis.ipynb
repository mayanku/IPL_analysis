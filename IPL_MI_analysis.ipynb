{
 "cells": [
  {
   "cell_type": "code",
   "execution_count": 1,
   "metadata": {},
   "outputs": [],
   "source": [
    "#pandas and numpy package\n",
    "import pandas as pd\n",
    "import numpy as np"
   ]
  },
  {
   "cell_type": "code",
   "execution_count": 2,
   "metadata": {},
   "outputs": [],
   "source": [
    "#reading match_analysis\n",
    "df_match=pd.read_csv('C:/Users/Mayank Gupta/Desktop/IPL_analysis/Datasets/match_data.csv') "
   ]
  },
  {
   "cell_type": "code",
   "execution_count": 3,
   "metadata": {},
   "outputs": [],
   "source": [
    "#All the matches MI played\n",
    "df_mi=df_match[df_match.team1_id=='MI'] \n",
    "df_mi_2=df_match[df_match.team2_id=='MI']\n",
    "df_mi_matches=pd.concat([df_mi,df_mi_2]) #All the matches MI played "
   ]
  },
  {
   "cell_type": "code",
   "execution_count": 4,
   "metadata": {},
   "outputs": [
    {
     "name": "stderr",
     "output_type": "stream",
     "text": [
      "C:\\Users\\Mayank Gupta\\AppData\\Local\\Continuum\\Anaconds\\anaconda3\\lib\\site-packages\\ipykernel_launcher.py:8: UserWarning: Boolean Series key will be reindexed to match DataFrame index.\n",
      "  \n"
     ]
    }
   ],
   "source": [
    "#to find the season wise wins of MI\n",
    "import sys\n",
    "wins=[]\n",
    "season=[]\n",
    "for i in range(2008,2018):\n",
    "    seasonwisewins=df_mi_matches[df_mi_matches.season==i]\n",
    "    season.append(i)\n",
    "    wins.append(len(seasonwisewins[df_mi_matches.winner=='MI']))"
   ]
  },
  {
   "cell_type": "code",
   "execution_count": 5,
   "metadata": {},
   "outputs": [],
   "source": [
    "dictionary_mi_wins = dict(zip(season, wins)) #dictionary containing season and number wins"
   ]
  },
  {
   "cell_type": "code",
   "execution_count": 6,
   "metadata": {},
   "outputs": [
    {
     "data": {
      "text/plain": [
       "{2008: 7,\n",
       " 2009: 5,\n",
       " 2010: 11,\n",
       " 2011: 10,\n",
       " 2012: 10,\n",
       " 2013: 13,\n",
       " 2014: 7,\n",
       " 2015: 10,\n",
       " 2016: 7,\n",
       " 2017: 12}"
      ]
     },
     "execution_count": 6,
     "metadata": {},
     "output_type": "execute_result"
    }
   ],
   "source": [
    "dictionary_mi_wins"
   ]
  },
  {
   "cell_type": "code",
   "execution_count": 7,
   "metadata": {},
   "outputs": [],
   "source": [
    "season=list(map(str,season)) #convert list of int to list of strings"
   ]
  },
  {
   "cell_type": "markdown",
   "metadata": {},
   "source": [
    "<b>We can see that leaving few easons MI has been the most consistent team of IPL </b>"
   ]
  },
  {
   "cell_type": "code",
   "execution_count": 9,
   "metadata": {},
   "outputs": [
    {
     "data": {
      "image/png": "[encoded data removed]",
      "text/plain": [
       "<Figure size 432x288 with 1 Axes>"
      ]
     },
     "metadata": {
      "needs_background": "light"
     },
     "output_type": "display_data"
    }
   ],
   "source": [
    "import matplotlib.pyplot as plt\n",
    "%matplotlib inline\n",
    "\n",
    "names = list(dictionary_mi_wins.keys())\n",
    "values = list(dictionary_mi_wins.values())\n",
    "\n",
    "#tick_label does the some work as plt.xticks()\n",
    "plt.bar(range(len(dictionary_mi_wins)),values,tick_label=names,color='blue')\n",
    "plt.show()"
   ]
  },
  {
   "cell_type": "code",
   "execution_count": 10,
   "metadata": {},
   "outputs": [
    {
     "data": {
      "text/html": [
       "        <script type=\"text/javascript\">\n",
       "        window.PlotlyConfig = {MathJaxConfig: 'local'};\n",
       "        if (window.MathJax) {MathJax.Hub.Config({SVG: {font: \"STIX-Web\"}});}\n",
       "        if (typeof require !== 'undefined') {\n",
       "        require.undef(\"plotly\");\n",
       "        requirejs.config({\n",
       "            paths: {\n",
       "                'plotly': ['https://cdn.plot.ly/plotly-latest.min']\n",
       "            }\n",
       "        });\n",
       "        require(['plotly'], function(Plotly) {\n",
       "            window._Plotly = Plotly;\n",
       "        });\n",
       "        }\n",
       "        </script>\n",
       "        "
      ]
     },
     "metadata": {},
     "output_type": "display_data"
    },
    {
     "data": {
      "text/html": [
       "        <script type=\"text/javascript\">\n",
       "        window.PlotlyConfig = {MathJaxConfig: 'local'};\n",
       "        if (window.MathJax) {MathJax.Hub.Config({SVG: {font: \"STIX-Web\"}});}\n",
       "        if (typeof require !== 'undefined') {\n",
       "        require.undef(\"plotly\");\n",
       "        requirejs.config({\n",
       "            paths: {\n",
       "                'plotly': ['https://cdn.plot.ly/plotly-latest.min']\n",
       "            }\n",
       "        });\n",
       "        require(['plotly'], function(Plotly) {\n",
       "            window._Plotly = Plotly;\n",
       "        });\n",
       "        }\n",
       "        </script>\n",
       "        "
      ]
     },
     "metadata": {},
     "output_type": "display_data"
    }
   ],
   "source": [
    "# Standard plotly imports\n",
    "import chart_studio \n",
    "import chart_studio.plotly as py\n",
    "import plotly.graph_objs as go\n",
    "from plotly.offline import iplot, init_notebook_mode,plot\n",
    "import cufflinks as cf\n",
    "cf.go_offline(connected=True)\n",
    "init_notebook_mode(connected=True)\n"
   ]
  },
  {
   "cell_type": "markdown",
   "metadata": {},
   "source": [
    "<b>Let us see MI performance in and away from home Did it had a huge impact on their success Let us Find Out..</b>"
   ]
  },
  {
   "cell_type": "code",
   "execution_count": 12,
   "metadata": {},
   "outputs": [
    {
     "data": {
      "application/vnd.plotly.v1+json": {
       "config": {
        "linkText": "Export to plot.ly",
        "plotlyServerURL": "https://plot.ly",
        "showLink": false
       },
       "data": [
        {
         "labels": [
          "Home Wins",
          "Away Wins"
         ],
         "type": "pie",
         "uid": "0aa327a0-39a9-4fe4-b5d0-277b94e71b62",
         "values": [
          45,
          47
         ]
        }
       ],
       "layout": {}
      },
      "text/html": [
       "<div>\n",
       "        \n",
       "        \n",
       "            <div id=\"fdbfc1e0-6cea-4f39-8905-9487ec8523b1\" class=\"plotly-graph-div\" style=\"height:525px; width:100%;\"></div>\n",
       "            <script type=\"text/javascript\">\n",
       "                require([\"plotly\"], function(Plotly) {\n",
       "                    window.PLOTLYENV=window.PLOTLYENV || {};\n",
       "                    window.PLOTLYENV.BASE_URL='https://plot.ly';\n",
       "                    \n",
       "                if (document.getElementById(\"fdbfc1e0-6cea-4f39-8905-9487ec8523b1\")) {\n",
       "                    Plotly.newPlot(\n",
       "                        'fdbfc1e0-6cea-4f39-8905-9487ec8523b1',\n",
       "                        [{\"labels\": [\"Home Wins\", \"Away Wins\"], \"type\": \"pie\", \"uid\": \"0aa327a0-39a9-4fe4-b5d0-277b94e71b62\", \"values\": [45, 47]}],\n",
       "                        {},\n",
       "                        {\"showLink\": false, \"linkText\": \"Export to plot.ly\", \"plotlyServerURL\": \"https://plot.ly\", \"responsive\": true}\n",
       "                    ).then(function(){\n",
       "                            \n",
       "var gd = document.getElementById('fdbfc1e0-6cea-4f39-8905-9487ec8523b1');\n",
       "var x = new MutationObserver(function (mutations, observer) {{\n",
       "        var display = window.getComputedStyle(gd).display;\n",
       "        if (!display || display === 'none') {{\n",
       "            console.log([gd, 'removed!']);\n",
       "            Plotly.purge(gd);\n",
       "            observer.disconnect();\n",
       "        }}\n",
       "}});\n",
       "\n",
       "// Listen for the removal of the full notebook cells\n",
       "var notebookContainer = gd.closest('#notebook-container');\n",
       "if (notebookContainer) {{\n",
       "    x.observe(notebookContainer, {childList: true});\n",
       "}}\n",
       "\n",
       "// Listen for the clearing of the current output cell\n",
       "var outputEl = gd.closest('.output');\n",
       "if (outputEl) {{\n",
       "    x.observe(outputEl, {childList: true});\n",
       "}}\n",
       "\n",
       "                        })\n",
       "                };\n",
       "                });\n",
       "            </script>\n",
       "        </div>"
      ]
     },
     "metadata": {},
     "output_type": "display_data"
    }
   ],
   "source": [
    "wins=df_mi_matches[df_mi_matches.winner=='MI']  \n",
    "wins_At_home=wins[wins.city=='Mumbai']\n",
    "count_home=len(wins_At_home)\n",
    "wins_away=wins[wins.city!='Mumbai']\n",
    "count_away=len(wins_away)\n",
    "labels = ['Home Wins','Away Wins']\n",
    "values = [count_home,count_away]\n",
    "trace = go.Pie(labels=labels, values=values)\n",
    "iplot([trace], filename='basic_pie_chart',show_link=False)"
   ]
  },
  {
   "cell_type": "markdown",
   "metadata": {},
   "source": [
    "<b>Of all the matches MI won there 51% wins were from away games <br>Now Let us see toss dependency on MI success</b>"
   ]
  },
  {
   "cell_type": "code",
   "execution_count": 13,
   "metadata": {},
   "outputs": [
    {
     "data": {
      "text/plain": [
       "48"
      ]
     },
     "execution_count": 13,
     "metadata": {},
     "output_type": "execute_result"
    }
   ],
   "source": [
    "toss_wins_match=wins[wins.toss_winner=='MI']\n",
    "len(toss_wins_match)\n"
   ]
  },
  {
   "cell_type": "code",
   "execution_count": 14,
   "metadata": {},
   "outputs": [
    {
     "data": {
      "text/plain": [
       "44"
      ]
     },
     "execution_count": 14,
     "metadata": {},
     "output_type": "execute_result"
    }
   ],
   "source": [
    "loss_wins_match=wins[wins.toss_winner!='MI']\n",
    "len(loss_wins_match)"
   ]
  },
  {
   "cell_type": "markdown",
   "metadata": {},
   "source": [
    "<b>Toss doesnot matter much for MI. They have won 48 matches when the won the toss and 44 while losing the toss</b>"
   ]
  },
  {
   "cell_type": "code",
   "execution_count": 15,
   "metadata": {},
   "outputs": [],
   "source": [
    "matches_won_batting_first=wins[wins.win_by_runs>0]\n",
    "batting_first=len(matches_won_batting_first)\n",
    "matches_won_chasing=wins[wins.win_by_wickets>0]\n",
    "batting_second=len(matches_won_chasing)"
   ]
  },
  {
   "cell_type": "code",
   "execution_count": 16,
   "metadata": {},
   "outputs": [
    {
     "name": "stdout",
     "output_type": "stream",
     "text": [
      "47\n",
      "44\n"
     ]
    }
   ],
   "source": [
    "print(batting_first)\n",
    "print(batting_second)"
   ]
  },
  {
   "cell_type": "markdown",
   "metadata": {},
   "source": [
    "<b>So MI has won 47 matches batting first and 44 matches while chasing. Let us see what happened in last 4 seasons</b>"
   ]
  },
  {
   "cell_type": "code",
   "execution_count": 17,
   "metadata": {},
   "outputs": [],
   "source": [
    "wins_season_2014=wins[wins.season==2014]\n",
    "wins_season_2015=wins[wins.season==2015]\n",
    "wins_season_2016=wins[wins.season==2016]\n",
    "wins_season_2017=wins[wins.season==2017]\n",
    "wins_last_4_seasons=pd.concat([wins_season_2014,wins_season_2015,wins_season_2016,wins_season_2017])"
   ]
  },
  {
   "cell_type": "code",
   "execution_count": 18,
   "metadata": {},
   "outputs": [],
   "source": [
    "matches_won_batting_first=wins_last_4_seasons[wins_last_4_seasons.win_by_runs>0]\n",
    "batting_first=len(matches_won_batting_first)\n",
    "matches_won_chasing=wins_last_4_seasons[wins_last_4_seasons.win_by_wickets>0]\n",
    "batting_second=len(matches_won_chasing)"
   ]
  },
  {
   "cell_type": "code",
   "execution_count": 19,
   "metadata": {},
   "outputs": [
    {
     "name": "stdout",
     "output_type": "stream",
     "text": [
      "16\n",
      "19\n"
     ]
    }
   ],
   "source": [
    "print(batting_first)\n",
    "print(batting_second)"
   ]
  },
  {
   "cell_type": "markdown",
   "metadata": {},
   "source": [
    "<b>In last four seasons MI has won 19 matches while chasing and 16 while batting first. So MI prefer chasing more</b>"
   ]
  },
  {
   "cell_type": "code",
   "execution_count": 20,
   "metadata": {},
   "outputs": [],
   "source": [
    "man_of_the_match=wins_last_4_seasons['player_of_match'].value_counts()"
   ]
  },
  {
   "cell_type": "code",
   "execution_count": 21,
   "metadata": {},
   "outputs": [
    {
     "data": {
      "image/png": "[encoded data removed]",
      "text/plain": [
       "<Figure size 720x216 with 1 Axes>"
      ]
     },
     "metadata": {
      "needs_background": "light"
     },
     "output_type": "display_data"
    }
   ],
   "source": [
    "man_of_the_match.plot.bar(figsize=(10,3),xticks=man_of_the_match,yticks=man_of_the_match)\n",
    "plt.show()"
   ]
  },
  {
   "cell_type": "code",
   "execution_count": 22,
   "metadata": {},
   "outputs": [],
   "source": [
    "man_of_the_match_overall=wins['player_of_match'].value_counts()"
   ]
  },
  {
   "cell_type": "code",
   "execution_count": 24,
   "metadata": {},
   "outputs": [
    {
     "data": {
      "image/png": "[encoded data removed]",
      "text/plain": [
       "<Figure size 864x576 with 1 Axes>"
      ]
     },
     "metadata": {
      "needs_background": "light"
     },
     "output_type": "display_data"
    }
   ],
   "source": [
    "man_of_the_match_overall.plot.bar(figsize=(12,8),xticks=man_of_the_match_overall,yticks=man_of_the_match_overall,color='blue')\n",
    "plt.show()"
   ]
  },
  {
   "cell_type": "markdown",
   "metadata": {},
   "source": [
    "<b>MI has stick to players for long time. We can see their match winners. They have retained players and it showed results </b>"
   ]
  },
  {
   "cell_type": "code",
   "execution_count": 25,
   "metadata": {},
   "outputs": [
    {
     "data": {
      "text/plain": [
       "array(['MI', 'KKR', 'RR', 'RCB', 'CSK', 'KXI', 'DD', 'PW', 'DC', 'SRH',\n",
       "       'RPS', 'GL'], dtype=object)"
      ]
     },
     "execution_count": 25,
     "metadata": {},
     "output_type": "execute_result"
    }
   ],
   "source": [
    "wins['team1_id'].unique()"
   ]
  },
  {
   "cell_type": "code",
   "execution_count": 27,
   "metadata": {},
   "outputs": [],
   "source": [
    "csk_loss=len(wins[(wins.team1_id =='CSK') | (wins.team2_id=='CSK')]) \n",
    "rcb_loss=len(wins[(wins.team1_id =='RCB') | (wins.team2_id=='RCB')]) \n",
    "kxi_loss=len(wins[(wins.team1_id =='KXI') | (wins.team2_id=='KXI')])\n",
    "dd_loss=len(wins[(wins.team1_id =='DD') | (wins.team2_id=='DD')])\n",
    "rr_loss=len(wins[(wins.team1_id =='RR') | (wins.team2_id=='RR')])\n",
    "dc_loss=len(wins[(wins.team1_id =='DC') | (wins.team2_id=='DC')])\n",
    "kkr_loss=len(wins[(wins.team1_id =='KKR') | (wins.team2_id=='KKR')])\n",
    "srh_loss=len(wins[(wins.team1_id =='SRH') | (wins.team2_id=='SRH')])\n",
    "teams_loss=[csk_loss,rcb_loss,kxi_loss,dd_loss,rr_loss,dc_loss,kkr_loss,srh_loss]\n",
    "labelss=['CSK','RCB','KXI','DD','RR','DC','KKR','SRH']"
   ]
  },
  {
   "cell_type": "code",
   "execution_count": 29,
   "metadata": {},
   "outputs": [
    {
     "data": {
      "application/vnd.plotly.v1+json": {
       "config": {
        "linkText": "Export to plot.ly",
        "plotlyServerURL": "https://plot.ly",
        "showLink": false
       },
       "data": [
        {
         "marker": {
          "color": [
           "#F9F606",
           "#FF0000",
           "#FB5304",
           "#4404FB",
           "#FB04D9",
           "#0939FA",
           "#000000",
           "#FA9B09"
          ]
         },
         "name": "Wins",
         "type": "bar",
         "uid": "5990750b-4a99-406b-bb5d-63d9615f83ac",
         "x": [
          "CSK",
          "RCB",
          "KXI",
          "DD",
          "RR",
          "DC",
          "KKR",
          "SRH"
         ],
         "y": [
          12,
          13,
          10,
          11,
          10,
          6,
          16,
          5
         ]
        }
       ],
       "layout": {
        "showlegend": false,
        "title": {
         "text": "MI vs Different teams"
        },
        "xaxis": {
         "tickangle": -45,
         "tickmode": "linear",
         "title": {
          "font": {
           "size": 16
          },
          "text": "Teams"
         }
        },
        "yaxis": {
         "tickfont": {
          "size": 14
         },
         "title": {
          "font": {
           "size": 16
          },
          "text": "Number Of Wins"
         }
        }
       }
      },
      "text/html": [
       "<div>\n",
       "        \n",
       "        \n",
       "            <div id=\"7870da53-6b0a-44d2-b454-48160b3e3a32\" class=\"plotly-graph-div\" style=\"height:525px; width:100%;\"></div>\n",
       "            <script type=\"text/javascript\">\n",
       "                require([\"plotly\"], function(Plotly) {\n",
       "                    window.PLOTLYENV=window.PLOTLYENV || {};\n",
       "                    window.PLOTLYENV.BASE_URL='https://plot.ly';\n",
       "                    \n",
       "                if (document.getElementById(\"7870da53-6b0a-44d2-b454-48160b3e3a32\")) {\n",
       "                    Plotly.newPlot(\n",
       "                        '7870da53-6b0a-44d2-b454-48160b3e3a32',\n",
       "                        [{\"marker\": {\"color\": [\"#F9F606\", \"#FF0000\", \"#FB5304\", \"#4404FB\", \"#FB04D9\", \"#0939FA\", \"#000000\", \"#FA9B09\"]}, \"name\": \"Wins\", \"type\": \"bar\", \"uid\": \"5990750b-4a99-406b-bb5d-63d9615f83ac\", \"x\": [\"CSK\", \"RCB\", \"KXI\", \"DD\", \"RR\", \"DC\", \"KKR\", \"SRH\"], \"y\": [12, 13, 10, 11, 10, 6, 16, 5]}],\n",
       "                        {\"showlegend\": false, \"title\": {\"text\": \"MI vs Different teams\"}, \"xaxis\": {\"tickangle\": -45, \"tickmode\": \"linear\", \"title\": {\"font\": {\"size\": 16}, \"text\": \"Teams\"}}, \"yaxis\": {\"tickfont\": {\"size\": 14}, \"title\": {\"font\": {\"size\": 16}, \"text\": \"Number Of Wins\"}}},\n",
       "                        {\"showLink\": false, \"linkText\": \"Export to plot.ly\", \"plotlyServerURL\": \"https://plot.ly\", \"responsive\": true}\n",
       "                    ).then(function(){\n",
       "                            \n",
       "var gd = document.getElementById('7870da53-6b0a-44d2-b454-48160b3e3a32');\n",
       "var x = new MutationObserver(function (mutations, observer) {{\n",
       "        var display = window.getComputedStyle(gd).display;\n",
       "        if (!display || display === 'none') {{\n",
       "            console.log([gd, 'removed!']);\n",
       "            Plotly.purge(gd);\n",
       "            observer.disconnect();\n",
       "        }}\n",
       "}});\n",
       "\n",
       "// Listen for the removal of the full notebook cells\n",
       "var notebookContainer = gd.closest('#notebook-container');\n",
       "if (notebookContainer) {{\n",
       "    x.observe(notebookContainer, {childList: true});\n",
       "}}\n",
       "\n",
       "// Listen for the clearing of the current output cell\n",
       "var outputEl = gd.closest('.output');\n",
       "if (outputEl) {{\n",
       "    x.observe(outputEl, {childList: true});\n",
       "}}\n",
       "\n",
       "                        })\n",
       "                };\n",
       "                });\n",
       "            </script>\n",
       "        </div>"
      ]
     },
     "metadata": {},
     "output_type": "display_data"
    }
   ],
   "source": [
    "data = [go.Bar(\n",
    "            x=labelss,\n",
    "            y=teams_loss,\n",
    "            marker=dict(color=['#F9F606','#FF0000','#FB5304','#4404FB','#FB04D9','#0939FA','#000000','#FA9B09']), \n",
    "            name=\"Wins\",            \n",
    "    )]\n",
    "layout = go.Layout(\n",
    "    showlegend=False,\n",
    "    xaxis=dict(tickangle=-45,tickmode='linear',title='Teams', titlefont=dict(\n",
    "            size=16,\n",
    "        \n",
    "        )),title='MI vs Different teams',   \n",
    "         yaxis=dict(\n",
    "        title='Number Of Wins',\n",
    "        titlefont=dict(\n",
    "            size=16\n",
    "        ),\n",
    "        tickfont=dict(\n",
    "            size=14\n",
    "        )\n",
    "    ),\n",
    ")\n",
    "fig = go.Figure(data=data, layout=layout)\n",
    "iplot(fig, filename='style-bar',show_link=False)"
   ]
  },
  {
   "cell_type": "markdown",
   "metadata": {},
   "source": [
    "<b>It would be better if instead of number of wins we used win percentage</b>"
   ]
  },
  {
   "cell_type": "code",
   "execution_count": 31,
   "metadata": {},
   "outputs": [],
   "source": [
    "csk_matches=len(df_mi_matches[(df_mi_matches.team1_id =='CSK') | (df_mi_matches.team2_id=='CSK')]) \n",
    "rcb_matches=len(df_mi_matches[(df_mi_matches.team1_id =='RCB') | (df_mi_matches.team2_id=='RCB')]) \n",
    "kxi_matches=len(df_mi_matches[(df_mi_matches.team1_id =='KXI') | (df_mi_matches.team2_id=='KXI')])\n",
    "dd_matches=len(df_mi_matches[(df_mi_matches.team1_id =='DD') | (df_mi_matches.team2_id=='DD')])\n",
    "rr_matches=len(df_mi_matches[(df_mi_matches.team1_id =='RR') | (df_mi_matches.team2_id=='RR')])\n",
    "dc_matches=len(df_mi_matches[(df_mi_matches.team1_id =='DC') | (df_mi_matches.team2_id=='DC')])\n",
    "kkr_matches=len(df_mi_matches[(df_mi_matches.team1_id =='KKR') | (df_mi_matches.team2_id=='KKR')])\n",
    "srh_matches=len(df_mi_matches[(df_mi_matches.team1_id =='SRH') | (df_mi_matches.team2_id=='SRH')])\n",
    "teams_matches=[csk_matches,rcb_matches,kxi_matches,dd_matches,rr_matches,dc_matches,kkr_matches,srh_matches]\n",
    "labelss=['CSK','RCB','KXI','DD','RR','DC','KKR','SRH']"
   ]
  },
  {
   "cell_type": "code",
   "execution_count": 32,
   "metadata": {},
   "outputs": [],
   "source": [
    "res_list = [teams_loss[i]/teams_matches[i]*100 for i in range(len(teams_matches))]"
   ]
  },
  {
   "cell_type": "code",
   "execution_count": 35,
   "metadata": {},
   "outputs": [
    {
     "data": {
      "application/vnd.plotly.v1+json": {
       "config": {
        "linkText": "Export to plot.ly",
        "plotlyServerURL": "https://plot.ly",
        "showLink": false
       },
       "data": [
        {
         "marker": {
          "color": [
           "#F9F606",
           "#FF0000",
           "#FB5304",
           "#4404FB",
           "#FB04D9",
           "#0939FA",
           "#000000",
           "#FA9B09"
          ]
         },
         "name": "Wins",
         "type": "bar",
         "uid": "e5cf2f8e-7cbd-4fcc-b1d7-8e7581502a15",
         "x": [
          "CSK",
          "RCB",
          "KXI",
          "DD",
          "RR",
          "DC",
          "KKR",
          "SRH"
         ],
         "y": [
          54.54545454545454,
          61.904761904761905,
          50,
          55.00000000000001,
          62.5,
          60,
          76.19047619047619,
          50
         ]
        }
       ],
       "layout": {
        "showlegend": false,
        "title": {
         "text": "MI vs Different teams"
        },
        "xaxis": {
         "tickangle": -45,
         "tickmode": "linear",
         "title": {
          "font": {
           "size": 16
          },
          "text": "Teams"
         }
        },
        "yaxis": {
         "tickfont": {
          "size": 14
         },
         "title": {
          "font": {
           "size": 16
          },
          "text": "Win percentage"
         }
        }
       }
      },
      "text/html": [
       "<div>\n",
       "        \n",
       "        \n",
       "            <div id=\"69f6d09f-7380-42e5-a9af-16fc965aa0eb\" class=\"plotly-graph-div\" style=\"height:525px; width:100%;\"></div>\n",
       "            <script type=\"text/javascript\">\n",
       "                require([\"plotly\"], function(Plotly) {\n",
       "                    window.PLOTLYENV=window.PLOTLYENV || {};\n",
       "                    window.PLOTLYENV.BASE_URL='https://plot.ly';\n",
       "                    \n",
       "                if (document.getElementById(\"69f6d09f-7380-42e5-a9af-16fc965aa0eb\")) {\n",
       "                    Plotly.newPlot(\n",
       "                        '69f6d09f-7380-42e5-a9af-16fc965aa0eb',\n",
       "                        [{\"marker\": {\"color\": [\"#F9F606\", \"#FF0000\", \"#FB5304\", \"#4404FB\", \"#FB04D9\", \"#0939FA\", \"#000000\", \"#FA9B09\"]}, \"name\": \"Wins\", \"type\": \"bar\", \"uid\": \"e5cf2f8e-7cbd-4fcc-b1d7-8e7581502a15\", \"x\": [\"CSK\", \"RCB\", \"KXI\", \"DD\", \"RR\", \"DC\", \"KKR\", \"SRH\"], \"y\": [54.54545454545454, 61.904761904761905, 50.0, 55.00000000000001, 62.5, 60.0, 76.19047619047619, 50.0]}],\n",
       "                        {\"showlegend\": false, \"title\": {\"text\": \"MI vs Different teams\"}, \"xaxis\": {\"tickangle\": -45, \"tickmode\": \"linear\", \"title\": {\"font\": {\"size\": 16}, \"text\": \"Teams\"}}, \"yaxis\": {\"tickfont\": {\"size\": 14}, \"title\": {\"font\": {\"size\": 16}, \"text\": \"Win percentage\"}}},\n",
       "                        {\"showLink\": false, \"linkText\": \"Export to plot.ly\", \"plotlyServerURL\": \"https://plot.ly\", \"responsive\": true}\n",
       "                    ).then(function(){\n",
       "                            \n",
       "var gd = document.getElementById('69f6d09f-7380-42e5-a9af-16fc965aa0eb');\n",
       "var x = new MutationObserver(function (mutations, observer) {{\n",
       "        var display = window.getComputedStyle(gd).display;\n",
       "        if (!display || display === 'none') {{\n",
       "            console.log([gd, 'removed!']);\n",
       "            Plotly.purge(gd);\n",
       "            observer.disconnect();\n",
       "        }}\n",
       "}});\n",
       "\n",
       "// Listen for the removal of the full notebook cells\n",
       "var notebookContainer = gd.closest('#notebook-container');\n",
       "if (notebookContainer) {{\n",
       "    x.observe(notebookContainer, {childList: true});\n",
       "}}\n",
       "\n",
       "// Listen for the clearing of the current output cell\n",
       "var outputEl = gd.closest('.output');\n",
       "if (outputEl) {{\n",
       "    x.observe(outputEl, {childList: true});\n",
       "}}\n",
       "\n",
       "                        })\n",
       "                };\n",
       "                });\n",
       "            </script>\n",
       "        </div>"
      ]
     },
     "metadata": {},
     "output_type": "display_data"
    }
   ],
   "source": [
    "data = [go.Bar(\n",
    "            x=labelss,\n",
    "            y=res_list,\n",
    "            marker=dict(color=['#F9F606','#FF0000','#FB5304','#4404FB','#FB04D9','#0939FA','#000000','#FA9B09']), \n",
    "            name=\"Wins\",            \n",
    "    )]\n",
    "layout = go.Layout(\n",
    "    showlegend=False,\n",
    "    xaxis=dict(tickangle=-45,tickmode='linear',title='Teams', titlefont=dict(\n",
    "            size=16,\n",
    "        \n",
    "        )),title='MI vs Different teams',   \n",
    "         yaxis=dict(\n",
    "        title='Win percentage',\n",
    "        titlefont=dict(\n",
    "            size=16\n",
    "        ),\n",
    "        tickfont=dict(\n",
    "            size=14\n",
    "        )\n",
    "    ),\n",
    ")\n",
    "fig = go.Figure(data=data, layout=layout)\n",
    "iplot(fig, filename='style-bar',show_link=False)"
   ]
  },
  {
   "cell_type": "markdown",
   "metadata": {},
   "source": [
    "<b>MI has won 76 % matches against KKR. Complete dominance</b>"
   ]
  },
  {
   "cell_type": "code",
   "execution_count": null,
   "metadata": {},
   "outputs": [],
   "source": []
  }
 ],
 "metadata": {
  "kernelspec": {
   "display_name": "Python 3",
   "language": "python",
   "name": "python3"
  },
  "language_info": {
   "codemirror_mode": {
    "name": "ipython",
    "version": 3
   },
   "file_extension": ".py",
   "mimetype": "text/x-python",
   "name": "python",
   "nbconvert_exporter": "python",
   "pygments_lexer": "ipython3",
   "version": "3.7.3"
  }
 },
 "nbformat": 4,
 "nbformat_minor": 2
}
