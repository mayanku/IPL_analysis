{
 "cells": [
  {
   "cell_type": "code",
   "execution_count": 61,
   "metadata": {},
   "outputs": [],
   "source": [
    "#pandas and numpy package\n",
    "import pandas as pd\n",
    "import numpy as np"
   ]
  },
  {
   "cell_type": "code",
   "execution_count": 14,
   "metadata": {},
   "outputs": [],
   "source": [
    "#reading match_analysis\n",
    "df_match=pd.read_csv('C:/Users/Mayank Gupta/Desktop/IPL_analysis/Datasets/match_data.csv') "
   ]
  },
  {
   "cell_type": "code",
   "execution_count": 15,
   "metadata": {},
   "outputs": [],
   "source": [
    "#All the matches RCB played\n",
    "df_rcb=df_match[df_match.team1_id=='RCB'] \n",
    "df_rcb_2=df_match[df_match.team2_id=='RCB']\n",
    "df_rcb_matches=pd.concat([df_rcb,df_rcb_2]) #All the matches RCB played "
   ]
  },
  {
   "cell_type": "code",
   "execution_count": 16,
   "metadata": {},
   "outputs": [
    {
     "name": "stderr",
     "output_type": "stream",
     "text": [
      "C:\\Users\\Mayank Gupta\\AppData\\Local\\Continuum\\Anaconds\\anaconda3\\lib\\site-packages\\ipykernel_launcher.py:8: UserWarning: Boolean Series key will be reindexed to match DataFrame index.\n",
      "  \n"
     ]
    }
   ],
   "source": [
    "#to find the season wise wins of RCB\n",
    "import sys\n",
    "wins=[]\n",
    "season=[]\n",
    "for i in range(2008,2018):\n",
    "    seasonwisewins=df_rcb_matches[df_rcb_matches.season==i]\n",
    "    season.append(i)\n",
    "    wins.append(len(seasonwisewins[df_rcb_matches.winner=='RCB']))"
   ]
  },
  {
   "cell_type": "code",
   "execution_count": 17,
   "metadata": {},
   "outputs": [],
   "source": [
    "dictionary_rcb_wins = dict(zip(season, wins)) #dictionary containing season and number wins"
   ]
  },
  {
   "cell_type": "code",
   "execution_count": 18,
   "metadata": {},
   "outputs": [
    {
     "data": {
      "text/plain": [
       "{2008: 4,\n",
       " 2009: 9,\n",
       " 2010: 8,\n",
       " 2011: 10,\n",
       " 2012: 8,\n",
       " 2013: 9,\n",
       " 2014: 5,\n",
       " 2015: 8,\n",
       " 2016: 9,\n",
       " 2017: 3}"
      ]
     },
     "execution_count": 18,
     "metadata": {},
     "output_type": "execute_result"
    }
   ],
   "source": [
    "dictionary_rcb_wins"
   ]
  },
  {
   "cell_type": "code",
   "execution_count": 19,
   "metadata": {},
   "outputs": [],
   "source": [
    "season=list(map(str,season)) #convert list of int to list of strings"
   ]
  },
  {
   "cell_type": "markdown",
   "metadata": {},
   "source": [
    "<b>Clearly we can see that 2009,2011 and 2016 were the best seasons for RCB let us see why this was the case. We will start season by season and later see why it has failed badly from previous 2 seasons. </b>"
   ]
  },
  {
   "cell_type": "code",
   "execution_count": 34,
   "metadata": {},
   "outputs": [
    {
     "data": {
      "image/png": "[encoded data removed]",
      "text/plain": [
       "<Figure size 432x288 with 1 Axes>"
      ]
     },
     "metadata": {
      "needs_background": "light"
     },
     "output_type": "display_data"
    }
   ],
   "source": [
    "import matplotlib.pyplot as plt\n",
    "%matplotlib inline\n",
    "\n",
    "names = list(dictionary_rcb_wins.keys())\n",
    "values = list(dictionary_rcb_wins.values())\n",
    "\n",
    "#tick_label does the some work as plt.xticks()\n",
    "plt.bar(range(len(dictionary_rcb_wins)),values,tick_label=names,color='red')\n",
    "plt.show()"
   ]
  },
  {
   "cell_type": "code",
   "execution_count": 36,
   "metadata": {},
   "outputs": [
    {
     "data": {
      "text/html": [
       "        <script type=\"text/javascript\">\n",
       "        window.PlotlyConfig = {MathJaxConfig: 'local'};\n",
       "        if (window.MathJax) {MathJax.Hub.Config({SVG: {font: \"STIX-Web\"}});}\n",
       "        if (typeof require !== 'undefined') {\n",
       "        require.undef(\"plotly\");\n",
       "        requirejs.config({\n",
       "            paths: {\n",
       "                'plotly': ['https://cdn.plot.ly/plotly-latest.min']\n",
       "            }\n",
       "        });\n",
       "        require(['plotly'], function(Plotly) {\n",
       "            window._Plotly = Plotly;\n",
       "        });\n",
       "        }\n",
       "        </script>\n",
       "        "
      ]
     },
     "metadata": {},
     "output_type": "display_data"
    },
    {
     "data": {
      "text/html": [
       "        <script type=\"text/javascript\">\n",
       "        window.PlotlyConfig = {MathJaxConfig: 'local'};\n",
       "        if (window.MathJax) {MathJax.Hub.Config({SVG: {font: \"STIX-Web\"}});}\n",
       "        if (typeof require !== 'undefined') {\n",
       "        require.undef(\"plotly\");\n",
       "        requirejs.config({\n",
       "            paths: {\n",
       "                'plotly': ['https://cdn.plot.ly/plotly-latest.min']\n",
       "            }\n",
       "        });\n",
       "        require(['plotly'], function(Plotly) {\n",
       "            window._Plotly = Plotly;\n",
       "        });\n",
       "        }\n",
       "        </script>\n",
       "        "
      ]
     },
     "metadata": {},
     "output_type": "display_data"
    }
   ],
   "source": [
    "# Standard plotly imports\n",
    "import chart_studio \n",
    "import chart_studio.plotly as py\n",
    "import plotly.graph_objs as go\n",
    "from plotly.offline import iplot, init_notebook_mode,plot\n",
    "import cufflinks as cf\n",
    "cf.go_offline(connected=True)\n",
    "init_notebook_mode(connected=True)\n"
   ]
  },
  {
   "cell_type": "code",
   "execution_count": 37,
   "metadata": {},
   "outputs": [
    {
     "data": {
      "application/vnd.plotly.v1+json": {
       "config": {
        "linkText": "Export to plot.ly",
        "plotlyServerURL": "https://plot.ly",
        "showLink": true
       },
       "data": [
        {
         "line": {
          "color": "rgba(255, 153, 51, 1.0)",
          "dash": "solid",
          "shape": "linear",
          "width": 1.3
         },
         "mode": "lines",
         "name": "wins",
         "text": "",
         "type": "scatter",
         "uid": "5bc7529e-e07c-4e36-8ff8-4e8ead1ae6d7",
         "x": [
          2008,
          2009,
          2010,
          2011,
          2012,
          2013,
          2014,
          2015,
          2016,
          2017
         ],
         "y": [
          4,
          9,
          8,
          10,
          8,
          9,
          5,
          8,
          9,
          3
         ]
        }
       ],
       "layout": {
        "legend": {
         "bgcolor": "#F5F6F9",
         "font": {
          "color": "#4D5663"
         }
        },
        "paper_bgcolor": "#F5F6F9",
        "plot_bgcolor": "#F5F6F9",
        "title": {
         "font": {
          "color": "#4D5663"
         }
        },
        "xaxis": {
         "gridcolor": "#E1E5ED",
         "showgrid": true,
         "tickfont": {
          "color": "#4D5663"
         },
         "title": {
          "font": {
           "color": "#4D5663"
          },
          "text": ""
         },
         "zerolinecolor": "#E1E5ED"
        },
        "yaxis": {
         "gridcolor": "#E1E5ED",
         "showgrid": true,
         "tickfont": {
          "color": "#4D5663"
         },
         "title": {
          "font": {
           "color": "#4D5663"
          },
          "text": ""
         },
         "zerolinecolor": "#E1E5ED"
        }
       }
      },
      "text/html": [
       "<div>\n",
       "        \n",
       "        \n",
       "            <div id=\"4a348f94-e24c-442a-8a77-31781f6e9914\" class=\"plotly-graph-div\" style=\"height:525px; width:100%;\"></div>\n",
       "            <script type=\"text/javascript\">\n",
       "                require([\"plotly\"], function(Plotly) {\n",
       "                    window.PLOTLYENV=window.PLOTLYENV || {};\n",
       "                    window.PLOTLYENV.BASE_URL='https://plot.ly';\n",
       "                    \n",
       "                if (document.getElementById(\"4a348f94-e24c-442a-8a77-31781f6e9914\")) {\n",
       "                    Plotly.newPlot(\n",
       "                        '4a348f94-e24c-442a-8a77-31781f6e9914',\n",
       "                        [{\"line\": {\"color\": \"rgba(255, 153, 51, 1.0)\", \"dash\": \"solid\", \"shape\": \"linear\", \"width\": 1.3}, \"mode\": \"lines\", \"name\": \"wins\", \"text\": \"\", \"type\": \"scatter\", \"uid\": \"5bc7529e-e07c-4e36-8ff8-4e8ead1ae6d7\", \"x\": [2008, 2009, 2010, 2011, 2012, 2013, 2014, 2015, 2016, 2017], \"y\": [4, 9, 8, 10, 8, 9, 5, 8, 9, 3]}],\n",
       "                        {\"legend\": {\"bgcolor\": \"#F5F6F9\", \"font\": {\"color\": \"#4D5663\"}}, \"paper_bgcolor\": \"#F5F6F9\", \"plot_bgcolor\": \"#F5F6F9\", \"title\": {\"font\": {\"color\": \"#4D5663\"}}, \"xaxis\": {\"gridcolor\": \"#E1E5ED\", \"showgrid\": true, \"tickfont\": {\"color\": \"#4D5663\"}, \"title\": {\"font\": {\"color\": \"#4D5663\"}, \"text\": \"\"}, \"zerolinecolor\": \"#E1E5ED\"}, \"yaxis\": {\"gridcolor\": \"#E1E5ED\", \"showgrid\": true, \"tickfont\": {\"color\": \"#4D5663\"}, \"title\": {\"font\": {\"color\": \"#4D5663\"}, \"text\": \"\"}, \"zerolinecolor\": \"#E1E5ED\"}},\n",
       "                        {\"showLink\": true, \"linkText\": \"Export to plot.ly\", \"plotlyServerURL\": \"https://plot.ly\", \"responsive\": true}\n",
       "                    ).then(function(){\n",
       "                            \n",
       "var gd = document.getElementById('4a348f94-e24c-442a-8a77-31781f6e9914');\n",
       "var x = new MutationObserver(function (mutations, observer) {{\n",
       "        var display = window.getComputedStyle(gd).display;\n",
       "        if (!display || display === 'none') {{\n",
       "            console.log([gd, 'removed!']);\n",
       "            Plotly.purge(gd);\n",
       "            observer.disconnect();\n",
       "        }}\n",
       "}});\n",
       "\n",
       "// Listen for the removal of the full notebook cells\n",
       "var notebookContainer = gd.closest('#notebook-container');\n",
       "if (notebookContainer) {{\n",
       "    x.observe(notebookContainer, {childList: true});\n",
       "}}\n",
       "\n",
       "// Listen for the clearing of the current output cell\n",
       "var outputEl = gd.closest('.output');\n",
       "if (outputEl) {{\n",
       "    x.observe(outputEl, {childList: true});\n",
       "}}\n",
       "\n",
       "                        })\n",
       "                };\n",
       "                });\n",
       "            </script>\n",
       "        </div>"
      ]
     },
     "metadata": {},
     "output_type": "display_data"
    }
   ],
   "source": [
    "df['wins'].iplot()"
   ]
  },
  {
   "cell_type": "code",
   "execution_count": 39,
   "metadata": {},
   "outputs": [
    {
     "data": {
      "application/vnd.plotly.v1+json": {
       "config": {
        "linkText": "Export to plot.ly",
        "plotlyServerURL": "https://plot.ly",
        "showLink": false
       },
       "data": [
        {
         "marker": {
          "color": "#FF0000"
         },
         "name": "Wins",
         "type": "bar",
         "uid": "e98f08a2-ee8a-443b-a282-19e2764f1e0c",
         "x": [
          2008,
          2009,
          2010,
          2011,
          2012,
          2013,
          2014,
          2015,
          2016,
          2017
         ],
         "y": [
          4,
          9,
          8,
          10,
          8,
          9,
          5,
          8,
          9,
          3
         ]
        }
       ],
       "layout": {
        "showlegend": false,
        "title": {
         "text": "Season Wise Wins"
        },
        "xaxis": {
         "tickangle": -45,
         "tickmode": "linear",
         "title": {
          "font": {
           "color": "rgb(107, 107, 107)",
           "size": 16
          },
          "text": "Year"
         }
        },
        "yaxis": {
         "tickfont": {
          "color": "rgb(107, 107, 107)",
          "size": 14
         },
         "title": {
          "font": {
           "color": "rgb(107, 107, 107)",
           "size": 16
          },
          "text": "Number Of Wins"
         }
        }
       }
      },
      "text/html": [
       "<div>\n",
       "        \n",
       "        \n",
       "            <div id=\"f3372a3e-9b37-49cd-837a-318955ab8bfc\" class=\"plotly-graph-div\" style=\"height:525px; width:100%;\"></div>\n",
       "            <script type=\"text/javascript\">\n",
       "                require([\"plotly\"], function(Plotly) {\n",
       "                    window.PLOTLYENV=window.PLOTLYENV || {};\n",
       "                    window.PLOTLYENV.BASE_URL='https://plot.ly';\n",
       "                    \n",
       "                if (document.getElementById(\"f3372a3e-9b37-49cd-837a-318955ab8bfc\")) {\n",
       "                    Plotly.newPlot(\n",
       "                        'f3372a3e-9b37-49cd-837a-318955ab8bfc',\n",
       "                        [{\"marker\": {\"color\": \"#FF0000\"}, \"name\": \"Wins\", \"type\": \"bar\", \"uid\": \"e98f08a2-ee8a-443b-a282-19e2764f1e0c\", \"x\": [2008, 2009, 2010, 2011, 2012, 2013, 2014, 2015, 2016, 2017], \"y\": [4, 9, 8, 10, 8, 9, 5, 8, 9, 3]}],\n",
       "                        {\"showlegend\": false, \"title\": {\"text\": \"Season Wise Wins\"}, \"xaxis\": {\"tickangle\": -45, \"tickmode\": \"linear\", \"title\": {\"font\": {\"color\": \"rgb(107, 107, 107)\", \"size\": 16}, \"text\": \"Year\"}}, \"yaxis\": {\"tickfont\": {\"color\": \"rgb(107, 107, 107)\", \"size\": 14}, \"title\": {\"font\": {\"color\": \"rgb(107, 107, 107)\", \"size\": 16}, \"text\": \"Number Of Wins\"}}},\n",
       "                        {\"showLink\": false, \"linkText\": \"Export to plot.ly\", \"plotlyServerURL\": \"https://plot.ly\", \"responsive\": true}\n",
       "                    ).then(function(){\n",
       "                            \n",
       "var gd = document.getElementById('f3372a3e-9b37-49cd-837a-318955ab8bfc');\n",
       "var x = new MutationObserver(function (mutations, observer) {{\n",
       "        var display = window.getComputedStyle(gd).display;\n",
       "        if (!display || display === 'none') {{\n",
       "            console.log([gd, 'removed!']);\n",
       "            Plotly.purge(gd);\n",
       "            observer.disconnect();\n",
       "        }}\n",
       "}});\n",
       "\n",
       "// Listen for the removal of the full notebook cells\n",
       "var notebookContainer = gd.closest('#notebook-container');\n",
       "if (notebookContainer) {{\n",
       "    x.observe(notebookContainer, {childList: true});\n",
       "}}\n",
       "\n",
       "// Listen for the clearing of the current output cell\n",
       "var outputEl = gd.closest('.output');\n",
       "if (outputEl) {{\n",
       "    x.observe(outputEl, {childList: true});\n",
       "}}\n",
       "\n",
       "                        })\n",
       "                };\n",
       "                });\n",
       "            </script>\n",
       "        </div>"
      ]
     },
     "metadata": {},
     "output_type": "display_data"
    }
   ],
   "source": [
    "data = [go.Bar(\n",
    "            x=names,\n",
    "            y=values,\n",
    "            marker=dict(color='#FF0000'), \n",
    "            name=\"Wins\",\n",
    "            \n",
    "    )]\n",
    "layout = go.Layout(\n",
    "    showlegend=False,\n",
    "    xaxis=dict(tickangle=-45,tickmode='linear',title='Year', titlefont=dict(\n",
    "            size=16,\n",
    "            color='rgb(107, 107, 107)'\n",
    "        )),title='Season Wise Wins',   \n",
    "         yaxis=dict(\n",
    "        title='Number Of Wins',\n",
    "        titlefont=dict(\n",
    "            size=16,\n",
    "            color='rgb(107, 107, 107)'\n",
    "        ),\n",
    "        tickfont=dict(\n",
    "            size=14,\n",
    "            color='rgb(107, 107, 107)'\n",
    "        )\n",
    "    ),\n",
    ")\n",
    "fig = go.Figure(data=data, layout=layout)\n",
    "\n",
    "iplot(fig, filename='style-bar')"
   ]
  },
  {
   "cell_type": "markdown",
   "metadata": {},
   "source": [
    "<b>Let us see RCB performance in and away from home Did it had a huge impact on their success Let us Find Out..</b>"
   ]
  },
  {
   "cell_type": "code",
   "execution_count": 41,
   "metadata": {},
   "outputs": [
    {
     "data": {
      "application/vnd.plotly.v1+json": {
       "config": {
        "linkText": "Export to plot.ly",
        "plotlyServerURL": "https://plot.ly",
        "showLink": false
       },
       "data": [
        {
         "labels": [
          "Home Wins",
          "Away Wins"
         ],
         "type": "pie",
         "uid": "02e48356-26a5-441c-b59d-2bf532ec7e82",
         "values": [
          30,
          43
         ]
        }
       ],
       "layout": {}
      },
      "text/html": [
       "<div>\n",
       "        \n",
       "        \n",
       "            <div id=\"a6579048-c0ce-4e59-8de6-e61ffd32a488\" class=\"plotly-graph-div\" style=\"height:525px; width:100%;\"></div>\n",
       "            <script type=\"text/javascript\">\n",
       "                require([\"plotly\"], function(Plotly) {\n",
       "                    window.PLOTLYENV=window.PLOTLYENV || {};\n",
       "                    window.PLOTLYENV.BASE_URL='https://plot.ly';\n",
       "                    \n",
       "                if (document.getElementById(\"a6579048-c0ce-4e59-8de6-e61ffd32a488\")) {\n",
       "                    Plotly.newPlot(\n",
       "                        'a6579048-c0ce-4e59-8de6-e61ffd32a488',\n",
       "                        [{\"labels\": [\"Home Wins\", \"Away Wins\"], \"type\": \"pie\", \"uid\": \"02e48356-26a5-441c-b59d-2bf532ec7e82\", \"values\": [30, 43]}],\n",
       "                        {},\n",
       "                        {\"showLink\": false, \"linkText\": \"Export to plot.ly\", \"plotlyServerURL\": \"https://plot.ly\", \"responsive\": true}\n",
       "                    ).then(function(){\n",
       "                            \n",
       "var gd = document.getElementById('a6579048-c0ce-4e59-8de6-e61ffd32a488');\n",
       "var x = new MutationObserver(function (mutations, observer) {{\n",
       "        var display = window.getComputedStyle(gd).display;\n",
       "        if (!display || display === 'none') {{\n",
       "            console.log([gd, 'removed!']);\n",
       "            Plotly.purge(gd);\n",
       "            observer.disconnect();\n",
       "        }}\n",
       "}});\n",
       "\n",
       "// Listen for the removal of the full notebook cells\n",
       "var notebookContainer = gd.closest('#notebook-container');\n",
       "if (notebookContainer) {{\n",
       "    x.observe(notebookContainer, {childList: true});\n",
       "}}\n",
       "\n",
       "// Listen for the clearing of the current output cell\n",
       "var outputEl = gd.closest('.output');\n",
       "if (outputEl) {{\n",
       "    x.observe(outputEl, {childList: true});\n",
       "}}\n",
       "\n",
       "                        })\n",
       "                };\n",
       "                });\n",
       "            </script>\n",
       "        </div>"
      ]
     },
     "metadata": {},
     "output_type": "display_data"
    }
   ],
   "source": [
    "wins=df_rcb_matches[df_rcb_matches.winner=='RCB']  \n",
    "wins_At_home=wins[wins.city=='Bangalore']\n",
    "count_home=len(wins_At_home)\n",
    "wins_away=wins[wins.city!='Bangalore']\n",
    "count_away=len(wins_away)\n",
    "labels = ['Home Wins','Away Wins']\n",
    "values = [count_home,count_away]\n",
    "trace = go.Pie(labels=labels, values=values)\n",
    "iplot([trace], filename='basic_pie_chart',show_link=False)"
   ]
  },
  {
   "cell_type": "markdown",
   "metadata": {},
   "source": [
    "<b>Of all the matches RCB won there 59% wins were from away games <br>Now Let us see toss dependency on RCB success</b>"
   ]
  },
  {
   "cell_type": "code",
   "execution_count": 43,
   "metadata": {},
   "outputs": [
    {
     "data": {
      "text/plain": [
       "35"
      ]
     },
     "execution_count": 43,
     "metadata": {},
     "output_type": "execute_result"
    }
   ],
   "source": [
    "toss_wins_match=wins[wins.toss_winner=='RCB']\n",
    "len(toss_wins_match)\n"
   ]
  },
  {
   "cell_type": "code",
   "execution_count": 44,
   "metadata": {},
   "outputs": [
    {
     "data": {
      "text/plain": [
       "38"
      ]
     },
     "execution_count": 44,
     "metadata": {},
     "output_type": "execute_result"
    }
   ],
   "source": [
    "loss_wins_match=wins[wins.toss_winner!='RCB']\n",
    "len(loss_wins_match)"
   ]
  },
  {
   "cell_type": "markdown",
   "metadata": {},
   "source": [
    "<b>Toss doesnot matter much for RCB. They have won 35 matches when the won the toss and 38 while losing the toss</b>"
   ]
  },
  {
   "cell_type": "code",
   "execution_count": 45,
   "metadata": {},
   "outputs": [],
   "source": [
    "matches_won_batting_first=wins[wins.win_by_runs>0]\n",
    "batting_first=len(matches_won_batting_first)\n",
    "matches_won_chasing=wins[wins.win_by_wickets>0]\n",
    "batting_second=len(matches_won_chasing)"
   ]
  },
  {
   "cell_type": "code",
   "execution_count": 46,
   "metadata": {},
   "outputs": [
    {
     "name": "stdout",
     "output_type": "stream",
     "text": [
      "30\n",
      "42\n"
     ]
    }
   ],
   "source": [
    "print(batting_first)\n",
    "print(batting_second)"
   ]
  },
  {
   "cell_type": "markdown",
   "metadata": {},
   "source": [
    "<b>So RCB has won 30 matches batting first and 42 matches while chasing. Let us see what happened in last 4 seasons</b>"
   ]
  },
  {
   "cell_type": "code",
   "execution_count": 47,
   "metadata": {},
   "outputs": [],
   "source": [
    "wins_season_2014=wins[wins.season==2014]\n",
    "wins_season_2015=wins[wins.season==2015]\n",
    "wins_season_2016=wins[wins.season==2016]\n",
    "wins_season_2017=wins[wins.season==2017]\n",
    "wins_last_4_seasons=pd.concat([wins_season_2014,wins_season_2015,wins_season_2016,wins_season_2017])"
   ]
  },
  {
   "cell_type": "code",
   "execution_count": 48,
   "metadata": {},
   "outputs": [],
   "source": [
    "matches_won_batting_first=wins_last_4_seasons[wins_last_4_seasons.win_by_runs>0]\n",
    "batting_first=len(matches_won_batting_first)\n",
    "matches_won_chasing=wins_last_4_seasons[wins_last_4_seasons.win_by_wickets>0]\n",
    "batting_second=len(matches_won_chasing)"
   ]
  },
  {
   "cell_type": "code",
   "execution_count": 49,
   "metadata": {},
   "outputs": [
    {
     "name": "stdout",
     "output_type": "stream",
     "text": [
      "12\n",
      "13\n"
     ]
    }
   ],
   "source": [
    "print(batting_first)\n",
    "print(batting_second)"
   ]
  },
  {
   "cell_type": "markdown",
   "metadata": {},
   "source": [
    "<b>In last four seasons RCB has won 13 matches while chasing and 12 while batting first. So batting first or second didnot matter much in RCB success</b>"
   ]
  },
  {
   "cell_type": "code",
   "execution_count": 50,
   "metadata": {},
   "outputs": [],
   "source": [
    "man_of_the_match=wins_last_4_seasons['player_of_match'].value_counts()"
   ]
  },
  {
   "cell_type": "code",
   "execution_count": 51,
   "metadata": {},
   "outputs": [
    {
     "data": {
      "image/png": "[encoded data removed]",
      "text/plain": [
       "<Figure size 720x216 with 1 Axes>"
      ]
     },
     "metadata": {
      "needs_background": "light"
     },
     "output_type": "display_data"
    }
   ],
   "source": [
    "man_of_the_match.plot.bar(figsize=(10,3),xticks=man_of_the_match,yticks=man_of_the_match)\n",
    "plt.show()"
   ]
  },
  {
   "cell_type": "code",
   "execution_count": 52,
   "metadata": {},
   "outputs": [],
   "source": [
    "man_of_the_match_overall=wins['player_of_match'].value_counts()"
   ]
  },
  {
   "cell_type": "code",
   "execution_count": 55,
   "metadata": {},
   "outputs": [
    {
     "data": {
      "image/png": "[encoded data removed]",
      "text/plain": [
       "<Figure size 864x576 with 1 Axes>"
      ]
     },
     "metadata": {
      "needs_background": "light"
     },
     "output_type": "display_data"
    }
   ],
   "source": [
    "man_of_the_match_overall.plot.bar(figsize=(12,8),xticks=man_of_the_match_overall,yticks=man_of_the_match_overall,color='red')\n",
    "plt.show()"
   ]
  },
  {
   "cell_type": "markdown",
   "metadata": {},
   "source": [
    "<b>The Previous two graphs shows RCB dependency on their Three batsman Chris Gayle, AB Devilleres and Virat Kohli. Other than them there were not too many match winners specially in last 4 seasons and after dropping Gayle they are left with two. You cannot win games with just two players.</b>"
   ]
  },
  {
   "cell_type": "code",
   "execution_count": 56,
   "metadata": {},
   "outputs": [
    {
     "data": {
      "text/plain": [
       "array(['RCB', 'MI', 'DC', 'KKR', 'CSK', 'DD', 'KXI', 'RR', 'KTK', 'PW',\n",
       "       'SRH', 'RPS', 'GL'], dtype=object)"
      ]
     },
     "execution_count": 56,
     "metadata": {},
     "output_type": "execute_result"
    }
   ],
   "source": [
    "wins['team1_id'].unique()"
   ]
  },
  {
   "cell_type": "code",
   "execution_count": 57,
   "metadata": {},
   "outputs": [],
   "source": [
    "csk_loss=len(wins[(wins.team1_id =='CSK') | (wins.team2_id=='CSK')]) \n",
    "mi_loss=len(wins[(wins.team1_id =='MI') | (wins.team2_id=='MI')]) \n",
    "kxi_loss=len(wins[(wins.team1_id =='KXI') | (wins.team2_id=='KXI')])\n",
    "dd_loss=len(wins[(wins.team1_id =='DD') | (wins.team2_id=='DD')])\n",
    "rr_loss=len(wins[(wins.team1_id =='RR') | (wins.team2_id=='RR')])\n",
    "dc_loss=len(wins[(wins.team1_id =='DC') | (wins.team2_id=='DC')])\n",
    "kkr_loss=len(wins[(wins.team1_id =='KKR') | (wins.team2_id=='KKR')])\n",
    "srh_loss=len(wins[(wins.team1_id =='SRH') | (wins.team2_id=='SRH')])\n",
    "teams_loss=[csk_loss,mi_loss,kxi_loss,dd_loss,rr_loss,dc_loss,kkr_loss,srh_loss]\n",
    "labelss=['CSK','MI','KXI','DD','RR','DC','KKR','SRH']"
   ]
  },
  {
   "cell_type": "code",
   "execution_count": 58,
   "metadata": {},
   "outputs": [
    {
     "data": {
      "application/vnd.plotly.v1+json": {
       "config": {
        "linkText": "Export to plot.ly",
        "plotlyServerURL": "https://plot.ly",
        "showLink": false
       },
       "data": [
        {
         "marker": {
          "color": [
           "#F9F606",
           "#0983FC",
           "#FB5304",
           "#4404FB",
           "#FB04D9",
           "#0939FA",
           "#000000",
           "#FA9B09"
          ]
         },
         "name": "Wins",
         "type": "bar",
         "uid": "33cc4739-fb36-4440-9eae-66937309e2c6",
         "x": [
          "CSK",
          "MI",
          "KXI",
          "DD",
          "RR",
          "DC",
          "KKR",
          "SRH"
         ],
         "y": [
          7,
          8,
          8,
          12,
          8,
          5,
          9,
          4
         ]
        }
       ],
       "layout": {
        "showlegend": false,
        "title": {
         "text": "RCB vs Different teams"
        },
        "xaxis": {
         "tickangle": -45,
         "tickmode": "linear",
         "title": {
          "font": {
           "size": 16
          },
          "text": "Teams"
         }
        },
        "yaxis": {
         "tickfont": {
          "size": 14
         },
         "title": {
          "font": {
           "size": 16
          },
          "text": "Number Of Wins"
         }
        }
       }
      },
      "text/html": [
       "<div>\n",
       "        \n",
       "        \n",
       "            <div id=\"94f29a60-bda4-409b-8bac-d0930927d298\" class=\"plotly-graph-div\" style=\"height:525px; width:100%;\"></div>\n",
       "            <script type=\"text/javascript\">\n",
       "                require([\"plotly\"], function(Plotly) {\n",
       "                    window.PLOTLYENV=window.PLOTLYENV || {};\n",
       "                    window.PLOTLYENV.BASE_URL='https://plot.ly';\n",
       "                    \n",
       "                if (document.getElementById(\"94f29a60-bda4-409b-8bac-d0930927d298\")) {\n",
       "                    Plotly.newPlot(\n",
       "                        '94f29a60-bda4-409b-8bac-d0930927d298',\n",
       "                        [{\"marker\": {\"color\": [\"#F9F606\", \"#0983FC\", \"#FB5304\", \"#4404FB\", \"#FB04D9\", \"#0939FA\", \"#000000\", \"#FA9B09\"]}, \"name\": \"Wins\", \"type\": \"bar\", \"uid\": \"33cc4739-fb36-4440-9eae-66937309e2c6\", \"x\": [\"CSK\", \"MI\", \"KXI\", \"DD\", \"RR\", \"DC\", \"KKR\", \"SRH\"], \"y\": [7, 8, 8, 12, 8, 5, 9, 4]}],\n",
       "                        {\"showlegend\": false, \"title\": {\"text\": \"RCB vs Different teams\"}, \"xaxis\": {\"tickangle\": -45, \"tickmode\": \"linear\", \"title\": {\"font\": {\"size\": 16}, \"text\": \"Teams\"}}, \"yaxis\": {\"tickfont\": {\"size\": 14}, \"title\": {\"font\": {\"size\": 16}, \"text\": \"Number Of Wins\"}}},\n",
       "                        {\"showLink\": false, \"linkText\": \"Export to plot.ly\", \"plotlyServerURL\": \"https://plot.ly\", \"responsive\": true}\n",
       "                    ).then(function(){\n",
       "                            \n",
       "var gd = document.getElementById('94f29a60-bda4-409b-8bac-d0930927d298');\n",
       "var x = new MutationObserver(function (mutations, observer) {{\n",
       "        var display = window.getComputedStyle(gd).display;\n",
       "        if (!display || display === 'none') {{\n",
       "            console.log([gd, 'removed!']);\n",
       "            Plotly.purge(gd);\n",
       "            observer.disconnect();\n",
       "        }}\n",
       "}});\n",
       "\n",
       "// Listen for the removal of the full notebook cells\n",
       "var notebookContainer = gd.closest('#notebook-container');\n",
       "if (notebookContainer) {{\n",
       "    x.observe(notebookContainer, {childList: true});\n",
       "}}\n",
       "\n",
       "// Listen for the clearing of the current output cell\n",
       "var outputEl = gd.closest('.output');\n",
       "if (outputEl) {{\n",
       "    x.observe(outputEl, {childList: true});\n",
       "}}\n",
       "\n",
       "                        })\n",
       "                };\n",
       "                });\n",
       "            </script>\n",
       "        </div>"
      ]
     },
     "metadata": {},
     "output_type": "display_data"
    }
   ],
   "source": [
    "data = [go.Bar(\n",
    "            x=labelss,\n",
    "            y=teams_loss,\n",
    "            marker=dict(color=['#F9F606','#0983FC','#FB5304','#4404FB','#FB04D9','#0939FA','#000000','#FA9B09']), \n",
    "            name=\"Wins\",            \n",
    "    )]\n",
    "layout = go.Layout(\n",
    "    showlegend=False,\n",
    "    xaxis=dict(tickangle=-45,tickmode='linear',title='Teams', titlefont=dict(\n",
    "            size=16,\n",
    "        \n",
    "        )),title='RCB vs Different teams',   \n",
    "         yaxis=dict(\n",
    "        title='Number Of Wins',\n",
    "        titlefont=dict(\n",
    "            size=16\n",
    "        ),\n",
    "        tickfont=dict(\n",
    "            size=14\n",
    "        )\n",
    "    ),\n",
    ")\n",
    "fig = go.Figure(data=data, layout=layout)\n",
    "iplot(fig, filename='style-bar',show_link=False)"
   ]
  },
  {
   "cell_type": "markdown",
   "metadata": {},
   "source": [
    "<b>It would be better if instead of number of wins we used win percentage</b>"
   ]
  },
  {
   "cell_type": "code",
   "execution_count": 62,
   "metadata": {},
   "outputs": [],
   "source": [
    "csk_matches=len(df_rcb_matches[(df_rcb_matches.team1_id =='CSK') | (df_rcb_matches.team2_id=='CSK')]) \n",
    "mi_matches=len(df_rcb_matches[(df_rcb_matches.team1_id =='MI') | (df_rcb_matches.team2_id=='MI')]) \n",
    "kxi_matches=len(df_rcb_matches[(df_rcb_matches.team1_id =='KXI') | (df_rcb_matches.team2_id=='KXI')])\n",
    "dd_matches=len(df_rcb_matches[(df_rcb_matches.team1_id =='DD') | (df_rcb_matches.team2_id=='DD')])\n",
    "rr_matches=len(df_rcb_matches[(df_rcb_matches.team1_id =='RR') | (df_rcb_matches.team2_id=='RR')])\n",
    "dc_matches=len(df_rcb_matches[(df_rcb_matches.team1_id =='DC') | (df_rcb_matches.team2_id=='DC')])\n",
    "kkr_matches=len(df_rcb_matches[(df_rcb_matches.team1_id =='KKR') | (df_rcb_matches.team2_id=='KKR')])\n",
    "srh_matches=len(df_rcb_matches[(df_rcb_matches.team1_id =='SRH') | (df_rcb_matches.team2_id=='SRH')])\n",
    "teams_matches=[csk_matches,mi_matches,kxi_matches,dd_matches,rr_matches,dc_matches,kkr_matches,srh_matches]\n",
    "labelss=['CSK','MI','KXI','DD','RR','DC','KKR','SRH']"
   ]
  },
  {
   "cell_type": "code",
   "execution_count": 63,
   "metadata": {},
   "outputs": [],
   "source": [
    "res_list = [teams_loss[i]/teams_matches[i]*100 for i in range(len(teams_matches))]"
   ]
  },
  {
   "cell_type": "code",
   "execution_count": 65,
   "metadata": {},
   "outputs": [
    {
     "data": {
      "application/vnd.plotly.v1+json": {
       "config": {
        "linkText": "Export to plot.ly",
        "plotlyServerURL": "https://plot.ly",
        "showLink": false
       },
       "data": [
        {
         "marker": {
          "color": [
           "#F9F606",
           "#0983FC",
           "#FB5304",
           "#4404FB",
           "#FB04D9",
           "#0939FA",
           "#000000",
           "#FA9B09"
          ]
         },
         "name": "Wins",
         "type": "bar",
         "uid": "cecec6c3-78dd-44ad-bd74-258bc5e72513",
         "x": [
          "CSK",
          "MI",
          "KXI",
          "DD",
          "RR",
          "DC",
          "KKR",
          "SRH"
         ],
         "y": [
          36.84210526315789,
          38.095238095238095,
          40,
          63.1578947368421,
          50,
          45.45454545454545,
          45,
          40
         ]
        }
       ],
       "layout": {
        "showlegend": false,
        "title": {
         "text": "RCB vs Different teams"
        },
        "xaxis": {
         "tickangle": -45,
         "tickmode": "linear",
         "title": {
          "font": {
           "size": 16
          },
          "text": "Teams"
         }
        },
        "yaxis": {
         "tickfont": {
          "size": 14
         },
         "title": {
          "font": {
           "size": 16
          },
          "text": "Win percentage"
         }
        }
       }
      },
      "text/html": [
       "<div>\n",
       "        \n",
       "        \n",
       "            <div id=\"6e051b81-e178-4a54-b706-b59211b87441\" class=\"plotly-graph-div\" style=\"height:525px; width:100%;\"></div>\n",
       "            <script type=\"text/javascript\">\n",
       "                require([\"plotly\"], function(Plotly) {\n",
       "                    window.PLOTLYENV=window.PLOTLYENV || {};\n",
       "                    window.PLOTLYENV.BASE_URL='https://plot.ly';\n",
       "                    \n",
       "                if (document.getElementById(\"6e051b81-e178-4a54-b706-b59211b87441\")) {\n",
       "                    Plotly.newPlot(\n",
       "                        '6e051b81-e178-4a54-b706-b59211b87441',\n",
       "                        [{\"marker\": {\"color\": [\"#F9F606\", \"#0983FC\", \"#FB5304\", \"#4404FB\", \"#FB04D9\", \"#0939FA\", \"#000000\", \"#FA9B09\"]}, \"name\": \"Wins\", \"type\": \"bar\", \"uid\": \"cecec6c3-78dd-44ad-bd74-258bc5e72513\", \"x\": [\"CSK\", \"MI\", \"KXI\", \"DD\", \"RR\", \"DC\", \"KKR\", \"SRH\"], \"y\": [36.84210526315789, 38.095238095238095, 40.0, 63.1578947368421, 50.0, 45.45454545454545, 45.0, 40.0]}],\n",
       "                        {\"showlegend\": false, \"title\": {\"text\": \"RCB vs Different teams\"}, \"xaxis\": {\"tickangle\": -45, \"tickmode\": \"linear\", \"title\": {\"font\": {\"size\": 16}, \"text\": \"Teams\"}}, \"yaxis\": {\"tickfont\": {\"size\": 14}, \"title\": {\"font\": {\"size\": 16}, \"text\": \"Win percentage\"}}},\n",
       "                        {\"showLink\": false, \"linkText\": \"Export to plot.ly\", \"plotlyServerURL\": \"https://plot.ly\", \"responsive\": true}\n",
       "                    ).then(function(){\n",
       "                            \n",
       "var gd = document.getElementById('6e051b81-e178-4a54-b706-b59211b87441');\n",
       "var x = new MutationObserver(function (mutations, observer) {{\n",
       "        var display = window.getComputedStyle(gd).display;\n",
       "        if (!display || display === 'none') {{\n",
       "            console.log([gd, 'removed!']);\n",
       "            Plotly.purge(gd);\n",
       "            observer.disconnect();\n",
       "        }}\n",
       "}});\n",
       "\n",
       "// Listen for the removal of the full notebook cells\n",
       "var notebookContainer = gd.closest('#notebook-container');\n",
       "if (notebookContainer) {{\n",
       "    x.observe(notebookContainer, {childList: true});\n",
       "}}\n",
       "\n",
       "// Listen for the clearing of the current output cell\n",
       "var outputEl = gd.closest('.output');\n",
       "if (outputEl) {{\n",
       "    x.observe(outputEl, {childList: true});\n",
       "}}\n",
       "\n",
       "                        })\n",
       "                };\n",
       "                });\n",
       "            </script>\n",
       "        </div>"
      ]
     },
     "metadata": {},
     "output_type": "display_data"
    }
   ],
   "source": [
    "data = [go.Bar(\n",
    "            x=labelss,\n",
    "            y=res_list,\n",
    "            marker=dict(color=['#F9F606','#0983FC','#FB5304','#4404FB','#FB04D9','#0939FA','#000000','#FA9B09']), \n",
    "            name=\"Wins\",            \n",
    "    )]\n",
    "layout = go.Layout(\n",
    "    showlegend=False,\n",
    "    xaxis=dict(tickangle=-45,tickmode='linear',title='Teams', titlefont=dict(\n",
    "            size=16,\n",
    "        \n",
    "        )),title='RCB vs Different teams',   \n",
    "         yaxis=dict(\n",
    "        title='Win percentage',\n",
    "        titlefont=dict(\n",
    "            size=16\n",
    "        ),\n",
    "        tickfont=dict(\n",
    "            size=14\n",
    "        )\n",
    "    ),\n",
    ")\n",
    "fig = go.Figure(data=data, layout=layout)\n",
    "iplot(fig, filename='style-bar',show_link=False)"
   ]
  },
  {
   "cell_type": "markdown",
   "metadata": {},
   "source": [
    "<b>This gives a better insight of RCB performance against different teams we can see RCB has won 62 % games against DD and have lowest success rate against CSK</b>"
   ]
  },
  {
   "cell_type": "code",
   "execution_count": null,
   "metadata": {},
   "outputs": [],
   "source": []
  }
 ],
 "metadata": {
  "kernelspec": {
   "display_name": "Python 3",
   "language": "python",
   "name": "python3"
  },
  "language_info": {
   "codemirror_mode": {
    "name": "ipython",
    "version": 3
   },
   "file_extension": ".py",
   "mimetype": "text/x-python",
   "name": "python",
   "nbconvert_exporter": "python",
   "pygments_lexer": "ipython3",
   "version": "3.7.3"
  }
 },
 "nbformat": 4,
 "nbformat_minor": 2
}
